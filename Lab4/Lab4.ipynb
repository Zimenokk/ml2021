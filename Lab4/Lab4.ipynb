{
 "cells": [
  {
   "cell_type": "markdown",
   "metadata": {},
   "source": [
    "# Лабораторна робота *№4*\n",
    "# Студента групи МІТ-31 -  підгрупа 1\n",
    "# **Зименка Данііла Миколайовича**\n",
    "\n"
   ]
  },
  {
   "cell_type": "markdown",
   "metadata": {},
   "source": [
    "## Завдання\n",
    "1.  Здійснити загальні операції з використанням TensorFlow (створити набір даних (розмір за власним рішенням) у вигляді тензорів, провести CRUD операції над даними (скаляр, вектор, матриця)).\n",
    "\n",
    "2.  Згенерувати набір даних для регресії та класифікації з використанням TensorFlow\n",
    "\n",
    "3.  Здійснити графічний аналіз наборів даних за допомогою Matplotlib\n",
    "\n",
    "4.  Відповіді оформити .ipynb документом\n",
    "\n",
    "5.  Викласти у зазначений репозіторій GitHub в окремій папці з назвою Lab4 де має бути .ipynb файл та необхідні файли з даними"
   ]
  },
  {
   "cell_type": "code",
   "execution_count": 125,
   "metadata": {},
   "outputs": [],
   "source": [
    "import tensorflow as tf\n",
    "import matplotlib.pyplot as plt\n",
    "import numpy as np\n",
    "import pandas as pd\n",
    "from sklearn.datasets import make_circles"
   ]
  },
  {
   "cell_type": "code",
   "execution_count": 126,
   "metadata": {},
   "outputs": [
    {
     "name": "stdout",
     "output_type": "stream",
     "text": [
      "Скаляр: tf.Tensor(7, shape=(), dtype=int32)\n",
      "Вектор: tf.Tensor([ 2. 14. 45.], shape=(3,), dtype=float32)\n",
      "Матриця: tf.Tensor(\n",
      "[[ 1  2]\n",
      " [ 3  4]\n",
      " [13 65]\n",
      " [ 2 90]], shape=(4, 2), dtype=int32)\n"
     ]
    }
   ],
   "source": [
    "vr = tf.constant([2.0, 14, 45]) #операції з векторами\n",
    "mx = tf.constant([[1, 2], [3, 4], [13, 65], [2, 90]]) #оперії з матрицями\n",
    "sc = tf.constant(7) #скалярні операції\n",
    "print('Скаляр:' , sc)\n",
    "print('Вектор:', vr)\n",
    "print('Матриця:', mx)"
   ]
  },
  {
   "cell_type": "code",
   "execution_count": 127,
   "metadata": {},
   "outputs": [],
   "source": [
    "r2 = tf.random.Generator.from_seed(2)\n",
    "r2 = r2.normal(shape=(2, 5))\n",
    "\n",
    "r1 = tf.random.Generator.from_seed(2) \n",
    "r1 = r1.normal(shape=(2, 5))\n"
   ]
  },
  {
   "cell_type": "markdown",
   "metadata": {},
   "source": [
    "## Друге завдання"
   ]
  },
  {
   "cell_type": "code",
   "execution_count": 128,
   "metadata": {},
   "outputs": [
    {
     "name": "stdout",
     "output_type": "stream",
     "text": [
      "Ones: tf.Tensor(\n",
      "[[1. 1. 1. 1. 1. 1. 1. 1. 1.]\n",
      " [1. 1. 1. 1. 1. 1. 1. 1. 1.]\n",
      " [1. 1. 1. 1. 1. 1. 1. 1. 1.]], shape=(3, 9), dtype=float32)\n",
      "Zeros: tf.Tensor(\n",
      "[[[0. 0. 0. 0.]\n",
      "  [0. 0. 0. 0.]]], shape=(1, 2, 4), dtype=float32)\n"
     ]
    }
   ],
   "source": [
    "Ones = tf.ones([3, 9])\n",
    "Zeros = tf.zeros(shape=(1,2,4))\n",
    "print('Ones:', Ones)\n",
    "print('Zeros:', Zeros)"
   ]
  },
  {
   "cell_type": "code",
   "execution_count": 129,
   "metadata": {},
   "outputs": [
    {
     "data": {
      "text/plain": [
       "<tf.Variable 'UnreadVariable' shape=(2,) dtype=int32, numpy=array([12, 12])>"
      ]
     },
     "execution_count": 129,
     "metadata": {},
     "output_type": "execute_result"
    }
   ],
   "source": [
    "changeable_tensor = tf.Variable([5, 12]) #керована змінна\n",
    "unchangeable_tensor = tf.constant([5, 12])\n",
    "\n",
    "changeable_tensor[0].assign(12)"
   ]
  },
  {
   "cell_type": "code",
   "execution_count": 130,
   "metadata": {},
   "outputs": [
    {
     "name": "stdout",
     "output_type": "stream",
     "text": [
      "tf.Tensor(\n",
      "[[-0.1012345  -0.2744976   1.4204658   1.2609464  -0.43640924]\n",
      " [-1.9633987  -0.06452483 -1.056841    1.0019137   0.6735137 ]], shape=(2, 5), dtype=float32)\n",
      "tf.Tensor(\n",
      "[[-0.1012345  -0.2744976   1.4204658   1.2609464  -0.43640924]\n",
      " [-1.9633987  -0.06452483 -1.056841    1.0019137   0.6735137 ]], shape=(2, 5), dtype=float32)\n"
     ]
    }
   ],
   "source": [
    "r3 = tf.random.Generator.from_seed(2) \n",
    "r3 = r3.normal(shape=(2, 5))\n",
    "print(r3)\n",
    "\n",
    "tf.random.set_seed(13)\n",
    "tf.random.shuffle(r3, seed=13)\n",
    "print(r3)"
   ]
  },
  {
   "cell_type": "code",
   "execution_count": 131,
   "metadata": {},
   "outputs": [
    {
     "data": {
      "text/plain": [
       "<tf.Tensor: shape=(1, 3, 4, 5), dtype=float32, numpy=\n",
       "array([[[[0., 0., 0., 0., 0.],\n",
       "         [0., 0., 0., 0., 0.],\n",
       "         [0., 0., 0., 0., 0.],\n",
       "         [0., 0., 0., 0., 0.]],\n",
       "\n",
       "        [[0., 0., 0., 0., 0.],\n",
       "         [0., 0., 0., 0., 0.],\n",
       "         [0., 0., 0., 0., 0.],\n",
       "         [0., 0., 0., 0., 0.]],\n",
       "\n",
       "        [[0., 0., 0., 0., 0.],\n",
       "         [0., 0., 0., 0., 0.],\n",
       "         [0., 0., 0., 0., 0.],\n",
       "         [0., 0., 0., 0., 0.]]]], dtype=float32)>"
      ]
     },
     "execution_count": 131,
     "metadata": {},
     "output_type": "execute_result"
    }
   ],
   "source": [
    "rank4_tensor = tf.zeros(shape=[1, 3, 4, 5])\n",
    "\n",
    "rank4_tensor"
   ]
  },
  {
   "cell_type": "code",
   "execution_count": 132,
   "metadata": {},
   "outputs": [
    {
     "name": "stdout",
     "output_type": "stream",
     "text": [
      "Number of dimensions: 4\n",
      "Total number of elements in our tensor: 60\n",
      "Total number of elements in our tensor: tf.Tensor(60, shape=(), dtype=int32)\n",
      "Elements along the last axis: 5\n",
      "Shape of tensor: (1, 3, 4, 5)\n",
      "Datatype of every element: <dtype: 'float32'>\n",
      "Elements along the 0 axis: 1\n"
     ]
    }
   ],
   "source": [
    "rank4_tensor.shape, rank4_tensor.ndim, tf.size(rank4_tensor)\n",
    "print(\"Number of dimensions:\", rank4_tensor.ndim)\n",
    "\n",
    "\n",
    "print(\"Total number of elements in our tensor:\", tf.size(rank4_tensor).numpy())\n",
    "print(\"Total number of elements in our tensor:\", tf.size(rank4_tensor))\n",
    "\n",
    "\n",
    "print(\"Elements along the last axis:\", rank4_tensor.shape[-1])\n",
    "print(\"Shape of tensor:\", rank4_tensor.shape)\n",
    "print(\"Datatype of every element:\", rank4_tensor.dtype)\n",
    "\n",
    "\n",
    "print(\"Elements along the 0 axis:\", rank4_tensor.shape[0])"
   ]
  },
  {
   "cell_type": "code",
   "execution_count": 133,
   "metadata": {},
   "outputs": [
    {
     "name": "stdout",
     "output_type": "stream",
     "text": [
      "tf.Tensor(\n",
      "[[ 11  12]\n",
      " [ 13  14]\n",
      " [ 23  75]\n",
      " [ 12 100]], shape=(4, 2), dtype=int32) tf.Tensor(\n",
      "[[-11 -10]\n",
      " [ -9  -8]\n",
      " [  1  53]\n",
      " [-10  78]], shape=(4, 2), dtype=int32) tf.Tensor(\n",
      "[[  2   4]\n",
      " [  6   8]\n",
      " [ 26 130]\n",
      " [  4 180]], shape=(4, 2), dtype=int32)\n"
     ]
    }
   ],
   "source": [
    "print(mx + 10, mx - 12, mx * 2)\n",
    "\n",
    "\n"
   ]
  },
  {
   "cell_type": "code",
   "execution_count": 134,
   "metadata": {},
   "outputs": [
    {
     "name": "stdout",
     "output_type": "stream",
     "text": [
      "tf.Tensor(\n",
      "[[  3   6]\n",
      " [  9  12]\n",
      " [ 39 195]\n",
      " [  6 270]], shape=(4, 2), dtype=int32)\n"
     ]
    }
   ],
   "source": [
    "\n",
    "print(tf.multiply(mx, 3))"
   ]
  },
  {
   "cell_type": "code",
   "execution_count": 135,
   "metadata": {},
   "outputs": [],
   "source": [
    "def tf_delete(tensor,index,row=True):\n",
    "    \n",
    "\n",
    "    if row:\n",
    "        sub = list(range(tensor.shape[0]))\n",
    "    \n",
    "    else:\n",
    "        sub = list(range(tensor.shape[1]))\n",
    "    sub.pop(index)\n",
    "    \n",
    "\n",
    "    \n",
    "    if row:\n",
    "        return  tf.gather(tensor,sub)\n",
    "    return tf.transpose(tf.gather(tf.transpose(tensor),sub))\n",
    "    "
   ]
  },
  {
   "cell_type": "code",
   "execution_count": 136,
   "metadata": {},
   "outputs": [
    {
     "name": "stdout",
     "output_type": "stream",
     "text": [
      "tf.Tensor(\n",
      "[[ 1  2]\n",
      " [ 3  4]\n",
      " [13 65]\n",
      " [ 2 90]], shape=(4, 2), dtype=int32)\n",
      "tf.Tensor(\n",
      "[[ 1  2]\n",
      " [13 65]\n",
      " [ 2 90]], shape=(3, 2), dtype=int32)\n",
      "tf.Tensor(\n",
      "[[ 1]\n",
      " [13]\n",
      " [ 2]], shape=(3, 1), dtype=int32)\n"
     ]
    }
   ],
   "source": [
    "print(mx)\n",
    "mx = tf_delete(mx,1,row=True)\n",
    "print(mx)\n",
    "mx = tf_delete(mx,1,row=False)\n",
    "print(mx)"
   ]
  },
  {
   "cell_type": "code",
   "execution_count": 137,
   "metadata": {},
   "outputs": [
    {
     "data": {
      "image/png": "[encoded data removed]",
      "text/plain": [
       "<Figure size 432x288 with 1 Axes>"
      ]
     },
     "metadata": {
      "needs_background": "light"
     },
     "output_type": "display_data"
    }
   ],
   "source": [
    "my_laptop = tf.constant([\"mouse\", \"camera\", \"processor\", \"graphic card\", \"charger\"])\n",
    "prod_price = tf.constant([13550])\n",
    "my_laptop, prod_price\n",
    "\n",
    "X = np.array([-2.0, 0.0, 2.0, 4.0, 6.0, 8.0, 10.0, 12.0])\n",
    "y = np.array([5.0, 7.0, 9.0, 11.0, 13.0, 15.0, 17.0, 19.0])\n",
    "plt.scatter(X, y)\n",
    "\n",
    "\n",
    "input_shape = X[0].shape \n",
    "output_shape = y[0].shape"
   ]
  },
  {
   "cell_type": "code",
   "execution_count": 138,
   "metadata": {},
   "outputs": [],
   "source": [
    "X_train = X[:8]\n",
    "\n",
    "y_train = y[:8]\n",
    "\n",
    "\n",
    "\n",
    "X_test = X[0:]\n",
    "\n",
    "y_test = y[0:]"
   ]
  },
  {
   "cell_type": "markdown",
   "metadata": {},
   "source": [
    "## Робота з ТЗ рандом"
   ]
  },
  {
   "cell_type": "code",
   "execution_count": 139,
   "metadata": {},
   "outputs": [
    {
     "name": "stdout",
     "output_type": "stream",
     "text": [
      "Epoch 1/5\n",
      "1/1 [==============================] - 0s 178ms/step - loss: 10.2962 - mae: 10.2962\n",
      "Epoch 2/5\n",
      "1/1 [==============================] - 0s 3ms/step - loss: 10.0362 - mae: 10.0362\n",
      "Epoch 3/5\n",
      "1/1 [==============================] - 0s 2ms/step - loss: 9.7762 - mae: 9.7762\n",
      "Epoch 4/5\n",
      "1/1 [==============================] - 0s 995us/step - loss: 9.5162 - mae: 9.5162\n",
      "Epoch 5/5\n",
      "1/1 [==============================] - 0s 2ms/step - loss: 9.2562 - mae: 9.2562\n",
      "WARNING:tensorflow:6 out of the last 12 calls to <function Model.make_predict_function.<locals>.predict_function at 0x0000017559FD6EE0> triggered tf.function retracing. Tracing is expensive and the excessive number of tracings could be due to (1) creating @tf.function repeatedly in a loop, (2) passing tensors with different shapes, (3) passing Python objects instead of tensors. For (1), please define your @tf.function outside of the loop. For (2), @tf.function has experimental_relax_shapes=True option that relaxes argument shapes that can avoid unnecessary retracing. For (3), please refer to https://www.tensorflow.org/guide/function#controlling_retracing and https://www.tensorflow.org/api_docs/python/tf/function for  more details.\n"
     ]
    },
    {
     "data": {
      "text/plain": [
       "array([[9.502132]], dtype=float32)"
      ]
     },
     "execution_count": 139,
     "metadata": {},
     "output_type": "execute_result"
    }
   ],
   "source": [
    "tf.random.set_seed(13)\n",
    "\n",
    "model = tf.keras.Sequential([tf.keras.layers.Dense(1)])\n",
    "\n",
    "model.compile(loss=tf.keras.losses.mae, optimizer=tf.keras.optimizers.SGD(), metrics=[\"mae\"])\n",
    "\n",
    "model.fit(X, y, epochs=5)\n",
    "\n",
    "model.predict([16.0])\n"
   ]
  },
  {
   "cell_type": "code",
   "execution_count": 140,
   "metadata": {},
   "outputs": [
    {
     "data": {
      "text/plain": [
       "((1900, 2), (1900,))"
      ]
     },
     "execution_count": 140,
     "metadata": {},
     "output_type": "execute_result"
    }
   ],
   "source": [
    "n_samples = 1900\n",
    "\n",
    "X, y = make_circles(n_samples, noise=0.03, random_state=13)\n",
    "\n",
    "X.shape, y.shape\n"
   ]
  },
  {
   "cell_type": "code",
   "execution_count": 141,
   "metadata": {},
   "outputs": [
    {
     "name": "stdout",
     "output_type": "stream",
     "text": [
      "Epoch 1/5\n",
      "60/60 [==============================] - 0s 660us/step - loss: 6.4965 - accuracy: 0.5074\n",
      "Epoch 2/5\n",
      "60/60 [==============================] - 0s 620us/step - loss: 7.7125 - accuracy: 0.5000\n",
      "Epoch 3/5\n",
      "60/60 [==============================] - 0s 569us/step - loss: 7.7125 - accuracy: 0.5000\n",
      "Epoch 4/5\n",
      "60/60 [==============================] - 0s 579us/step - loss: 7.7125 - accuracy: 0.5000\n",
      "Epoch 5/5\n",
      "60/60 [==============================] - 0s 562us/step - loss: 7.7125 - accuracy: 0.5000\n",
      "60/60 [==============================] - 0s 536us/step - loss: 7.7125 - accuracy: 0.5000\n"
     ]
    },
    {
     "data": {
      "text/plain": [
       "[7.712473392486572, 0.5]"
      ]
     },
     "execution_count": 141,
     "metadata": {},
     "output_type": "execute_result"
    }
   ],
   "source": [
    "tf.random.set_seed(13)\n",
    "\n",
    "model_1 = tf.keras.Sequential([tf.keras.layers.Dense(1)])\n",
    "\n",
    "model_1.compile(loss=tf.keras.losses.BinaryCrossentropy(), optimizer=tf.keras.optimizers.SGD(), metrics=['accuracy'])\n",
    "model_1.fit(X, y, epochs=5)\n",
    "model_1.fit(X, y, epochs=200, verbose=0)\n",
    "model_1.evaluate(X, y)"
   ]
  },
  {
   "cell_type": "code",
   "execution_count": 142,
   "metadata": {},
   "outputs": [
    {
     "name": "stdout",
     "output_type": "stream",
     "text": [
      "Epoch 1/100\n",
      "1/1 [==============================] - 0s 325ms/step - loss: 14.3911 - accuracy: 0.0000e+00\n",
      "Epoch 2/100\n",
      "1/1 [==============================] - 0s 2ms/step - loss: 14.3690 - accuracy: 0.0000e+00\n",
      "Epoch 3/100\n",
      "1/1 [==============================] - 0s 3ms/step - loss: 14.3440 - accuracy: 0.0000e+00\n",
      "Epoch 4/100\n",
      "1/1 [==============================] - 0s 3ms/step - loss: 14.3160 - accuracy: 0.0000e+00\n",
      "Epoch 5/100\n",
      "1/1 [==============================] - 0s 2ms/step - loss: 14.2846 - accuracy: 0.0000e+00\n",
      "Epoch 6/100\n",
      "1/1 [==============================] - 0s 3ms/step - loss: 14.2493 - accuracy: 0.0000e+00\n",
      "Epoch 7/100\n",
      "1/1 [==============================] - 0s 3ms/step - loss: 14.2097 - accuracy: 0.0000e+00\n",
      "Epoch 8/100\n",
      "1/1 [==============================] - 0s 2ms/step - loss: 14.1653 - accuracy: 0.0000e+00\n",
      "Epoch 9/100\n",
      "1/1 [==============================] - 0s 5ms/step - loss: 14.1155 - accuracy: 0.0000e+00\n",
      "Epoch 10/100\n",
      "1/1 [==============================] - 0s 3ms/step - loss: 14.0596 - accuracy: 0.0000e+00\n",
      "Epoch 11/100\n",
      "1/1 [==============================] - 0s 3ms/step - loss: 13.9969 - accuracy: 0.0000e+00\n",
      "Epoch 12/100\n",
      "1/1 [==============================] - 0s 3ms/step - loss: 13.9265 - accuracy: 0.0000e+00\n",
      "Epoch 13/100\n",
      "1/1 [==============================] - 0s 3ms/step - loss: 13.8476 - accuracy: 0.0000e+00\n",
      "Epoch 14/100\n",
      "1/1 [==============================] - 0s 2ms/step - loss: 13.7590 - accuracy: 0.0000e+00\n",
      "Epoch 15/100\n",
      "1/1 [==============================] - 0s 2ms/step - loss: 13.6597 - accuracy: 0.0000e+00\n",
      "Epoch 16/100\n",
      "1/1 [==============================] - 0s 3ms/step - loss: 13.5482 - accuracy: 0.0000e+00\n",
      "Epoch 17/100\n",
      "1/1 [==============================] - 0s 3ms/step - loss: 13.4231 - accuracy: 0.0000e+00\n",
      "Epoch 18/100\n",
      "1/1 [==============================] - 0s 3ms/step - loss: 13.2828 - accuracy: 0.0000e+00\n",
      "Epoch 19/100\n",
      "1/1 [==============================] - 0s 3ms/step - loss: 13.1254 - accuracy: 0.0000e+00\n",
      "Epoch 20/100\n",
      "1/1 [==============================] - 0s 3ms/step - loss: 12.9488 - accuracy: 0.0000e+00\n",
      "Epoch 21/100\n",
      "1/1 [==============================] - 0s 2ms/step - loss: 12.7507 - accuracy: 0.0000e+00\n",
      "Epoch 22/100\n",
      "1/1 [==============================] - 0s 3ms/step - loss: 12.5285 - accuracy: 0.0000e+00\n",
      "Epoch 23/100\n",
      "1/1 [==============================] - 0s 3ms/step - loss: 12.2792 - accuracy: 0.0000e+00\n",
      "Epoch 24/100\n",
      "1/1 [==============================] - 0s 2ms/step - loss: 11.9996 - accuracy: 0.0000e+00\n",
      "Epoch 25/100\n",
      "1/1 [==============================] - 0s 3ms/step - loss: 11.6859 - accuracy: 0.0000e+00\n",
      "Epoch 26/100\n",
      "1/1 [==============================] - 0s 4ms/step - loss: 11.3340 - accuracy: 0.0000e+00\n",
      "Epoch 27/100\n",
      "1/1 [==============================] - 0s 3ms/step - loss: 10.9393 - accuracy: 0.0000e+00\n",
      "Epoch 28/100\n",
      "1/1 [==============================] - 0s 3ms/step - loss: 10.4965 - accuracy: 0.0000e+00\n",
      "Epoch 29/100\n",
      "1/1 [==============================] - 0s 2ms/step - loss: 9.9999 - accuracy: 0.0000e+00\n",
      "Epoch 30/100\n",
      "1/1 [==============================] - 0s 2ms/step - loss: 9.4428 - accuracy: 0.0000e+00\n",
      "Epoch 31/100\n",
      "1/1 [==============================] - 0s 3ms/step - loss: 8.8178 - accuracy: 0.0000e+00\n",
      "Epoch 32/100\n",
      "1/1 [==============================] - 0s 2ms/step - loss: 8.1166 - accuracy: 0.0000e+00\n",
      "Epoch 33/100\n",
      "1/1 [==============================] - 0s 3ms/step - loss: 7.3300 - accuracy: 0.0000e+00\n",
      "Epoch 34/100\n",
      "1/1 [==============================] - 0s 3ms/step - loss: 6.4472 - accuracy: 0.0000e+00\n",
      "Epoch 35/100\n",
      "1/1 [==============================] - 0s 3ms/step - loss: 5.4564 - accuracy: 0.0000e+00\n",
      "Epoch 36/100\n",
      "1/1 [==============================] - 0s 3ms/step - loss: 4.3440 - accuracy: 0.0000e+00\n",
      "Epoch 37/100\n",
      "1/1 [==============================] - 0s 3ms/step - loss: 3.0946 - accuracy: 0.0000e+00\n",
      "Epoch 38/100\n",
      "1/1 [==============================] - 0s 4ms/step - loss: 1.6905 - accuracy: 0.0000e+00\n",
      "Epoch 39/100\n",
      "1/1 [==============================] - 0s 2ms/step - loss: 0.1113 - accuracy: 0.0000e+00\n",
      "Epoch 40/100\n",
      "1/1 [==============================] - 0s 2ms/step - loss: -1.6669 - accuracy: 0.0000e+00\n",
      "Epoch 41/100\n",
      "1/1 [==============================] - 0s 2ms/step - loss: -3.6720 - accuracy: 0.0000e+00\n",
      "Epoch 42/100\n",
      "1/1 [==============================] - 0s 2ms/step - loss: -5.9379 - accuracy: 0.0000e+00\n",
      "Epoch 43/100\n",
      "1/1 [==============================] - 0s 3ms/step - loss: -8.5056 - accuracy: 0.0000e+00\n",
      "Epoch 44/100\n",
      "1/1 [==============================] - 0s 3ms/step - loss: -11.4261 - accuracy: 0.0000e+00\n",
      "Epoch 45/100\n",
      "1/1 [==============================] - 0s 3ms/step - loss: -14.7640 - accuracy: 0.0000e+00\n",
      "Epoch 46/100\n",
      "1/1 [==============================] - 0s 2ms/step - loss: -18.6028 - accuracy: 0.0000e+00\n",
      "Epoch 47/100\n",
      "1/1 [==============================] - 0s 2ms/step - loss: -23.0513 - accuracy: 0.0000e+00\n",
      "Epoch 48/100\n",
      "1/1 [==============================] - 0s 4ms/step - loss: -28.2541 - accuracy: 0.0000e+00\n",
      "Epoch 49/100\n",
      "1/1 [==============================] - 0s 32ms/step - loss: -34.4192 - accuracy: 0.0000e+00\n",
      "Epoch 50/100\n",
      "1/1 [==============================] - 0s 4ms/step - loss: -42.0779 - accuracy: 0.0000e+00\n",
      "Epoch 51/100\n",
      "1/1 [==============================] - 0s 3ms/step - loss: -51.7688 - accuracy: 0.0000e+00\n",
      "Epoch 52/100\n",
      "1/1 [==============================] - 0s 3ms/step - loss: -68.7292 - accuracy: 0.0000e+00\n",
      "Epoch 53/100\n",
      "1/1 [==============================] - 0s 2ms/step - loss: -95.9996 - accuracy: 0.0000e+00\n",
      "Epoch 54/100\n",
      "1/1 [==============================] - 0s 3ms/step - loss: -131.3840 - accuracy: 0.0000e+00\n",
      "Epoch 55/100\n",
      "1/1 [==============================] - 0s 2ms/step - loss: -177.9868 - accuracy: 0.0000e+00\n",
      "Epoch 56/100\n",
      "1/1 [==============================] - 0s 3ms/step - loss: -239.3824 - accuracy: 0.0000e+00\n",
      "Epoch 57/100\n",
      "1/1 [==============================] - 0s 3ms/step - loss: -320.2436 - accuracy: 0.0000e+00\n",
      "Epoch 58/100\n",
      "1/1 [==============================] - 0s 4ms/step - loss: -427.2019 - accuracy: 0.0000e+00\n",
      "Epoch 59/100\n",
      "1/1 [==============================] - 0s 3ms/step - loss: -570.1632 - accuracy: 0.0000e+00\n",
      "Epoch 60/100\n",
      "1/1 [==============================] - 0s 3ms/step - loss: -764.9306 - accuracy: 0.0000e+00\n",
      "Epoch 61/100\n",
      "1/1 [==============================] - 0s 3ms/step - loss: -1037.1260 - accuracy: 0.0000e+00\n",
      "Epoch 62/100\n",
      "1/1 [==============================] - 0s 3ms/step - loss: -1426.3206 - accuracy: 0.0000e+00\n",
      "Epoch 63/100\n",
      "1/1 [==============================] - 0s 3ms/step - loss: -1990.1909 - accuracy: 0.0000e+00\n",
      "Epoch 64/100\n",
      "1/1 [==============================] - 0s 3ms/step - loss: -2811.8457 - accuracy: 0.0000e+00\n",
      "Epoch 65/100\n",
      "1/1 [==============================] - 0s 2ms/step - loss: -4011.6487 - accuracy: 0.0000e+00\n",
      "Epoch 66/100\n",
      "1/1 [==============================] - 0s 2ms/step - loss: -5764.9429 - accuracy: 0.0000e+00\n",
      "Epoch 67/100\n",
      "1/1 [==============================] - 0s 2ms/step - loss: -8324.5693 - accuracy: 0.0000e+00\n",
      "Epoch 68/100\n",
      "1/1 [==============================] - 0s 2ms/step - loss: -12055.1191 - accuracy: 0.0000e+00\n",
      "Epoch 69/100\n",
      "1/1 [==============================] - 0s 3ms/step - loss: -17485.3242 - accuracy: 0.0000e+00\n",
      "Epoch 70/100\n",
      "1/1 [==============================] - 0s 3ms/step - loss: -25381.9648 - accuracy: 0.0000e+00\n",
      "Epoch 71/100\n",
      "1/1 [==============================] - 0s 2ms/step - loss: -36857.3984 - accuracy: 0.0000e+00\n",
      "Epoch 72/100\n",
      "1/1 [==============================] - 0s 2ms/step - loss: -53524.5234 - accuracy: 0.0000e+00\n",
      "Epoch 73/100\n",
      "1/1 [==============================] - 0s 3ms/step - loss: -77720.5469 - accuracy: 0.0000e+00\n",
      "Epoch 74/100\n",
      "1/1 [==============================] - 0s 2ms/step - loss: -112829.9062 - accuracy: 0.0000e+00\n",
      "Epoch 75/100\n",
      "1/1 [==============================] - 0s 4ms/step - loss: -163750.3906 - accuracy: 0.0000e+00\n",
      "Epoch 76/100\n",
      "1/1 [==============================] - 0s 3ms/step - loss: -237565.7500 - accuracy: 0.0000e+00\n",
      "Epoch 77/100\n",
      "1/1 [==============================] - 0s 3ms/step - loss: -344515.5312 - accuracy: 0.0000e+00\n",
      "Epoch 78/100\n",
      "1/1 [==============================] - 0s 2ms/step - loss: -499393.3125 - accuracy: 0.0000e+00\n",
      "Epoch 79/100\n",
      "1/1 [==============================] - 0s 3ms/step - loss: -723561.1250 - accuracy: 0.0000e+00\n",
      "Epoch 80/100\n",
      "1/1 [==============================] - 0s 2ms/step - loss: -1047852.1875 - accuracy: 0.0000e+00\n",
      "Epoch 81/100\n",
      "1/1 [==============================] - 0s 3ms/step - loss: -1516749.5000 - accuracy: 0.0000e+00\n",
      "Epoch 82/100\n",
      "1/1 [==============================] - 0s 4ms/step - loss: -2194400.7500 - accuracy: 0.0000e+00\n",
      "Epoch 83/100\n",
      "1/1 [==============================] - 0s 4ms/step - loss: -3173276.0000 - accuracy: 0.0000e+00\n",
      "Epoch 84/100\n",
      "1/1 [==============================] - 0s 2ms/step - loss: -4586618.0000 - accuracy: 0.0000e+00\n",
      "Epoch 85/100\n",
      "1/1 [==============================] - 0s 3ms/step - loss: -6626349.5000 - accuracy: 0.0000e+00\n",
      "Epoch 86/100\n",
      "1/1 [==============================] - 0s 2ms/step - loss: -9568819.0000 - accuracy: 0.0000e+00\n",
      "Epoch 87/100\n",
      "1/1 [==============================] - 0s 2ms/step - loss: -13811805.0000 - accuracy: 0.0000e+00\n",
      "Epoch 88/100\n",
      "1/1 [==============================] - 0s 3ms/step - loss: -19927676.0000 - accuracy: 0.0000e+00\n",
      "Epoch 89/100\n",
      "1/1 [==============================] - 0s 2ms/step - loss: -28739794.0000 - accuracy: 0.0000e+00\n",
      "Epoch 90/100\n",
      "1/1 [==============================] - 0s 2ms/step - loss: -41432176.0000 - accuracy: 0.0000e+00\n",
      "Epoch 91/100\n",
      "1/1 [==============================] - 0s 2ms/step - loss: -59707028.0000 - accuracy: 0.0000e+00\n",
      "Epoch 92/100\n",
      "1/1 [==============================] - 0s 3ms/step - loss: -86010816.0000 - accuracy: 0.0000e+00\n",
      "Epoch 93/100\n",
      "1/1 [==============================] - 0s 3ms/step - loss: -123858856.0000 - accuracy: 0.0000e+00\n",
      "Epoch 94/100\n",
      "1/1 [==============================] - 0s 3ms/step - loss: -178300784.0000 - accuracy: 0.0000e+00\n",
      "Epoch 95/100\n",
      "1/1 [==============================] - 0s 2ms/step - loss: -256588672.0000 - accuracy: 0.0000e+00\n",
      "Epoch 96/100\n",
      "1/1 [==============================] - 0s 4ms/step - loss: -369135104.0000 - accuracy: 0.0000e+00\n",
      "Epoch 97/100\n",
      "1/1 [==============================] - 0s 3ms/step - loss: -530887040.0000 - accuracy: 0.0000e+00\n",
      "Epoch 98/100\n",
      "1/1 [==============================] - 0s 4ms/step - loss: -763296064.0000 - accuracy: 0.0000e+00\n",
      "Epoch 99/100\n",
      "1/1 [==============================] - 0s 3ms/step - loss: -1097141504.0000 - accuracy: 0.0000e+00\n",
      "Epoch 100/100\n",
      "1/1 [==============================] - 0s 3ms/step - loss: -1576578816.0000 - accuracy: 0.0000e+00\n"
     ]
    },
    {
     "data": {
      "text/plain": [
       "<AxesSubplot:xlabel='epochs'>"
      ]
     },
     "execution_count": 142,
     "metadata": {},
     "output_type": "execute_result"
    },
    {
     "data": {
      "image/png": "[encoded data removed]",
      "text/plain": [
       "<Figure size 720x504 with 1 Axes>"
      ]
     },
     "metadata": {
      "needs_background": "light"
     },
     "output_type": "display_data"
    }
   ],
   "source": [
    "tf.random.set_seed(13)\n",
    "\n",
    "\n",
    "\n",
    "model_3 = tf.keras.Sequential([\n",
    "  tf.keras.layers.Dense(4, activation=\"relu\"),\n",
    "  tf.keras.layers.Dense(4, activation=\"relu\"),\n",
    "  tf.keras.layers.Dense(1, activation=\"sigmoid\")\n",
    "])\n",
    "\n",
    "model_3.compile(loss=\"binary_crossentropy\", optimizer=\"Adam\", metrics=[\"accuracy\"]) \n",
    "\n",
    "\n",
    "lr_scheduler = tf.keras.callbacks.LearningRateScheduler(lambda epoch: 1e-4 * 10**(epoch/20))\n",
    "\n",
    "\n",
    "history = model_3.fit(X_train, y_train, epochs=100, callbacks=[lr_scheduler])\n",
    "\n",
    "\n",
    "pd.DataFrame(history.history).plot(figsize=(10,7), xlabel=\"epochs\")\n"
   ]
  },
  {
   "cell_type": "code",
   "execution_count": 143,
   "metadata": {},
   "outputs": [
    {
     "data": {
      "text/plain": [
       "Text(0.5, 1.0, 'Learning rate/Loss')"
      ]
     },
     "execution_count": 143,
     "metadata": {},
     "output_type": "execute_result"
    },
    {
     "data": {
      "image/png": "[encoded data removed]",
      "text/plain": [
       "<Figure size 720x504 with 1 Axes>"
      ]
     },
     "metadata": {
      "needs_background": "light"
     },
     "output_type": "display_data"
    }
   ],
   "source": [
    "lrs = 1e-4 * (10 ** (np.arange(100)/20))\n",
    "plt.figure(figsize=(10, 7))\n",
    "plt.semilogx(lrs, history.history[\"loss\"])\n",
    "plt.xlabel(\"Learning Rate\")\n",
    "plt.ylabel(\"Loss\")\n",
    "plt.title(\"Learning rate/Loss\")"
   ]
  },
  {
   "cell_type": "code",
   "execution_count": 144,
   "metadata": {},
   "outputs": [
    {
     "data": {
      "image/png": "[encoded data removed]",
      "text/plain": [
       "<Figure size 576x360 with 1 Axes>"
      ]
     },
     "metadata": {
      "needs_background": "light"
     },
     "output_type": "display_data"
    }
   ],
   "source": [
    "plt.figure(figsize=(8, 5))\n",
    "plt.scatter(X_train, y_train, c='r', label='data by training')\n",
    "plt.scatter(X_test, y_test, c='y', label='data by trying (testing)')\n",
    "plt.legend()\n",
    "y_preds = model.predict(X_test)"
   ]
  },
  {
   "cell_type": "code",
   "execution_count": 145,
   "metadata": {},
   "outputs": [],
   "source": [
    "def plot_predictions(train_data, train_labels, test_data, test_labels, predictions):\n",
    "\n",
    "  plt.figure(figsize=(10, 7))\n",
    "\n",
    "  plt.scatter(train_data, train_labels, c=\"b\", label=\"Training data\")\n",
    "\n",
    "  plt.scatter(test_data, test_labels, c=\"g\", label=\"Testing data\")\n",
    "\n",
    "  plt.scatter(test_data, predictions, c=\"r\", label=\"Predictions\")\n",
    "  \n",
    "  plt.legend()"
   ]
  },
  {
   "cell_type": "markdown",
   "metadata": {},
   "source": [
    "## Остаточний графік"
   ]
  },
  {
   "cell_type": "code",
   "execution_count": 146,
   "metadata": {},
   "outputs": [
    {
     "data": {
      "image/png": "[encoded data removed]",
      "text/plain": [
       "<Figure size 720x504 with 1 Axes>"
      ]
     },
     "metadata": {
      "needs_background": "light"
     },
     "output_type": "display_data"
    }
   ],
   "source": [
    "plot_predictions(X_train, y_train, X_test, y_test, y_preds) #остаточний графік "
   ]
  }
 ],
 "metadata": {
  "interpreter": {
   "hash": "f60fb8fe69538d29a5c1a2f0f17ea7972f470aa9d40c683fc2ba5c58a8b79e6a"
  },
  "kernelspec": {
   "display_name": "Python 3.8.8 64-bit ('base': conda)",
   "name": "python3"
  },
  "language_info": {
   "codemirror_mode": {
    "name": "ipython",
    "version": 3
   },
   "file_extension": ".py",
   "mimetype": "text/x-python",
   "name": "python",
   "nbconvert_exporter": "python",
   "pygments_lexer": "ipython3",
   "version": "3.8.8"
  },
  "orig_nbformat": 4
 },
 "nbformat": 4,
 "nbformat_minor": 2
}

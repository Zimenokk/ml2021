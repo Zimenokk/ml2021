{
 "cells": [
  {
   "cell_type": "markdown",
   "source": [
    "# Лабораторна робота *№1*\r\n",
    "# Студента групи МІТ-31 - підгрупа 1\r\n",
    "# **Зименка Данііла Миколайовича**"
   ],
   "metadata": {}
  },
  {
   "cell_type": "markdown",
   "source": [
    "# Завдання\r\n",
    "1.  NumPy (створити набір даних (розмір за власним рішенням), провести CRUD операції над даними (скаляр, вектор, матриця)). Використати arange, random.\r\n",
    "2.  Pandas (створити dataframe різними способами, провести маніпуляції з даними (head, describe, iloc, loc ...))\r\n",
    "3.  Matplotlib (створити набір даних лінійної функції з урахуванням помилок вимірювань, побудувати графік функції та згенерованих даних, обчислити похибку з використанням метрик MAE, MSE). Записати отримані результати у csv файл (формат: X,Y, Y_hat, mAE, mSE)\r\n",
    "4.  Відповіді оформити .ipynb документом\r\n",
    "5.  Викласти у зазначений репозіторій GitHub в окремій папці з назвою Lab1 де має бути .ipynb файл та необхідні файли з даними"
   ],
   "metadata": {}
  },
  {
   "cell_type": "markdown",
   "source": [
    "#Імпортуємо необхідні бібліотеки:"
   ],
   "metadata": {}
  },
  {
   "cell_type": "code",
   "execution_count": 1,
   "source": [
    "import pandas as pd\r\n",
    "import numpy as np\r\n",
    "import matplotlib.pyplot as plt"
   ],
   "outputs": [],
   "metadata": {}
  },
  {
   "cell_type": "markdown",
   "source": [
    "## 1.NumPy"
   ],
   "metadata": {}
  },
  {
   "cell_type": "markdown",
   "source": [
    "# Створення"
   ],
   "metadata": {}
  },
  {
   "cell_type": "code",
   "execution_count": 2,
   "source": [
    "arr1 = np.arange(1,10,2)\r\n",
    "arr2 = np.random.randint(7, size=(arr1.size))\r\n",
    "arr1 = np.append(arr1,12)\r\n",
    "arr2 = np.append(arr2,11)\r\n",
    "print(\"arr1.add(12):\", arr1)\r\n",
    "print(\"arr2.add(11):\", arr2)\r\n"
   ],
   "outputs": [
    {
     "output_type": "stream",
     "name": "stdout",
     "text": [
      "arr1.add(12): [ 1  3  5  7  9 12]\n",
      "arr2.add(11): [ 0  5  6  0  6 11]\n"
     ]
    }
   ],
   "metadata": {}
  },
  {
   "cell_type": "markdown",
   "source": [
    "# Редагування:\r\n"
   ],
   "metadata": {}
  },
  {
   "cell_type": "code",
   "execution_count": 3,
   "source": [
    "arr1[4] = 22\r\n",
    "arr2[2] = 92\r\n",
    "arr1[1] = 15\r\n",
    "arr2[1] = 13\r\n",
    "print(\"arr1:\", arr1)\r\n",
    "print(\"arr2:\", arr2)\r\n"
   ],
   "outputs": [
    {
     "output_type": "stream",
     "name": "stdout",
     "text": [
      "arr1: [ 1 15  5  7 22 12]\n",
      "arr2: [ 0 13 92  0  6 11]\n"
     ]
    }
   ],
   "metadata": {}
  },
  {
   "cell_type": "markdown",
   "source": [
    "# Видалення:"
   ],
   "metadata": {}
  },
  {
   "cell_type": "code",
   "execution_count": 4,
   "source": [
    "arr2 = np.delete(arr2,0) #видалення першого елемента масиву\r\n",
    "arr1 = np.delete(arr1,np.random.randint(arr1.size)) #видалення рандомного елемента першого масиву\r\n",
    "print(\"arr1:\", arr1)\r\n",
    "print(\"arr2:\", arr2)\r\n"
   ],
   "outputs": [
    {
     "output_type": "stream",
     "name": "stdout",
     "text": [
      "arr1: [ 1 15  5 22 12]\n",
      "arr2: [13 92  0  6 11]\n"
     ]
    }
   ],
   "metadata": {}
  },
  {
   "cell_type": "code",
   "execution_count": null,
   "source": [],
   "outputs": [],
   "metadata": {}
  },
  {
   "cell_type": "markdown",
   "source": [
    "# Робота зі звичайними числами:\r\n"
   ],
   "metadata": {}
  },
  {
   "cell_type": "code",
   "execution_count": 5,
   "source": [
    "arr2 = np.power(arr2,4) #піднесення до степеню\r\n",
    "arr1 = np.multiply(arr1,5) #множення на 5\r\n",
    "print(\"arr2**4:\", arr2)\r\n",
    "print(\"arr1*5:\", arr1)\r\n"
   ],
   "outputs": [
    {
     "output_type": "stream",
     "name": "stdout",
     "text": [
      "arr2**4: [   28561 71639296        0     1296    14641]\n",
      "arr1*5: [  5  75  25 110  60]\n"
     ]
    }
   ],
   "metadata": {}
  },
  {
   "cell_type": "markdown",
   "source": [
    "# Операції над векторами(одномірними масивами)\r\n"
   ],
   "metadata": {}
  },
  {
   "cell_type": "code",
   "execution_count": 6,
   "source": [
    "arr3 = np.add(arr2,arr1) #додавання відповідних елементів масивів\r\n",
    "print(\"arr3=arr2+arr1:\", arr3)\r\n",
    "arr3 = np.subtract(arr3,arr1) #віднімання відповідних елементів масивів\r\n",
    "print(\"arr3-arr1:\", arr3)\r\n"
   ],
   "outputs": [
    {
     "output_type": "stream",
     "name": "stdout",
     "text": [
      "arr3=arr2+arr1: [   28566 71639371       25     1406    14701]\n",
      "arr3-arr1: [   28561 71639296        0     1296    14641]\n"
     ]
    }
   ],
   "metadata": {}
  },
  {
   "cell_type": "markdown",
   "source": [
    "# Робота з матрицями\r\n"
   ],
   "metadata": {}
  },
  {
   "cell_type": "code",
   "execution_count": 7,
   "source": [
    "size = np.random.randint(1,7) # наповнення матриці рандомними значеннями\r\n",
    "matrix = np.random.randint(18,size=(size,size)) #вказуємо, що матриця квадратна \r\n",
    "print(\"Ваша матриця: \")\r\n",
    "print(\"⁂⁂⁂⁂⁂⁂⁂⁂⁂⁂⁂⁂⁂\")\r\n",
    "print( matrix, sep=\"\\n\")\r\n",
    "print(\"⁂⁂⁂⁂⁂⁂⁂⁂⁂⁂⁂⁂⁂\")\r\n"
   ],
   "outputs": [
    {
     "output_type": "stream",
     "name": "stdout",
     "text": [
      "Ваша матриця: \n",
      "⁂⁂⁂⁂⁂⁂⁂⁂⁂⁂⁂⁂⁂\n",
      "[[15  3  1]\n",
      " [14 17 11]\n",
      " [ 8  8  6]]\n",
      "⁂⁂⁂⁂⁂⁂⁂⁂⁂⁂⁂⁂⁂\n"
     ]
    }
   ],
   "metadata": {}
  },
  {
   "cell_type": "code",
   "execution_count": 8,
   "source": [
    "matrix = np.zeros((size,size)) #всі значення матриці = 0\r\n",
    "print(\"Matrix: \", matrix, sep=\"\\n\")\r\n",
    "matrix = np.ones((size,size)) #одиночна матриця\r\n",
    "print(\"Matrix: \", matrix, sep=\"\\n\")"
   ],
   "outputs": [
    {
     "output_type": "stream",
     "name": "stdout",
     "text": [
      "Matrix: \n",
      "[[0. 0. 0.]\n",
      " [0. 0. 0.]\n",
      " [0. 0. 0.]]\n",
      "Matrix: \n",
      "[[1. 1. 1.]\n",
      " [1. 1. 1.]\n",
      " [1. 1. 1.]]\n"
     ]
    }
   ],
   "metadata": {}
  },
  {
   "cell_type": "code",
   "execution_count": 9,
   "source": [
    "m = np.random.randint(30,size = (size,size))\r\n",
    "m2 = np.random.randint(30,size = (size,size))\r\n",
    "print(\"Матриця: \", m, sep=\"\\n\")\r\n",
    "print(\"Друга матриця: \", m2, sep=\"\\n\")\r\n",
    "print(\"Перша матриця - друга матриця: \", m-m2, sep=\"\\n\")\r\n",
    "print(\"Перша матриця + друга матриця: \", m+m2, sep=\"\\n\")\r\n",
    "print(\"Перша матриця * друга матриця: \", m*m2, sep=\"\\n\")\r\n",
    "print(\"Розділити першу матрицю на другу матрицю: \", m/m2, sep=\"\\n\")"
   ],
   "outputs": [
    {
     "output_type": "stream",
     "name": "stdout",
     "text": [
      "Матриця: \n",
      "[[18 11 17]\n",
      " [20 26  9]\n",
      " [21 27 12]]\n",
      "Друга матриця: \n",
      "[[20  5 15]\n",
      " [21 14  2]\n",
      " [21 20  2]]\n",
      "Перша матриця - друга матриця: \n",
      "[[-2  6  2]\n",
      " [-1 12  7]\n",
      " [ 0  7 10]]\n",
      "Перша матриця + друга матриця: \n",
      "[[38 16 32]\n",
      " [41 40 11]\n",
      " [42 47 14]]\n",
      "Перша матриця * друга матриця: \n",
      "[[360  55 255]\n",
      " [420 364  18]\n",
      " [441 540  24]]\n",
      "Розділити першу матрицю на другу матрицю: \n",
      "[[0.9        2.2        1.13333333]\n",
      " [0.95238095 1.85714286 4.5       ]\n",
      " [1.         1.35       6.        ]]\n"
     ]
    }
   ],
   "metadata": {}
  },
  {
   "cell_type": "markdown",
   "source": [
    "## Завдання №2: Pandas"
   ],
   "metadata": {}
  },
  {
   "cell_type": "code",
   "execution_count": 10,
   "source": [
    "csv = pd.read_csv(\"FyntraCustomerData.csv\")  #вибір файлу для обробки\r\n",
    "csv.head()"
   ],
   "outputs": [
    {
     "output_type": "execute_result",
     "data": {
      "text/html": [
       "<div>\n",
       "<style scoped>\n",
       "    .dataframe tbody tr th:only-of-type {\n",
       "        vertical-align: middle;\n",
       "    }\n",
       "\n",
       "    .dataframe tbody tr th {\n",
       "        vertical-align: top;\n",
       "    }\n",
       "\n",
       "    .dataframe thead th {\n",
       "        text-align: right;\n",
       "    }\n",
       "</style>\n",
       "<table border=\"1\" class=\"dataframe\">\n",
       "  <thead>\n",
       "    <tr style=\"text-align: right;\">\n",
       "      <th></th>\n",
       "      <th>Email</th>\n",
       "      <th>Address</th>\n",
       "      <th>Avatar</th>\n",
       "      <th>Avg_Session_Length</th>\n",
       "      <th>Time_on_App</th>\n",
       "      <th>Time_on_Website</th>\n",
       "      <th>Length_of_Membership</th>\n",
       "      <th>Yearly_Amount_Spent</th>\n",
       "    </tr>\n",
       "  </thead>\n",
       "  <tbody>\n",
       "    <tr>\n",
       "      <th>0</th>\n",
       "      <td>mstephenson@fernandez.com</td>\n",
       "      <td>835 Frank Tunnel\\nWrightmouth, MI 82180-9605</td>\n",
       "      <td>Violet</td>\n",
       "      <td>34.497268</td>\n",
       "      <td>12.655651</td>\n",
       "      <td>39.577668</td>\n",
       "      <td>4.082621</td>\n",
       "      <td>587.951054</td>\n",
       "    </tr>\n",
       "    <tr>\n",
       "      <th>1</th>\n",
       "      <td>hduke@hotmail.com</td>\n",
       "      <td>4547 Archer Common\\nDiazchester, CA 06566-8576</td>\n",
       "      <td>DarkGreen</td>\n",
       "      <td>31.926272</td>\n",
       "      <td>11.109461</td>\n",
       "      <td>37.268959</td>\n",
       "      <td>2.664034</td>\n",
       "      <td>392.204933</td>\n",
       "    </tr>\n",
       "    <tr>\n",
       "      <th>2</th>\n",
       "      <td>pallen@yahoo.com</td>\n",
       "      <td>24645 Valerie Unions Suite 582\\nCobbborough, D...</td>\n",
       "      <td>Bisque</td>\n",
       "      <td>33.000915</td>\n",
       "      <td>11.330278</td>\n",
       "      <td>37.110597</td>\n",
       "      <td>4.104543</td>\n",
       "      <td>487.547505</td>\n",
       "    </tr>\n",
       "    <tr>\n",
       "      <th>3</th>\n",
       "      <td>riverarebecca@gmail.com</td>\n",
       "      <td>1414 David Throughway\\nPort Jason, OH 22070-1220</td>\n",
       "      <td>SaddleBrown</td>\n",
       "      <td>34.305557</td>\n",
       "      <td>13.717514</td>\n",
       "      <td>36.721283</td>\n",
       "      <td>3.120179</td>\n",
       "      <td>581.852344</td>\n",
       "    </tr>\n",
       "    <tr>\n",
       "      <th>4</th>\n",
       "      <td>mstephens@davidson-herman.com</td>\n",
       "      <td>14023 Rodriguez Passage\\nPort Jacobville, PR 3...</td>\n",
       "      <td>MediumAquaMarine</td>\n",
       "      <td>33.330673</td>\n",
       "      <td>12.795189</td>\n",
       "      <td>37.536653</td>\n",
       "      <td>4.446308</td>\n",
       "      <td>599.406092</td>\n",
       "    </tr>\n",
       "  </tbody>\n",
       "</table>\n",
       "</div>"
      ],
      "text/plain": [
       "                           Email  \\\n",
       "0      mstephenson@fernandez.com   \n",
       "1              hduke@hotmail.com   \n",
       "2               pallen@yahoo.com   \n",
       "3        riverarebecca@gmail.com   \n",
       "4  mstephens@davidson-herman.com   \n",
       "\n",
       "                                             Address            Avatar  \\\n",
       "0       835 Frank Tunnel\\nWrightmouth, MI 82180-9605            Violet   \n",
       "1     4547 Archer Common\\nDiazchester, CA 06566-8576         DarkGreen   \n",
       "2  24645 Valerie Unions Suite 582\\nCobbborough, D...            Bisque   \n",
       "3   1414 David Throughway\\nPort Jason, OH 22070-1220       SaddleBrown   \n",
       "4  14023 Rodriguez Passage\\nPort Jacobville, PR 3...  MediumAquaMarine   \n",
       "\n",
       "   Avg_Session_Length  Time_on_App  Time_on_Website  Length_of_Membership  \\\n",
       "0           34.497268    12.655651        39.577668              4.082621   \n",
       "1           31.926272    11.109461        37.268959              2.664034   \n",
       "2           33.000915    11.330278        37.110597              4.104543   \n",
       "3           34.305557    13.717514        36.721283              3.120179   \n",
       "4           33.330673    12.795189        37.536653              4.446308   \n",
       "\n",
       "   Yearly_Amount_Spent  \n",
       "0           587.951054  \n",
       "1           392.204933  \n",
       "2           487.547505  \n",
       "3           581.852344  \n",
       "4           599.406092  "
      ]
     },
     "metadata": {},
     "execution_count": 10
    }
   ],
   "metadata": {}
  },
  {
   "cell_type": "code",
   "execution_count": 11,
   "source": [
    "csv.describe()"
   ],
   "outputs": [
    {
     "output_type": "execute_result",
     "data": {
      "text/html": [
       "<div>\n",
       "<style scoped>\n",
       "    .dataframe tbody tr th:only-of-type {\n",
       "        vertical-align: middle;\n",
       "    }\n",
       "\n",
       "    .dataframe tbody tr th {\n",
       "        vertical-align: top;\n",
       "    }\n",
       "\n",
       "    .dataframe thead th {\n",
       "        text-align: right;\n",
       "    }\n",
       "</style>\n",
       "<table border=\"1\" class=\"dataframe\">\n",
       "  <thead>\n",
       "    <tr style=\"text-align: right;\">\n",
       "      <th></th>\n",
       "      <th>Avg_Session_Length</th>\n",
       "      <th>Time_on_App</th>\n",
       "      <th>Time_on_Website</th>\n",
       "      <th>Length_of_Membership</th>\n",
       "      <th>Yearly_Amount_Spent</th>\n",
       "    </tr>\n",
       "  </thead>\n",
       "  <tbody>\n",
       "    <tr>\n",
       "      <th>count</th>\n",
       "      <td>500.000000</td>\n",
       "      <td>500.000000</td>\n",
       "      <td>500.000000</td>\n",
       "      <td>500.000000</td>\n",
       "      <td>500.000000</td>\n",
       "    </tr>\n",
       "    <tr>\n",
       "      <th>mean</th>\n",
       "      <td>33.053194</td>\n",
       "      <td>12.052488</td>\n",
       "      <td>37.060445</td>\n",
       "      <td>3.533462</td>\n",
       "      <td>499.314038</td>\n",
       "    </tr>\n",
       "    <tr>\n",
       "      <th>std</th>\n",
       "      <td>0.992563</td>\n",
       "      <td>0.994216</td>\n",
       "      <td>1.010489</td>\n",
       "      <td>0.999278</td>\n",
       "      <td>79.314782</td>\n",
       "    </tr>\n",
       "    <tr>\n",
       "      <th>min</th>\n",
       "      <td>29.532429</td>\n",
       "      <td>8.508152</td>\n",
       "      <td>33.913847</td>\n",
       "      <td>0.269901</td>\n",
       "      <td>256.670582</td>\n",
       "    </tr>\n",
       "    <tr>\n",
       "      <th>25%</th>\n",
       "      <td>32.341822</td>\n",
       "      <td>11.388153</td>\n",
       "      <td>36.349257</td>\n",
       "      <td>2.930450</td>\n",
       "      <td>445.038277</td>\n",
       "    </tr>\n",
       "    <tr>\n",
       "      <th>50%</th>\n",
       "      <td>33.082008</td>\n",
       "      <td>11.983231</td>\n",
       "      <td>37.069367</td>\n",
       "      <td>3.533975</td>\n",
       "      <td>498.887875</td>\n",
       "    </tr>\n",
       "    <tr>\n",
       "      <th>75%</th>\n",
       "      <td>33.711985</td>\n",
       "      <td>12.753850</td>\n",
       "      <td>37.716432</td>\n",
       "      <td>4.126502</td>\n",
       "      <td>549.313828</td>\n",
       "    </tr>\n",
       "    <tr>\n",
       "      <th>max</th>\n",
       "      <td>36.139662</td>\n",
       "      <td>15.126994</td>\n",
       "      <td>40.005182</td>\n",
       "      <td>6.922689</td>\n",
       "      <td>765.518462</td>\n",
       "    </tr>\n",
       "  </tbody>\n",
       "</table>\n",
       "</div>"
      ],
      "text/plain": [
       "       Avg_Session_Length  Time_on_App  Time_on_Website  Length_of_Membership  \\\n",
       "count          500.000000   500.000000       500.000000            500.000000   \n",
       "mean            33.053194    12.052488        37.060445              3.533462   \n",
       "std              0.992563     0.994216         1.010489              0.999278   \n",
       "min             29.532429     8.508152        33.913847              0.269901   \n",
       "25%             32.341822    11.388153        36.349257              2.930450   \n",
       "50%             33.082008    11.983231        37.069367              3.533975   \n",
       "75%             33.711985    12.753850        37.716432              4.126502   \n",
       "max             36.139662    15.126994        40.005182              6.922689   \n",
       "\n",
       "       Yearly_Amount_Spent  \n",
       "count           500.000000  \n",
       "mean            499.314038  \n",
       "std              79.314782  \n",
       "min             256.670582  \n",
       "25%             445.038277  \n",
       "50%             498.887875  \n",
       "75%             549.313828  \n",
       "max             765.518462  "
      ]
     },
     "metadata": {},
     "execution_count": 11
    }
   ],
   "metadata": {}
  },
  {
   "cell_type": "code",
   "execution_count": 12,
   "source": [
    "print(csv.iloc[12])"
   ],
   "outputs": [
    {
     "output_type": "stream",
     "name": "stdout",
     "text": [
      "Email                                                   knelson@gmail.com\n",
      "Address                 6705 Miller Orchard Suite 186\\nLake Shanestad,...\n",
      "Avatar                                                          RoyalBlue\n",
      "Avg_Session_Length                                              29.532429\n",
      "Time_on_App                                                     10.961298\n",
      "Time_on_Website                                                 37.420216\n",
      "Length_of_Membership                                             4.046423\n",
      "Yearly_Amount_Spent                                            408.640351\n",
      "Name: 12, dtype: object\n"
     ]
    }
   ],
   "metadata": {}
  },
  {
   "cell_type": "code",
   "execution_count": 13,
   "source": [
    "csv.info()"
   ],
   "outputs": [
    {
     "output_type": "stream",
     "name": "stdout",
     "text": [
      "<class 'pandas.core.frame.DataFrame'>\n",
      "RangeIndex: 500 entries, 0 to 499\n",
      "Data columns (total 8 columns):\n",
      " #   Column                Non-Null Count  Dtype  \n",
      "---  ------                --------------  -----  \n",
      " 0   Email                 500 non-null    object \n",
      " 1   Address               500 non-null    object \n",
      " 2   Avatar                500 non-null    object \n",
      " 3   Avg_Session_Length    500 non-null    float64\n",
      " 4   Time_on_App           500 non-null    float64\n",
      " 5   Time_on_Website       500 non-null    float64\n",
      " 6   Length_of_Membership  500 non-null    float64\n",
      " 7   Yearly_Amount_Spent   500 non-null    float64\n",
      "dtypes: float64(5), object(3)\n",
      "memory usage: 31.4+ KB\n"
     ]
    }
   ],
   "metadata": {}
  },
  {
   "cell_type": "code",
   "execution_count": 14,
   "source": [
    "csv.median()"
   ],
   "outputs": [
    {
     "output_type": "stream",
     "name": "stderr",
     "text": [
      "C:\\Users\\User\\AppData\\Local\\Temp/ipykernel_24304/1044457711.py:1: FutureWarning: Dropping of nuisance columns in DataFrame reductions (with 'numeric_only=None') is deprecated; in a future version this will raise TypeError.  Select only valid columns before calling the reduction.\n",
      "  csv.median()\n"
     ]
    },
    {
     "output_type": "execute_result",
     "data": {
      "text/plain": [
       "Avg_Session_Length       33.082008\n",
       "Time_on_App              11.983231\n",
       "Time_on_Website          37.069367\n",
       "Length_of_Membership      3.533975\n",
       "Yearly_Amount_Spent     498.887875\n",
       "dtype: float64"
      ]
     },
     "metadata": {},
     "execution_count": 14
    }
   ],
   "metadata": {}
  },
  {
   "cell_type": "code",
   "execution_count": 15,
   "source": [
    "print(\"Максимальне значення:\")\r\n",
    "csv.max()\r\n"
   ],
   "outputs": [
    {
     "output_type": "stream",
     "name": "stdout",
     "text": [
      "Максимальне значення:\n"
     ]
    },
    {
     "output_type": "execute_result",
     "data": {
      "text/plain": [
       "Email                                  zscott@wright.com\n",
       "Address                 Unit 7502 Box 8345\\nDPO AE 53747\n",
       "Avatar                                       YellowGreen\n",
       "Avg_Session_Length                             36.139662\n",
       "Time_on_App                                    15.126994\n",
       "Time_on_Website                                40.005182\n",
       "Length_of_Membership                            6.922689\n",
       "Yearly_Amount_Spent                           765.518462\n",
       "dtype: object"
      ]
     },
     "metadata": {},
     "execution_count": 15
    }
   ],
   "metadata": {}
  },
  {
   "cell_type": "code",
   "execution_count": 16,
   "source": [
    "print(\"Мінімальне значення:\")\r\n",
    "csv.min()"
   ],
   "outputs": [
    {
     "output_type": "stream",
     "name": "stdout",
     "text": [
      "Мінімальне значення:\n"
     ]
    },
    {
     "output_type": "execute_result",
     "data": {
      "text/plain": [
       "Email                                               aaron04@yahoo.com\n",
       "Address                 0001 Mack Mill\\nNorth Jennifer, NE 42021-5936\n",
       "Avatar                                                      AliceBlue\n",
       "Avg_Session_Length                                          29.532429\n",
       "Time_on_App                                                  8.508152\n",
       "Time_on_Website                                             33.913847\n",
       "Length_of_Membership                                         0.269901\n",
       "Yearly_Amount_Spent                                        256.670582\n",
       "dtype: object"
      ]
     },
     "metadata": {},
     "execution_count": 16
    }
   ],
   "metadata": {}
  },
  {
   "cell_type": "markdown",
   "source": [
    "## Завдання №3: **Matplotlib**"
   ],
   "metadata": {}
  },
  {
   "cell_type": "code",
   "execution_count": 17,
   "source": [
    "plt.style.use('seaborn-dark-palette') #тема оформлення\r\n",
    "x_data = []\r\n",
    "y_data = []\r\n",
    "for i in np.arange(0,5,0.5):\r\n",
    "    x_data.append(i)\r\n",
    "    y_data.append(i**0.5*100)\r\n",
    "X = np.linspace(0,25,1000)\r\n",
    "Y = X\r\n",
    "X1 = np.linspace(0,25,1000)\r\n",
    "Y1 = X1*25\r\n",
    "fig, ax = plt.subplots()\r\n",
    "plt.plot(x_data,y_data,X,Y,X1,Y1)"
   ],
   "outputs": [
    {
     "output_type": "execute_result",
     "data": {
      "text/plain": [
       "[<matplotlib.lines.Line2D at 0x2271dee0370>,\n",
       " <matplotlib.lines.Line2D at 0x2271dee0250>,\n",
       " <matplotlib.lines.Line2D at 0x2271df2ab80>]"
      ]
     },
     "metadata": {},
     "execution_count": 17
    },
    {
     "output_type": "display_data",
     "data": {
      "image/png": "[encoded data removed]",
      "text/plain": [
       "<Figure size 432x288 with 1 Axes>"
      ]
     },
     "metadata": {
      "needs_background": "light"
     }
    }
   ],
   "metadata": {}
  },
  {
   "cell_type": "code",
   "execution_count": 18,
   "source": [
    "x_data = np.random.random(50)\r\n",
    "y_data = x_data**2\r\n",
    "plt.scatter(x_data,y_data)"
   ],
   "outputs": [
    {
     "output_type": "execute_result",
     "data": {
      "text/plain": [
       "<matplotlib.collections.PathCollection at 0x227202587f0>"
      ]
     },
     "metadata": {},
     "execution_count": 18
    },
    {
     "output_type": "display_data",
     "data": {
      "image/png": "[encoded data removed]",
      "text/plain": [
       "<Figure size 432x288 with 1 Axes>"
      ]
     },
     "metadata": {
      "needs_background": "light"
     }
    }
   ],
   "metadata": {}
  },
  {
   "cell_type": "code",
   "execution_count": 19,
   "source": [
    "mean = np.mean(x_data)\r\n",
    "MAE = [np.abs(real - mean) for real in x_data] \r\n",
    "MSE = [np.square(real - mean) for real in x_data]\r\n",
    "\r\n",
    "def yhat(x, y):\r\n",
    "    k, b = np.polyfit(x, y, 1)\r\n",
    "    y_pred = k*x + b\r\n",
    "    return y_pred\r\n",
    "y_hat = (yhat(x_data, y_data))\r\n",
    "\r\n",
    "head = np.column_stack((x_data,y_data, y_hat, MAE, MSE))\r\n",
    "tbl = pd.DataFrame(head, columns=('X', 'Y', 'Y_Hat', 'MAE', 'MSE'))\r\n",
    "print(tbl)\r\n"
   ],
   "outputs": [
    {
     "output_type": "stream",
     "name": "stdout",
     "text": [
      "           X         Y     Y_Hat       MAE       MSE\n",
      "0   0.854538  0.730236  0.706370  0.276201  0.076287\n",
      "1   0.536050  0.287350  0.354824  0.042287  0.001788\n",
      "2   0.852076  0.726034  0.703653  0.273739  0.074933\n",
      "3   0.559319  0.312837  0.380508  0.019018  0.000362\n",
      "4   0.129323  0.016724 -0.094120  0.449014  0.201613\n",
      "5   0.167655  0.028108 -0.051810  0.410682  0.168660\n",
      "6   0.228626  0.052270  0.015490  0.349711  0.122298\n",
      "7   0.571683  0.326822  0.394155  0.006654  0.000044\n",
      "8   0.545800  0.297898  0.365586  0.032537  0.001059\n",
      "9   0.800919  0.641471  0.647185  0.222582  0.049543\n",
      "10  0.610495  0.372705  0.436996  0.032158  0.001034\n",
      "11  0.411398  0.169248  0.217233  0.166939  0.027869\n",
      "12  0.825368  0.681233  0.674172  0.247031  0.061024\n",
      "13  0.763088  0.582304  0.605428  0.184751  0.034133\n",
      "14  0.386911  0.149700  0.190205  0.191426  0.036644\n",
      "15  0.292905  0.085793  0.086441  0.285432  0.081471\n",
      "16  0.493764  0.243803  0.308149  0.084573  0.007153\n",
      "17  0.574628  0.330197  0.397406  0.003709  0.000014\n",
      "18  0.222943  0.049704  0.009218  0.355394  0.126305\n",
      "19  0.275645  0.075980  0.067390  0.302692  0.091622\n",
      "20  0.834662  0.696660  0.684430  0.256324  0.065702\n",
      "21  0.883062  0.779799  0.737855  0.304725  0.092858\n",
      "22  0.918660  0.843937  0.777148  0.340323  0.115820\n",
      "23  0.832303  0.692728  0.681827  0.253966  0.064499\n",
      "24  0.850107  0.722681  0.701479  0.271770  0.073859\n",
      "25  0.831059  0.690660  0.680454  0.252722  0.063869\n",
      "26  0.419715  0.176161  0.226414  0.158622  0.025161\n",
      "27  0.298023  0.088817  0.092090  0.280314  0.078576\n",
      "28  0.811767  0.658966  0.659159  0.233430  0.054490\n",
      "29  0.658655  0.433826  0.490154  0.080318  0.006451\n",
      "30  0.936980  0.877931  0.797369  0.358643  0.128625\n",
      "31  0.681018  0.463785  0.514839  0.102681  0.010543\n",
      "32  0.431521  0.186210  0.239445  0.146816  0.021555\n",
      "33  0.515600  0.265844  0.332252  0.062737  0.003936\n",
      "34  0.969600  0.940125  0.833375  0.391263  0.153087\n",
      "35  0.394490  0.155622  0.198570  0.183847  0.033800\n",
      "36  0.197805  0.039127 -0.018530  0.380532  0.144805\n",
      "37  0.666035  0.443602  0.498301  0.087698  0.007691\n",
      "38  0.544288  0.296249  0.363916  0.034049  0.001159\n",
      "39  0.947802  0.898329  0.809314  0.369465  0.136504\n",
      "40  0.422290  0.178329  0.229256  0.156047  0.024351\n",
      "41  0.545148  0.297186  0.364866  0.033189  0.001102\n",
      "42  0.281259  0.079107  0.073586  0.297078  0.088255\n",
      "43  0.180167  0.032460 -0.037999  0.398170  0.158539\n",
      "44  0.835463  0.697999  0.685315  0.257126  0.066114\n",
      "45  0.614724  0.377885  0.441664  0.036387  0.001324\n",
      "46  0.972747  0.946237  0.836849  0.394410  0.155559\n",
      "47  0.028463  0.000810 -0.205449  0.549874  0.302362\n",
      "48  0.873175  0.762434  0.726941  0.294838  0.086929\n",
      "49  0.437129  0.191082  0.245635  0.141208  0.019940\n"
     ]
    }
   ],
   "metadata": {}
  },
  {
   "cell_type": "code",
   "execution_count": 20,
   "source": [
    "tbl.to_csv('data.csv') # записуємо в файл data.csv всі розрахунки"
   ],
   "outputs": [],
   "metadata": {}
  }
 ],
 "metadata": {
  "orig_nbformat": 4,
  "language_info": {
   "name": "python",
   "version": "3.9.7",
   "mimetype": "text/x-python",
   "codemirror_mode": {
    "name": "ipython",
    "version": 3
   },
   "pygments_lexer": "ipython3",
   "nbconvert_exporter": "python",
   "file_extension": ".py"
  },
  "kernelspec": {
   "name": "python3",
   "display_name": "Python 3.9.7 64-bit (windows store)"
  },
  "interpreter": {
   "hash": "1f8d80d535cfd832283e4e3a1095d2ce45fe6627336684f2622a1965babb2f1c"
  }
 },
 "nbformat": 4,
 "nbformat_minor": 2
}
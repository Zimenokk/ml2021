{
 "cells": [
  {
   "cell_type": "markdown",
   "source": [
    "# Лабораторна робота *№1*\r\n",
    "# Студента групи МІТ-31 - підгрупа 1\r\n",
    "# **Зименка Данііла Миколайовича**"
   ],
   "metadata": {}
  },
  {
   "cell_type": "markdown",
   "source": [
    "# Завдання\r\n",
    "1.  NumPy (створити набір даних (розмір за власним рішенням), провести CRUD операції над даними (скаляр, вектор, матриця)). Використати arange, random.\r\n",
    "2.  Pandas (створити dataframe різними способами, провести маніпуляції з даними (head, describe, iloc, loc ...))\r\n",
    "3.  Matplotlib (створити набір даних лінійної функції з урахуванням помилок вимірювань, побудувати графік функції та згенерованих даних, обчислити похибку з використанням метрик MAE, MSE). Записати отримані результати у csv файл (формат: X,Y, Y_hat, mAE, mSE)\r\n",
    "4.  Відповіді оформити .ipynb документом\r\n",
    "5.  Викласти у зазначений репозіторій GitHub в окремій папці з назвою Lab1 де має бути .ipynb файл та необхідні файли з даними"
   ],
   "metadata": {}
  },
  {
   "cell_type": "markdown",
   "source": [
    "#Імпортуємо необхідні бібліотеки:"
   ],
   "metadata": {}
  },
  {
   "cell_type": "code",
   "execution_count": 2,
   "source": [
    "import pandas as pd\r\n",
    "import numpy as np\r\n",
    "import matplotlib.pyplot as plt"
   ],
   "outputs": [],
   "metadata": {}
  },
  {
   "cell_type": "markdown",
   "source": [
    "## 1.NumPy"
   ],
   "metadata": {}
  },
  {
   "cell_type": "markdown",
   "source": [
    "# Створення"
   ],
   "metadata": {}
  },
  {
   "cell_type": "code",
   "execution_count": 3,
   "source": [
    "arr1 = np.arange(1,10,2)\r\n",
    "arr2 = np.random.randint(7, size=(arr1.size))\r\n",
    "arr1 = np.append(arr1,12)\r\n",
    "arr2 = np.append(arr2,11)\r\n",
    "print(\"arr1.add(12):\", arr1)\r\n",
    "print(\"arr2.add(11):\", arr2)\r\n"
   ],
   "outputs": [
    {
     "output_type": "stream",
     "name": "stdout",
     "text": [
      "arr1.add(12): [ 1  3  5  7  9 12]\n",
      "arr2.add(11): [ 5  4  6  0  2 11]\n"
     ]
    }
   ],
   "metadata": {}
  },
  {
   "cell_type": "markdown",
   "source": [
    "# Редагування:\r\n"
   ],
   "metadata": {}
  },
  {
   "cell_type": "code",
   "execution_count": 23,
   "source": [
    "arr1[4] = 22\r\n",
    "arr2[2] = 92\r\n",
    "arr1[1] = 15\r\n",
    "arr2[1] = 13\r\n",
    "print(\"arr1:\", arr1)\r\n",
    "print(\"arr2:\", arr2)\r\n",
    "\r\n",
    "\r\n"
   ],
   "outputs": [
    {
     "output_type": "stream",
     "name": "stdout",
     "text": [
      "arr1: [ 5 15 25 35 22]\n",
      "arr2: [28561    13    92    16 14641]\n",
      "4\n"
     ]
    }
   ],
   "metadata": {}
  },
  {
   "cell_type": "markdown",
   "source": [
    "# Видалення:"
   ],
   "metadata": {}
  },
  {
   "cell_type": "code",
   "execution_count": 5,
   "source": [
    "arr2 = np.delete(arr2,0) #видалення першого елемента масиву\r\n",
    "arr1 = np.delete(arr1,np.random.randint(arr1.size)) #видалення рандомного елемента першого масиву\r\n",
    "print(\"arr1:\", arr1)\r\n",
    "print(\"arr2:\", arr2)\r\n"
   ],
   "outputs": [
    {
     "output_type": "stream",
     "name": "stdout",
     "text": [
      "arr1: [ 1 15  5  7 22]\n",
      "arr2: [13 92  0  2 11]\n"
     ]
    }
   ],
   "metadata": {}
  },
  {
   "cell_type": "code",
   "execution_count": null,
   "source": [],
   "outputs": [],
   "metadata": {}
  },
  {
   "cell_type": "markdown",
   "source": [
    "# Робота зі звичайними числами:\r\n"
   ],
   "metadata": {}
  },
  {
   "cell_type": "code",
   "execution_count": 6,
   "source": [
    "arr2 = np.power(arr2,4) #піднесення до степеню\r\n",
    "arr1 = np.multiply(arr1,5) #множення на 5\r\n",
    "print(\"arr2**4:\", arr2)\r\n",
    "print(\"arr1*5:\", arr1)\r\n"
   ],
   "outputs": [
    {
     "output_type": "stream",
     "name": "stdout",
     "text": [
      "arr2**4: [   28561 71639296        0       16    14641]\n",
      "arr1*5: [  5  75  25  35 110]\n"
     ]
    }
   ],
   "metadata": {}
  },
  {
   "cell_type": "markdown",
   "source": [
    "# Операції над векторами(одномірними масивами)\r\n"
   ],
   "metadata": {}
  },
  {
   "cell_type": "code",
   "execution_count": 7,
   "source": [
    "arr3 = np.add(arr2,arr1) #додавання відповідних елементів масивів\r\n",
    "print(\"arr3=arr2+arr1:\", arr3)\r\n",
    "arr3 = np.subtract(arr3,arr1) #віднімання відповідних елементів масивів\r\n",
    "print(\"arr3-arr1:\", arr3)\r\n"
   ],
   "outputs": [
    {
     "output_type": "stream",
     "name": "stdout",
     "text": [
      "arr3=arr2+arr1: [   28566 71639371       25       51    14751]\n",
      "arr3-arr1: [   28561 71639296        0       16    14641]\n"
     ]
    }
   ],
   "metadata": {}
  },
  {
   "cell_type": "markdown",
   "source": [
    "# Робота з матрицями\r\n"
   ],
   "metadata": {}
  },
  {
   "cell_type": "code",
   "execution_count": 8,
   "source": [
    "size = np.random.randint(1,7) # наповнення матриці рандомними значеннями\r\n",
    "matrix = np.random.randint(18,size=(size,size)) #вказуємо, що матриця квадратна \r\n",
    "print(\"Ваша матриця: \")\r\n",
    "print(\"⁂⁂⁂⁂⁂⁂⁂⁂⁂⁂⁂⁂⁂\")\r\n",
    "print( matrix, sep=\"\\n\")\r\n",
    "print(\"⁂⁂⁂⁂⁂⁂⁂⁂⁂⁂⁂⁂⁂\")\r\n"
   ],
   "outputs": [
    {
     "output_type": "stream",
     "name": "stdout",
     "text": [
      "Ваша матриця: \n",
      "⁂⁂⁂⁂⁂⁂⁂⁂⁂⁂⁂⁂⁂\n",
      "[[ 8  1 11 14]\n",
      " [ 1  7  6  4]\n",
      " [17  2  5 14]\n",
      " [ 4 12  4 17]]\n",
      "⁂⁂⁂⁂⁂⁂⁂⁂⁂⁂⁂⁂⁂\n"
     ]
    }
   ],
   "metadata": {}
  },
  {
   "cell_type": "code",
   "execution_count": 9,
   "source": [
    "matrix = np.zeros((size,size)) #всі значення матриці = 0\r\n",
    "print(\"Matrix: \", matrix, sep=\"\\n\")\r\n",
    "matrix = np.ones((size,size)) #одиночна матриця\r\n",
    "print(\"Matrix: \", matrix, sep=\"\\n\")"
   ],
   "outputs": [
    {
     "output_type": "stream",
     "name": "stdout",
     "text": [
      "Matrix: \n",
      "[[0. 0. 0. 0.]\n",
      " [0. 0. 0. 0.]\n",
      " [0. 0. 0. 0.]\n",
      " [0. 0. 0. 0.]]\n",
      "Matrix: \n",
      "[[1. 1. 1. 1.]\n",
      " [1. 1. 1. 1.]\n",
      " [1. 1. 1. 1.]\n",
      " [1. 1. 1. 1.]]\n"
     ]
    }
   ],
   "metadata": {}
  },
  {
   "cell_type": "code",
   "execution_count": 10,
   "source": [
    "m = np.random.randint(30,size = (size,size))\r\n",
    "m2 = np.random.randint(30,size = (size,size))\r\n",
    "print(\"Матриця: \", m, sep=\"\\n\")\r\n",
    "print(\"Друга матриця: \", m2, sep=\"\\n\")\r\n",
    "print(\"Перша матриця - друга матриця: \", m-m2, sep=\"\\n\")\r\n",
    "print(\"Перша матриця + друга матриця: \", m+m2, sep=\"\\n\")\r\n",
    "print(\"Перша матриця * друга матриця: \", m*m2, sep=\"\\n\")\r\n",
    "print(\"Розділити першу матрицю на другу матрицю: \", m/m2, sep=\"\\n\")"
   ],
   "outputs": [
    {
     "output_type": "stream",
     "name": "stdout",
     "text": [
      "Матриця: \n",
      "[[ 2 18 10 17]\n",
      " [24  2  3  4]\n",
      " [ 2 18 18 12]\n",
      " [23 23  6  6]]\n",
      "Друга матриця: \n",
      "[[19 23 25 13]\n",
      " [ 4 14  1  4]\n",
      " [29  8 12 25]\n",
      " [10  4 15 17]]\n",
      "Перша матриця - друга матриця: \n",
      "[[-17  -5 -15   4]\n",
      " [ 20 -12   2   0]\n",
      " [-27  10   6 -13]\n",
      " [ 13  19  -9 -11]]\n",
      "Перша матриця + друга матриця: \n",
      "[[21 41 35 30]\n",
      " [28 16  4  8]\n",
      " [31 26 30 37]\n",
      " [33 27 21 23]]\n",
      "Перша матриця * друга матриця: \n",
      "[[ 38 414 250 221]\n",
      " [ 96  28   3  16]\n",
      " [ 58 144 216 300]\n",
      " [230  92  90 102]]\n",
      "Розділити першу матрицю на другу матрицю: \n",
      "[[0.10526316 0.7826087  0.4        1.30769231]\n",
      " [6.         0.14285714 3.         1.        ]\n",
      " [0.06896552 2.25       1.5        0.48      ]\n",
      " [2.3        5.75       0.4        0.35294118]]\n"
     ]
    }
   ],
   "metadata": {}
  },
  {
   "cell_type": "markdown",
   "source": [
    "## Завдання №2: Pandas"
   ],
   "metadata": {}
  },
  {
   "cell_type": "code",
   "execution_count": 11,
   "source": [
    "csv = pd.read_csv(\"FyntraCustomerData.csv\")  #вибір файлу для обробки\r\n",
    "csv.head()"
   ],
   "outputs": [
    {
     "output_type": "execute_result",
     "data": {
      "text/html": [
       "<div>\n",
       "<style scoped>\n",
       "    .dataframe tbody tr th:only-of-type {\n",
       "        vertical-align: middle;\n",
       "    }\n",
       "\n",
       "    .dataframe tbody tr th {\n",
       "        vertical-align: top;\n",
       "    }\n",
       "\n",
       "    .dataframe thead th {\n",
       "        text-align: right;\n",
       "    }\n",
       "</style>\n",
       "<table border=\"1\" class=\"dataframe\">\n",
       "  <thead>\n",
       "    <tr style=\"text-align: right;\">\n",
       "      <th></th>\n",
       "      <th>Email</th>\n",
       "      <th>Address</th>\n",
       "      <th>Avatar</th>\n",
       "      <th>Avg_Session_Length</th>\n",
       "      <th>Time_on_App</th>\n",
       "      <th>Time_on_Website</th>\n",
       "      <th>Length_of_Membership</th>\n",
       "      <th>Yearly_Amount_Spent</th>\n",
       "    </tr>\n",
       "  </thead>\n",
       "  <tbody>\n",
       "    <tr>\n",
       "      <th>0</th>\n",
       "      <td>mstephenson@fernandez.com</td>\n",
       "      <td>835 Frank Tunnel\\nWrightmouth, MI 82180-9605</td>\n",
       "      <td>Violet</td>\n",
       "      <td>34.497268</td>\n",
       "      <td>12.655651</td>\n",
       "      <td>39.577668</td>\n",
       "      <td>4.082621</td>\n",
       "      <td>587.951054</td>\n",
       "    </tr>\n",
       "    <tr>\n",
       "      <th>1</th>\n",
       "      <td>hduke@hotmail.com</td>\n",
       "      <td>4547 Archer Common\\nDiazchester, CA 06566-8576</td>\n",
       "      <td>DarkGreen</td>\n",
       "      <td>31.926272</td>\n",
       "      <td>11.109461</td>\n",
       "      <td>37.268959</td>\n",
       "      <td>2.664034</td>\n",
       "      <td>392.204933</td>\n",
       "    </tr>\n",
       "    <tr>\n",
       "      <th>2</th>\n",
       "      <td>pallen@yahoo.com</td>\n",
       "      <td>24645 Valerie Unions Suite 582\\nCobbborough, D...</td>\n",
       "      <td>Bisque</td>\n",
       "      <td>33.000915</td>\n",
       "      <td>11.330278</td>\n",
       "      <td>37.110597</td>\n",
       "      <td>4.104543</td>\n",
       "      <td>487.547505</td>\n",
       "    </tr>\n",
       "    <tr>\n",
       "      <th>3</th>\n",
       "      <td>riverarebecca@gmail.com</td>\n",
       "      <td>1414 David Throughway\\nPort Jason, OH 22070-1220</td>\n",
       "      <td>SaddleBrown</td>\n",
       "      <td>34.305557</td>\n",
       "      <td>13.717514</td>\n",
       "      <td>36.721283</td>\n",
       "      <td>3.120179</td>\n",
       "      <td>581.852344</td>\n",
       "    </tr>\n",
       "    <tr>\n",
       "      <th>4</th>\n",
       "      <td>mstephens@davidson-herman.com</td>\n",
       "      <td>14023 Rodriguez Passage\\nPort Jacobville, PR 3...</td>\n",
       "      <td>MediumAquaMarine</td>\n",
       "      <td>33.330673</td>\n",
       "      <td>12.795189</td>\n",
       "      <td>37.536653</td>\n",
       "      <td>4.446308</td>\n",
       "      <td>599.406092</td>\n",
       "    </tr>\n",
       "  </tbody>\n",
       "</table>\n",
       "</div>"
      ],
      "text/plain": [
       "                           Email  \\\n",
       "0      mstephenson@fernandez.com   \n",
       "1              hduke@hotmail.com   \n",
       "2               pallen@yahoo.com   \n",
       "3        riverarebecca@gmail.com   \n",
       "4  mstephens@davidson-herman.com   \n",
       "\n",
       "                                             Address            Avatar  \\\n",
       "0       835 Frank Tunnel\\nWrightmouth, MI 82180-9605            Violet   \n",
       "1     4547 Archer Common\\nDiazchester, CA 06566-8576         DarkGreen   \n",
       "2  24645 Valerie Unions Suite 582\\nCobbborough, D...            Bisque   \n",
       "3   1414 David Throughway\\nPort Jason, OH 22070-1220       SaddleBrown   \n",
       "4  14023 Rodriguez Passage\\nPort Jacobville, PR 3...  MediumAquaMarine   \n",
       "\n",
       "   Avg_Session_Length  Time_on_App  Time_on_Website  Length_of_Membership  \\\n",
       "0           34.497268    12.655651        39.577668              4.082621   \n",
       "1           31.926272    11.109461        37.268959              2.664034   \n",
       "2           33.000915    11.330278        37.110597              4.104543   \n",
       "3           34.305557    13.717514        36.721283              3.120179   \n",
       "4           33.330673    12.795189        37.536653              4.446308   \n",
       "\n",
       "   Yearly_Amount_Spent  \n",
       "0           587.951054  \n",
       "1           392.204933  \n",
       "2           487.547505  \n",
       "3           581.852344  \n",
       "4           599.406092  "
      ]
     },
     "metadata": {},
     "execution_count": 11
    }
   ],
   "metadata": {}
  },
  {
   "cell_type": "code",
   "execution_count": 12,
   "source": [
    "csv.describe()"
   ],
   "outputs": [
    {
     "output_type": "execute_result",
     "data": {
      "text/html": [
       "<div>\n",
       "<style scoped>\n",
       "    .dataframe tbody tr th:only-of-type {\n",
       "        vertical-align: middle;\n",
       "    }\n",
       "\n",
       "    .dataframe tbody tr th {\n",
       "        vertical-align: top;\n",
       "    }\n",
       "\n",
       "    .dataframe thead th {\n",
       "        text-align: right;\n",
       "    }\n",
       "</style>\n",
       "<table border=\"1\" class=\"dataframe\">\n",
       "  <thead>\n",
       "    <tr style=\"text-align: right;\">\n",
       "      <th></th>\n",
       "      <th>Avg_Session_Length</th>\n",
       "      <th>Time_on_App</th>\n",
       "      <th>Time_on_Website</th>\n",
       "      <th>Length_of_Membership</th>\n",
       "      <th>Yearly_Amount_Spent</th>\n",
       "    </tr>\n",
       "  </thead>\n",
       "  <tbody>\n",
       "    <tr>\n",
       "      <th>count</th>\n",
       "      <td>500.000000</td>\n",
       "      <td>500.000000</td>\n",
       "      <td>500.000000</td>\n",
       "      <td>500.000000</td>\n",
       "      <td>500.000000</td>\n",
       "    </tr>\n",
       "    <tr>\n",
       "      <th>mean</th>\n",
       "      <td>33.053194</td>\n",
       "      <td>12.052488</td>\n",
       "      <td>37.060445</td>\n",
       "      <td>3.533462</td>\n",
       "      <td>499.314038</td>\n",
       "    </tr>\n",
       "    <tr>\n",
       "      <th>std</th>\n",
       "      <td>0.992563</td>\n",
       "      <td>0.994216</td>\n",
       "      <td>1.010489</td>\n",
       "      <td>0.999278</td>\n",
       "      <td>79.314782</td>\n",
       "    </tr>\n",
       "    <tr>\n",
       "      <th>min</th>\n",
       "      <td>29.532429</td>\n",
       "      <td>8.508152</td>\n",
       "      <td>33.913847</td>\n",
       "      <td>0.269901</td>\n",
       "      <td>256.670582</td>\n",
       "    </tr>\n",
       "    <tr>\n",
       "      <th>25%</th>\n",
       "      <td>32.341822</td>\n",
       "      <td>11.388153</td>\n",
       "      <td>36.349257</td>\n",
       "      <td>2.930450</td>\n",
       "      <td>445.038277</td>\n",
       "    </tr>\n",
       "    <tr>\n",
       "      <th>50%</th>\n",
       "      <td>33.082008</td>\n",
       "      <td>11.983231</td>\n",
       "      <td>37.069367</td>\n",
       "      <td>3.533975</td>\n",
       "      <td>498.887875</td>\n",
       "    </tr>\n",
       "    <tr>\n",
       "      <th>75%</th>\n",
       "      <td>33.711985</td>\n",
       "      <td>12.753850</td>\n",
       "      <td>37.716432</td>\n",
       "      <td>4.126502</td>\n",
       "      <td>549.313828</td>\n",
       "    </tr>\n",
       "    <tr>\n",
       "      <th>max</th>\n",
       "      <td>36.139662</td>\n",
       "      <td>15.126994</td>\n",
       "      <td>40.005182</td>\n",
       "      <td>6.922689</td>\n",
       "      <td>765.518462</td>\n",
       "    </tr>\n",
       "  </tbody>\n",
       "</table>\n",
       "</div>"
      ],
      "text/plain": [
       "       Avg_Session_Length  Time_on_App  Time_on_Website  Length_of_Membership  \\\n",
       "count          500.000000   500.000000       500.000000            500.000000   \n",
       "mean            33.053194    12.052488        37.060445              3.533462   \n",
       "std              0.992563     0.994216         1.010489              0.999278   \n",
       "min             29.532429     8.508152        33.913847              0.269901   \n",
       "25%             32.341822    11.388153        36.349257              2.930450   \n",
       "50%             33.082008    11.983231        37.069367              3.533975   \n",
       "75%             33.711985    12.753850        37.716432              4.126502   \n",
       "max             36.139662    15.126994        40.005182              6.922689   \n",
       "\n",
       "       Yearly_Amount_Spent  \n",
       "count           500.000000  \n",
       "mean            499.314038  \n",
       "std              79.314782  \n",
       "min             256.670582  \n",
       "25%             445.038277  \n",
       "50%             498.887875  \n",
       "75%             549.313828  \n",
       "max             765.518462  "
      ]
     },
     "metadata": {},
     "execution_count": 12
    }
   ],
   "metadata": {}
  },
  {
   "cell_type": "code",
   "execution_count": 13,
   "source": [
    "print(csv.iloc[12])"
   ],
   "outputs": [
    {
     "output_type": "stream",
     "name": "stdout",
     "text": [
      "Email                                                   knelson@gmail.com\n",
      "Address                 6705 Miller Orchard Suite 186\\nLake Shanestad,...\n",
      "Avatar                                                          RoyalBlue\n",
      "Avg_Session_Length                                              29.532429\n",
      "Time_on_App                                                     10.961298\n",
      "Time_on_Website                                                 37.420216\n",
      "Length_of_Membership                                             4.046423\n",
      "Yearly_Amount_Spent                                            408.640351\n",
      "Name: 12, dtype: object\n"
     ]
    }
   ],
   "metadata": {}
  },
  {
   "cell_type": "code",
   "execution_count": 14,
   "source": [
    "csv.info()"
   ],
   "outputs": [
    {
     "output_type": "stream",
     "name": "stdout",
     "text": [
      "<class 'pandas.core.frame.DataFrame'>\n",
      "RangeIndex: 500 entries, 0 to 499\n",
      "Data columns (total 8 columns):\n",
      " #   Column                Non-Null Count  Dtype  \n",
      "---  ------                --------------  -----  \n",
      " 0   Email                 500 non-null    object \n",
      " 1   Address               500 non-null    object \n",
      " 2   Avatar                500 non-null    object \n",
      " 3   Avg_Session_Length    500 non-null    float64\n",
      " 4   Time_on_App           500 non-null    float64\n",
      " 5   Time_on_Website       500 non-null    float64\n",
      " 6   Length_of_Membership  500 non-null    float64\n",
      " 7   Yearly_Amount_Spent   500 non-null    float64\n",
      "dtypes: float64(5), object(3)\n",
      "memory usage: 31.4+ KB\n"
     ]
    }
   ],
   "metadata": {}
  },
  {
   "cell_type": "code",
   "execution_count": 15,
   "source": [
    "csv.median()"
   ],
   "outputs": [
    {
     "output_type": "stream",
     "name": "stderr",
     "text": [
      "C:\\Users\\User\\AppData\\Local\\Temp/ipykernel_7152/1044457711.py:1: FutureWarning: Dropping of nuisance columns in DataFrame reductions (with 'numeric_only=None') is deprecated; in a future version this will raise TypeError.  Select only valid columns before calling the reduction.\n",
      "  csv.median()\n"
     ]
    },
    {
     "output_type": "execute_result",
     "data": {
      "text/plain": [
       "Avg_Session_Length       33.082008\n",
       "Time_on_App              11.983231\n",
       "Time_on_Website          37.069367\n",
       "Length_of_Membership      3.533975\n",
       "Yearly_Amount_Spent     498.887875\n",
       "dtype: float64"
      ]
     },
     "metadata": {},
     "execution_count": 15
    }
   ],
   "metadata": {}
  },
  {
   "cell_type": "code",
   "execution_count": 16,
   "source": [
    "print(\"Максимальне значення:\")\r\n",
    "csv.max()\r\n"
   ],
   "outputs": [
    {
     "output_type": "stream",
     "name": "stdout",
     "text": [
      "Максимальне значення:\n"
     ]
    },
    {
     "output_type": "execute_result",
     "data": {
      "text/plain": [
       "Email                                  zscott@wright.com\n",
       "Address                 Unit 7502 Box 8345\\nDPO AE 53747\n",
       "Avatar                                       YellowGreen\n",
       "Avg_Session_Length                             36.139662\n",
       "Time_on_App                                    15.126994\n",
       "Time_on_Website                                40.005182\n",
       "Length_of_Membership                            6.922689\n",
       "Yearly_Amount_Spent                           765.518462\n",
       "dtype: object"
      ]
     },
     "metadata": {},
     "execution_count": 16
    }
   ],
   "metadata": {}
  },
  {
   "cell_type": "code",
   "execution_count": 17,
   "source": [
    "print(\"Мінімальне значення:\")\r\n",
    "csv.min()"
   ],
   "outputs": [
    {
     "output_type": "stream",
     "name": "stdout",
     "text": [
      "Мінімальне значення:\n"
     ]
    },
    {
     "output_type": "execute_result",
     "data": {
      "text/plain": [
       "Email                                               aaron04@yahoo.com\n",
       "Address                 0001 Mack Mill\\nNorth Jennifer, NE 42021-5936\n",
       "Avatar                                                      AliceBlue\n",
       "Avg_Session_Length                                          29.532429\n",
       "Time_on_App                                                  8.508152\n",
       "Time_on_Website                                             33.913847\n",
       "Length_of_Membership                                         0.269901\n",
       "Yearly_Amount_Spent                                        256.670582\n",
       "dtype: object"
      ]
     },
     "metadata": {},
     "execution_count": 17
    }
   ],
   "metadata": {}
  },
  {
   "cell_type": "markdown",
   "source": [
    "## Завдання №3: **Matplotlib**"
   ],
   "metadata": {}
  },
  {
   "cell_type": "code",
   "execution_count": 18,
   "source": [
    "plt.style.use('seaborn-dark-palette') #тема оформлення\r\n",
    "x_data = []\r\n",
    "y_data = []\r\n",
    "for i in np.arange(0,5,0.5):\r\n",
    "    x_data.append(i)\r\n",
    "    y_data.append(i**0.5*100)\r\n",
    "X = np.linspace(0,25,1000)\r\n",
    "Y = X\r\n",
    "X1 = np.linspace(0,25,1000)\r\n",
    "Y1 = X1*25\r\n",
    "fig, ax = plt.subplots()\r\n",
    "plt.plot(x_data,y_data,X,Y,X1,Y1)"
   ],
   "outputs": [
    {
     "output_type": "execute_result",
     "data": {
      "text/plain": [
       "[<matplotlib.lines.Line2D at 0x1320bcdfb20>,\n",
       " <matplotlib.lines.Line2D at 0x1320bcdfb50>,\n",
       " <matplotlib.lines.Line2D at 0x1320bcecca0>]"
      ]
     },
     "metadata": {},
     "execution_count": 18
    },
    {
     "output_type": "display_data",
     "data": {
      "image/png": "[encoded data removed]",
      "text/plain": [
       "<Figure size 432x288 with 1 Axes>"
      ]
     },
     "metadata": {
      "needs_background": "light"
     }
    }
   ],
   "metadata": {}
  },
  {
   "cell_type": "code",
   "execution_count": 19,
   "source": [
    "x_data = np.random.random(50)\r\n",
    "y_data = x_data**2\r\n",
    "plt.scatter(x_data,y_data)"
   ],
   "outputs": [
    {
     "output_type": "execute_result",
     "data": {
      "text/plain": [
       "<matplotlib.collections.PathCollection at 0x1320dded760>"
      ]
     },
     "metadata": {},
     "execution_count": 19
    },
    {
     "output_type": "display_data",
     "data": {
      "image/png": "[encoded data removed]",
      "text/plain": [
       "<Figure size 432x288 with 1 Axes>"
      ]
     },
     "metadata": {
      "needs_background": "light"
     }
    }
   ],
   "metadata": {}
  },
  {
   "cell_type": "code",
   "execution_count": 20,
   "source": [
    "mean = np.mean(x_data)\r\n",
    "MAE = [np.abs(real - mean) for real in x_data] \r\n",
    "MSE = [np.square(real - mean) for real in x_data]\r\n",
    "\r\n",
    "def yhat(x, y):\r\n",
    "    k, b = np.polyfit(x, y, 1)\r\n",
    "    y_pred = k*x + b\r\n",
    "    return y_pred\r\n",
    "y_hat = (yhat(x_data, y_data))\r\n",
    "\r\n",
    "head = np.column_stack((x_data,y_data, y_hat, MAE, MSE))\r\n",
    "tbl = pd.DataFrame(head, columns=('X', 'Y', 'Y_Hat', 'MAE', 'MSE'))\r\n",
    "print(tbl)\r\n"
   ],
   "outputs": [
    {
     "output_type": "stream",
     "name": "stdout",
     "text": [
      "           X         Y     Y_Hat       MAE       MSE\n",
      "0   0.179637  0.032269  0.038484  0.273999  0.075075\n",
      "1   0.065973  0.004352 -0.065699  0.387663  0.150283\n",
      "2   0.343113  0.117726  0.188324  0.110523  0.012215\n",
      "3   0.108813  0.011840 -0.026432  0.344823  0.118903\n",
      "4   0.040795  0.001664 -0.088777  0.412841  0.170438\n",
      "5   0.060678  0.003682 -0.070552  0.392958  0.154416\n",
      "6   0.626835  0.392922  0.448380  0.173199  0.029998\n",
      "7   0.137172  0.018816 -0.000438  0.316463  0.100149\n",
      "8   0.265552  0.070518  0.117233  0.188084  0.035376\n",
      "9   0.572818  0.328121  0.398869  0.119182  0.014204\n",
      "10  0.263841  0.069612  0.115664  0.189795  0.036022\n",
      "11  0.945242  0.893482  0.740227  0.491606  0.241676\n",
      "12  0.590976  0.349253  0.415512  0.137340  0.018862\n",
      "13  0.019083  0.000364 -0.108677  0.434552  0.188836\n",
      "14  0.332070  0.110270  0.178202  0.121566  0.014778\n",
      "15  0.772557  0.596845  0.581947  0.318922  0.101711\n",
      "16  0.620222  0.384675  0.442318  0.166586  0.027751\n",
      "17  0.772508  0.596769  0.581902  0.318872  0.101680\n",
      "18  0.026784  0.000717 -0.101619  0.426852  0.182203\n",
      "19  0.688054  0.473419  0.504493  0.234418  0.054952\n",
      "20  0.405173  0.164165  0.245208  0.048463  0.002349\n",
      "21  0.858443  0.736925  0.660669  0.404808  0.163869\n",
      "22  0.030486  0.000929 -0.098225  0.423150  0.179056\n",
      "23  0.094545  0.008939 -0.039510  0.359091  0.128946\n",
      "24  0.766788  0.587964  0.576659  0.313152  0.098064\n",
      "25  0.524115  0.274697  0.354228  0.070479  0.004967\n",
      "26  0.592946  0.351585  0.417317  0.139310  0.019407\n",
      "27  0.506105  0.256142  0.337720  0.052469  0.002753\n",
      "28  0.282057  0.079556  0.132361  0.171579  0.029439\n",
      "29  0.279349  0.078036  0.129879  0.174287  0.030376\n",
      "30  0.497503  0.247510  0.329836  0.043867  0.001924\n",
      "31  0.900837  0.811507  0.699526  0.447201  0.199989\n",
      "32  0.330443  0.109192  0.176711  0.123193  0.015177\n",
      "33  0.789620  0.623499  0.597586  0.335984  0.112885\n",
      "34  0.148685  0.022107  0.010114  0.304951  0.092995\n",
      "35  0.345179  0.119148  0.190218  0.108457  0.011763\n",
      "36  0.769368  0.591927  0.579024  0.315732  0.099687\n",
      "37  0.287586  0.082706  0.137429  0.166050  0.027573\n",
      "38  0.643452  0.414030  0.463611  0.189816  0.036030\n",
      "39  0.148374  0.022015  0.009829  0.305262  0.093185\n",
      "40  0.934309  0.872934  0.730207  0.480673  0.231047\n",
      "41  0.860009  0.739616  0.662104  0.406373  0.165139\n",
      "42  0.191257  0.036579  0.049135  0.262379  0.068843\n",
      "43  0.551011  0.303613  0.378881  0.097375  0.009482\n",
      "44  0.042343  0.001793 -0.087358  0.411293  0.169162\n",
      "45  0.643577  0.414191  0.463725  0.189941  0.036077\n",
      "46  0.499533  0.249533  0.331697  0.045897  0.002107\n",
      "47  0.730997  0.534356  0.543853  0.277361  0.076929\n",
      "48  0.705564  0.497821  0.520542  0.251928  0.063468\n",
      "49  0.889420  0.791068  0.689062  0.435784  0.189908\n"
     ]
    }
   ],
   "metadata": {}
  },
  {
   "cell_type": "code",
   "execution_count": 21,
   "source": [
    "tbl.to_csv('data.csv') # записуємо в файл data.csv всі розрахунки"
   ],
   "outputs": [],
   "metadata": {}
  }
 ],
 "metadata": {
  "orig_nbformat": 4,
  "language_info": {
   "name": "python",
   "version": "3.9.7",
   "mimetype": "text/x-python",
   "codemirror_mode": {
    "name": "ipython",
    "version": 3
   },
   "pygments_lexer": "ipython3",
   "nbconvert_exporter": "python",
   "file_extension": ".py"
  },
  "kernelspec": {
   "name": "python3",
   "display_name": "Python 3.9.7 64-bit (windows store)"
  },
  "interpreter": {
   "hash": "1f8d80d535cfd832283e4e3a1095d2ce45fe6627336684f2622a1965babb2f1c"
  }
 },
 "nbformat": 4,
 "nbformat_minor": 2
}
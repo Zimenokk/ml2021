{
 "cells": [
  {
   "cell_type": "markdown",
   "metadata": {},
   "source": [
    "# Лабораторна робота *№5*\n",
    "# Студента групи МІТ-31 -  підгрупа 1\n",
    "# **Зименка Данііла Миколайовича**"
   ]
  },
  {
   "cell_type": "markdown",
   "metadata": {},
   "source": [
    "## Завдання\n",
    "1.  Виконати вирішення задач регресії та класифікації для наборів даних, що використовувалися в лабораторних роботах 2,3 з використанням Tensorflow & NN\n",
    "2.  Отримані результати викласти на github у репозиторій ml2021 в основну (default) гілку в папці Lab5."
   ]
  },
  {
   "cell_type": "code",
   "execution_count": 3,
   "metadata": {},
   "outputs": [
    {
     "name": "stdout",
     "output_type": "stream",
     "text": [
      "Collecting tensorflowNote: you may need to restart the kernel to use updated packages.\n",
      "\n"
     ]
    },
    {
     "name": "stderr",
     "output_type": "stream",
     "text": [
      "  WARNING: The script normalizer.exe is installed in 'C:\\Users\\User\\AppData\\Local\\Packages\\PythonSoftwareFoundation.Python.3.9_qbz5n2kfra8p0\\LocalCache\\local-packages\\Python39\\Scripts' which is not on PATH.\n",
      "  Consider adding this directory to PATH or, if you prefer to suppress this warning, use --no-warn-script-location.\n",
      "  WARNING: The scripts pyrsa-decrypt.exe, pyrsa-encrypt.exe, pyrsa-keygen.exe, pyrsa-priv2pub.exe, pyrsa-sign.exe and pyrsa-verify.exe are installed in 'C:\\Users\\User\\AppData\\Local\\Packages\\PythonSoftwareFoundation.Python.3.9_qbz5n2kfra8p0\\LocalCache\\local-packages\\Python39\\Scripts' which is not on PATH.\n",
      "  Consider adding this directory to PATH or, if you prefer to suppress this warning, use --no-warn-script-location.\n",
      "  WARNING: The script wheel.exe is installed in 'C:\\Users\\User\\AppData\\Local\\Packages\\PythonSoftwareFoundation.Python.3.9_qbz5n2kfra8p0\\LocalCache\\local-packages\\Python39\\Scripts' which is not on PATH.\n",
      "  Consider adding this directory to PATH or, if you prefer to suppress this warning, use --no-warn-script-location.\n",
      "  WARNING: The script f2py.exe is installed in 'C:\\Users\\User\\AppData\\Local\\Packages\\PythonSoftwareFoundation.Python.3.9_qbz5n2kfra8p0\\LocalCache\\local-packages\\Python39\\Scripts' which is not on PATH.\n",
      "  Consider adding this directory to PATH or, if you prefer to suppress this warning, use --no-warn-script-location.\n",
      "  WARNING: The script markdown_py.exe is installed in 'C:\\Users\\User\\AppData\\Local\\Packages\\PythonSoftwareFoundation.Python.3.9_qbz5n2kfra8p0\\LocalCache\\local-packages\\Python39\\Scripts' which is not on PATH.\n",
      "  Consider adding this directory to PATH or, if you prefer to suppress this warning, use --no-warn-script-location.\n",
      "  WARNING: The script google-oauthlib-tool.exe is installed in 'C:\\Users\\User\\AppData\\Local\\Packages\\PythonSoftwareFoundation.Python.3.9_qbz5n2kfra8p0\\LocalCache\\local-packages\\Python39\\Scripts' which is not on PATH.\n",
      "  Consider adding this directory to PATH or, if you prefer to suppress this warning, use --no-warn-script-location.\n",
      "  WARNING: The script tensorboard.exe is installed in 'C:\\Users\\User\\AppData\\Local\\Packages\\PythonSoftwareFoundation.Python.3.9_qbz5n2kfra8p0\\LocalCache\\local-packages\\Python39\\Scripts' which is not on PATH.\n",
      "  Consider adding this directory to PATH or, if you prefer to suppress this warning, use --no-warn-script-location.\n",
      "  WARNING: The scripts estimator_ckpt_converter.exe, import_pb_to_tensorboard.exe, saved_model_cli.exe, tensorboard.exe, tf_upgrade_v2.exe, tflite_convert.exe, toco.exe and toco_from_protos.exe are installed in 'C:\\Users\\User\\AppData\\Local\\Packages\\PythonSoftwareFoundation.Python.3.9_qbz5n2kfra8p0\\LocalCache\\local-packages\\Python39\\Scripts' which is not on PATH.\n",
      "  Consider adding this directory to PATH or, if you prefer to suppress this warning, use --no-warn-script-location.\n",
      "WARNING: You are using pip version 21.2.3; however, version 21.3.1 is available.\n",
      "You should consider upgrading via the 'C:\\Users\\User\\AppData\\Local\\Microsoft\\WindowsApps\\PythonSoftwareFoundation.Python.3.9_qbz5n2kfra8p0\\python.exe -m pip install --upgrade pip' command.\n"
     ]
    },
    {
     "name": "stdout",
     "output_type": "stream",
     "text": [
      "  Using cached tensorflow-2.6.0-cp39-cp39-win_amd64.whl (423.3 MB)\n",
      "Collecting six~=1.15.0\n",
      "  Using cached six-1.15.0-py2.py3-none-any.whl (10 kB)\n",
      "Collecting keras-preprocessing~=1.1.2\n",
      "  Using cached Keras_Preprocessing-1.1.2-py2.py3-none-any.whl (42 kB)\n",
      "Collecting wheel~=0.35\n",
      "  Using cached wheel-0.37.0-py2.py3-none-any.whl (35 kB)\n",
      "Collecting absl-py~=0.10\n",
      "  Downloading absl_py-0.15.0-py3-none-any.whl (132 kB)\n",
      "Collecting h5py~=3.1.0\n",
      "  Using cached h5py-3.1.0-cp39-cp39-win_amd64.whl (2.7 MB)\n",
      "Collecting numpy~=1.19.2\n",
      "  Using cached numpy-1.19.5-cp39-cp39-win_amd64.whl (13.3 MB)\n",
      "Collecting google-pasta~=0.2\n",
      "  Using cached google_pasta-0.2.0-py3-none-any.whl (57 kB)\n",
      "Collecting tensorboard~=2.6\n",
      "  Downloading tensorboard-2.7.0-py3-none-any.whl (5.8 MB)\n",
      "Collecting wrapt~=1.12.1\n",
      "  Using cached wrapt-1.12.1.tar.gz (27 kB)\n",
      "Collecting flatbuffers~=1.12.0\n",
      "  Using cached flatbuffers-1.12-py2.py3-none-any.whl (15 kB)\n",
      "Collecting protobuf>=3.9.2\n",
      "  Downloading protobuf-3.19.1-cp39-cp39-win_amd64.whl (895 kB)\n",
      "Collecting astunparse~=1.6.3\n",
      "  Using cached astunparse-1.6.3-py2.py3-none-any.whl (12 kB)\n",
      "Collecting clang~=5.0\n",
      "  Using cached clang-5.0.tar.gz (30 kB)\n",
      "Collecting typing-extensions~=3.7.4\n",
      "  Using cached typing_extensions-3.7.4.3-py3-none-any.whl (22 kB)\n",
      "Requirement already satisfied: termcolor~=1.1.0 in c:\\users\\user\\appdata\\local\\packages\\pythonsoftwarefoundation.python.3.9_qbz5n2kfra8p0\\localcache\\local-packages\\python39\\site-packages (from tensorflow) (1.1.0)\n",
      "Collecting gast==0.4.0\n",
      "  Using cached gast-0.4.0-py3-none-any.whl (9.8 kB)\n",
      "Collecting opt-einsum~=3.3.0\n",
      "  Using cached opt_einsum-3.3.0-py3-none-any.whl (65 kB)\n",
      "Collecting tensorflow-estimator~=2.6\n",
      "  Downloading tensorflow_estimator-2.7.0-py2.py3-none-any.whl (463 kB)\n",
      "Collecting keras~=2.6\n",
      "  Using cached keras-2.6.0-py2.py3-none-any.whl (1.3 MB)\n",
      "Collecting grpcio<2.0,>=1.37.0\n",
      "  Downloading grpcio-1.41.1-cp39-cp39-win_amd64.whl (3.2 MB)\n",
      "Collecting requests<3,>=2.21.0\n",
      "  Using cached requests-2.26.0-py2.py3-none-any.whl (62 kB)\n",
      "Requirement already satisfied: setuptools>=41.0.0 in c:\\program files\\windowsapps\\pythonsoftwarefoundation.python.3.9_3.9.2032.0_x64__qbz5n2kfra8p0\\lib\\site-packages (from tensorboard~=2.6->tensorflow) (57.4.0)\n",
      "Collecting tensorboard-data-server<0.7.0,>=0.6.0\n",
      "  Using cached tensorboard_data_server-0.6.1-py3-none-any.whl (2.4 kB)\n",
      "Collecting markdown>=2.6.8\n",
      "  Using cached Markdown-3.3.4-py3-none-any.whl (97 kB)\n",
      "Collecting tensorboard-plugin-wit>=1.6.0\n",
      "  Using cached tensorboard_plugin_wit-1.8.0-py3-none-any.whl (781 kB)\n",
      "Collecting google-auth<3,>=1.6.3\n",
      "  Downloading google_auth-2.3.2-py2.py3-none-any.whl (155 kB)\n",
      "Collecting werkzeug>=0.11.15\n",
      "  Using cached Werkzeug-2.0.2-py3-none-any.whl (288 kB)\n",
      "Collecting google-auth-oauthlib<0.5,>=0.4.1\n",
      "  Using cached google_auth_oauthlib-0.4.6-py2.py3-none-any.whl (18 kB)\n",
      "Collecting pyasn1-modules>=0.2.1\n",
      "  Using cached pyasn1_modules-0.2.8-py2.py3-none-any.whl (155 kB)\n",
      "Collecting rsa<5,>=3.1.4\n",
      "  Using cached rsa-4.7.2-py3-none-any.whl (34 kB)\n",
      "Collecting cachetools<5.0,>=2.0.0\n",
      "  Using cached cachetools-4.2.4-py3-none-any.whl (10 kB)\n",
      "Collecting requests-oauthlib>=0.7.0\n",
      "  Using cached requests_oauthlib-1.3.0-py2.py3-none-any.whl (23 kB)\n",
      "Collecting pyasn1<0.5.0,>=0.4.6\n",
      "  Using cached pyasn1-0.4.8-py2.py3-none-any.whl (77 kB)\n",
      "Collecting certifi>=2017.4.17\n",
      "  Using cached certifi-2021.10.8-py2.py3-none-any.whl (149 kB)\n",
      "Collecting charset-normalizer~=2.0.0\n",
      "  Downloading charset_normalizer-2.0.7-py3-none-any.whl (38 kB)\n",
      "Collecting idna<4,>=2.5\n",
      "  Downloading idna-3.3-py3-none-any.whl (61 kB)\n",
      "Collecting urllib3<1.27,>=1.21.1\n",
      "  Using cached urllib3-1.26.7-py2.py3-none-any.whl (138 kB)\n",
      "Collecting oauthlib>=3.0.0\n",
      "  Using cached oauthlib-3.1.1-py2.py3-none-any.whl (146 kB)\n",
      "Using legacy 'setup.py install' for clang, since package 'wheel' is not installed.\n",
      "Using legacy 'setup.py install' for wrapt, since package 'wheel' is not installed.\n",
      "Installing collected packages: urllib3, pyasn1, idna, charset-normalizer, certifi, six, rsa, requests, pyasn1-modules, oauthlib, cachetools, requests-oauthlib, google-auth, wheel, werkzeug, tensorboard-plugin-wit, tensorboard-data-server, protobuf, numpy, markdown, grpcio, google-auth-oauthlib, absl-py, wrapt, typing-extensions, tensorflow-estimator, tensorboard, opt-einsum, keras-preprocessing, keras, h5py, google-pasta, gast, flatbuffers, clang, astunparse, tensorflow\n",
      "  Attempting uninstall: six\n",
      "    Found existing installation: six 1.16.0\n",
      "    Uninstalling six-1.16.0:\n",
      "      Successfully uninstalled six-1.16.0\n",
      "  Attempting uninstall: numpy\n",
      "    Found existing installation: numpy 1.21.2\n",
      "    Uninstalling numpy-1.21.2:\n",
      "      Successfully uninstalled numpy-1.21.2\n",
      "    Running setup.py install for wrapt: started\n",
      "    Running setup.py install for wrapt: finished with status 'done'\n",
      "    Running setup.py install for clang: started\n",
      "    Running setup.py install for clang: finished with status 'done'\n",
      "Successfully installed absl-py-0.15.0 astunparse-1.6.3 cachetools-4.2.4 certifi-2021.10.8 charset-normalizer-2.0.7 clang-5.0 flatbuffers-1.12 gast-0.4.0 google-auth-2.3.2 google-auth-oauthlib-0.4.6 google-pasta-0.2.0 grpcio-1.41.1 h5py-3.1.0 idna-3.3 keras-2.6.0 keras-preprocessing-1.1.2 markdown-3.3.4 numpy-1.19.5 oauthlib-3.1.1 opt-einsum-3.3.0 protobuf-3.19.1 pyasn1-0.4.8 pyasn1-modules-0.2.8 requests-2.26.0 requests-oauthlib-1.3.0 rsa-4.7.2 six-1.15.0 tensorboard-2.7.0 tensorboard-data-server-0.6.1 tensorboard-plugin-wit-1.8.0 tensorflow-2.6.0 tensorflow-estimator-2.7.0 typing-extensions-3.7.4.3 urllib3-1.26.7 werkzeug-2.0.2 wheel-0.37.0 wrapt-1.12.1\n"
     ]
    }
   ],
   "source": [
    "%pip install tensorflow "
   ]
  },
  {
   "cell_type": "code",
   "execution_count": 4,
   "metadata": {},
   "outputs": [],
   "source": [
    "import tensorflow as tf\n",
    "import matplotlib.pyplot as plt\n",
    "import numpy as np\n",
    "import pandas as pd\n",
    "from tensorflow.keras.optimizers import SGD, Adam\n",
    "from tensorflow.keras.losses import mae, mse"
   ]
  },
  {
   "cell_type": "code",
   "execution_count": 5,
   "metadata": {},
   "outputs": [],
   "source": [
    "model_1 = pd.read_csv(\"./second_data.csv\")"
   ]
  },
  {
   "cell_type": "code",
   "execution_count": 6,
   "metadata": {},
   "outputs": [
    {
     "data": {
      "text/html": [
       "<div>\n",
       "<style scoped>\n",
       "    .dataframe tbody tr th:only-of-type {\n",
       "        vertical-align: middle;\n",
       "    }\n",
       "\n",
       "    .dataframe tbody tr th {\n",
       "        vertical-align: top;\n",
       "    }\n",
       "\n",
       "    .dataframe thead th {\n",
       "        text-align: right;\n",
       "    }\n",
       "</style>\n",
       "<table border=\"1\" class=\"dataframe\">\n",
       "  <thead>\n",
       "    <tr style=\"text-align: right;\">\n",
       "      <th></th>\n",
       "      <th>Unnamed: 0</th>\n",
       "      <th>career_Burnout</th>\n",
       "      <th>productivity</th>\n",
       "      <th>sex</th>\n",
       "      <th>age</th>\n",
       "      <th>jobSucsess</th>\n",
       "      <th>marital_status</th>\n",
       "      <th>child</th>\n",
       "      <th>company_name</th>\n",
       "    </tr>\n",
       "  </thead>\n",
       "  <tbody>\n",
       "    <tr>\n",
       "      <th>0</th>\n",
       "      <td>0</td>\n",
       "      <td>6</td>\n",
       "      <td>7</td>\n",
       "      <td>1</td>\n",
       "      <td>0</td>\n",
       "      <td>1</td>\n",
       "      <td>0</td>\n",
       "      <td>1</td>\n",
       "      <td>2</td>\n",
       "    </tr>\n",
       "    <tr>\n",
       "      <th>1</th>\n",
       "      <td>1</td>\n",
       "      <td>5</td>\n",
       "      <td>2</td>\n",
       "      <td>1</td>\n",
       "      <td>1</td>\n",
       "      <td>0</td>\n",
       "      <td>0</td>\n",
       "      <td>1</td>\n",
       "      <td>1</td>\n",
       "    </tr>\n",
       "    <tr>\n",
       "      <th>2</th>\n",
       "      <td>2</td>\n",
       "      <td>4</td>\n",
       "      <td>4</td>\n",
       "      <td>1</td>\n",
       "      <td>0</td>\n",
       "      <td>0</td>\n",
       "      <td>0</td>\n",
       "      <td>3</td>\n",
       "      <td>3</td>\n",
       "    </tr>\n",
       "    <tr>\n",
       "      <th>3</th>\n",
       "      <td>3</td>\n",
       "      <td>1</td>\n",
       "      <td>5</td>\n",
       "      <td>0</td>\n",
       "      <td>0</td>\n",
       "      <td>0</td>\n",
       "      <td>0</td>\n",
       "      <td>2</td>\n",
       "      <td>1</td>\n",
       "    </tr>\n",
       "    <tr>\n",
       "      <th>4</th>\n",
       "      <td>4</td>\n",
       "      <td>9</td>\n",
       "      <td>8</td>\n",
       "      <td>0</td>\n",
       "      <td>1</td>\n",
       "      <td>0</td>\n",
       "      <td>0</td>\n",
       "      <td>0</td>\n",
       "      <td>1</td>\n",
       "    </tr>\n",
       "  </tbody>\n",
       "</table>\n",
       "</div>"
      ],
      "text/plain": [
       "   Unnamed: 0  career_Burnout  productivity  sex  age  jobSucsess  \\\n",
       "0           0               6             7    1    0           1   \n",
       "1           1               5             2    1    1           0   \n",
       "2           2               4             4    1    0           0   \n",
       "3           3               1             5    0    0           0   \n",
       "4           4               9             8    0    1           0   \n",
       "\n",
       "   marital_status  child  company_name  \n",
       "0               0      1             2  \n",
       "1               0      1             1  \n",
       "2               0      3             3  \n",
       "3               0      2             1  \n",
       "4               0      0             1  "
      ]
     },
     "execution_count": 6,
     "metadata": {},
     "output_type": "execute_result"
    }
   ],
   "source": [
    "insurance = model_1\n",
    "insurance.head()"
   ]
  },
  {
   "cell_type": "code",
   "execution_count": 5,
   "metadata": {},
   "outputs": [
    {
     "data": {
      "text/plain": [
       "Unnamed: 0    0\n",
       "salary        0\n",
       "age           0\n",
       "degree        0\n",
       "gender        0\n",
       "credits       0\n",
       "is_gamer      0\n",
       "dtype: int64"
      ]
     },
     "execution_count": 5,
     "metadata": {},
     "output_type": "execute_result"
    }
   ],
   "source": [
    "insurance.isna().sum()"
   ]
  },
  {
   "cell_type": "code",
   "execution_count": 7,
   "metadata": {},
   "outputs": [
    {
     "data": {
      "text/html": [
       "<div>\n",
       "<style scoped>\n",
       "    .dataframe tbody tr th:only-of-type {\n",
       "        vertical-align: middle;\n",
       "    }\n",
       "\n",
       "    .dataframe tbody tr th {\n",
       "        vertical-align: top;\n",
       "    }\n",
       "\n",
       "    .dataframe thead th {\n",
       "        text-align: right;\n",
       "    }\n",
       "</style>\n",
       "<table border=\"1\" class=\"dataframe\">\n",
       "  <thead>\n",
       "    <tr style=\"text-align: right;\">\n",
       "      <th></th>\n",
       "      <th>Unnamed: 0</th>\n",
       "      <th>career_Burnout</th>\n",
       "      <th>productivity</th>\n",
       "      <th>sex</th>\n",
       "      <th>age</th>\n",
       "      <th>jobSucsess</th>\n",
       "      <th>marital_status</th>\n",
       "      <th>child</th>\n",
       "      <th>company_name</th>\n",
       "    </tr>\n",
       "  </thead>\n",
       "  <tbody>\n",
       "    <tr>\n",
       "      <th>0</th>\n",
       "      <td>0</td>\n",
       "      <td>6</td>\n",
       "      <td>7</td>\n",
       "      <td>1</td>\n",
       "      <td>0</td>\n",
       "      <td>1</td>\n",
       "      <td>0</td>\n",
       "      <td>1</td>\n",
       "      <td>2</td>\n",
       "    </tr>\n",
       "    <tr>\n",
       "      <th>1</th>\n",
       "      <td>1</td>\n",
       "      <td>5</td>\n",
       "      <td>2</td>\n",
       "      <td>1</td>\n",
       "      <td>1</td>\n",
       "      <td>0</td>\n",
       "      <td>0</td>\n",
       "      <td>1</td>\n",
       "      <td>1</td>\n",
       "    </tr>\n",
       "    <tr>\n",
       "      <th>2</th>\n",
       "      <td>2</td>\n",
       "      <td>4</td>\n",
       "      <td>4</td>\n",
       "      <td>1</td>\n",
       "      <td>0</td>\n",
       "      <td>0</td>\n",
       "      <td>0</td>\n",
       "      <td>3</td>\n",
       "      <td>3</td>\n",
       "    </tr>\n",
       "  </tbody>\n",
       "</table>\n",
       "</div>"
      ],
      "text/plain": [
       "   Unnamed: 0  career_Burnout  productivity  sex  age  jobSucsess  \\\n",
       "0           0               6             7    1    0           1   \n",
       "1           1               5             2    1    1           0   \n",
       "2           2               4             4    1    0           0   \n",
       "\n",
       "   marital_status  child  company_name  \n",
       "0               0      1             2  \n",
       "1               0      1             1  \n",
       "2               0      3             3  "
      ]
     },
     "execution_count": 7,
     "metadata": {},
     "output_type": "execute_result"
    }
   ],
   "source": [
    "insurance=pd.get_dummies(insurance)\n",
    "\n",
    "insurance.head(3)"
   ]
  },
  {
   "cell_type": "code",
   "execution_count": 9,
   "metadata": {},
   "outputs": [
    {
     "data": {
      "text/plain": [
       "(   Unnamed: 0  career_Burnout  sex  age  jobSucsess  marital_status  child  \\\n",
       " 0           0               6    1    0           1               0      1   \n",
       " 1           1               5    1    1           0               0      1   \n",
       " 2           2               4    1    0           0               0      3   \n",
       " 3           3               1    0    0           0               0      2   \n",
       " 4           4               9    0    1           0               0      0   \n",
       " \n",
       "    company_name  \n",
       " 0             2  \n",
       " 1             1  \n",
       " 2             3  \n",
       " 3             1  \n",
       " 4             1  ,\n",
       " 0    7\n",
       " 1    2\n",
       " 2    4\n",
       " 3    5\n",
       " 4    8\n",
       " Name: productivity, dtype: int64)"
      ]
     },
     "execution_count": 9,
     "metadata": {},
     "output_type": "execute_result"
    }
   ],
   "source": [
    "X=insurance.drop(\"productivity\",axis=1)\n",
    "y=insurance[\"productivity\"]\n",
    "\n",
    "X.head(), y.head()"
   ]
  },
  {
   "cell_type": "code",
   "execution_count": 10,
   "metadata": {},
   "outputs": [
    {
     "data": {
      "text/plain": [
       "(409, 8)"
      ]
     },
     "execution_count": 10,
     "metadata": {},
     "output_type": "execute_result"
    }
   ],
   "source": [
    "from sklearn.model_selection import train_test_split \n",
    "X_train,X_test,y_train,y_test = train_test_split(X,y,test_size=0.2,random_state=48)\n",
    "\n",
    "\n",
    "tf.random.set_seed=13\n",
    "\n",
    "ins_model = tf.keras.Sequential([ \n",
    "    tf.keras.layers.Dense(10),\n",
    "    tf.keras.layers.Dense(1)\n",
    "])\n",
    "\n",
    "ins_model.compile(\n",
    "    loss='mse',\n",
    "    optimizer=Adam(),\n",
    "    metrics=['mse']\n",
    ")\n",
    "\n",
    "X_train.shape"
   ]
  },
  {
   "cell_type": "code",
   "execution_count": 11,
   "metadata": {},
   "outputs": [
    {
     "name": "stdout",
     "output_type": "stream",
     "text": [
      "Epoch 1/10\n",
      "13/13 [==============================] - 0s 1ms/step - loss: 9361.5625 - mse: 9361.5625\n",
      "Epoch 2/10\n",
      "13/13 [==============================] - 0s 1ms/step - loss: 4731.5913 - mse: 4731.5913\n",
      "Epoch 3/10\n",
      "13/13 [==============================] - 0s 997us/step - loss: 1964.3793 - mse: 1964.3793\n",
      "Epoch 4/10\n",
      "13/13 [==============================] - 0s 914us/step - loss: 609.2217 - mse: 609.2217\n",
      "Epoch 5/10\n",
      "13/13 [==============================] - 0s 1ms/step - loss: 146.2900 - mse: 146.2900\n",
      "Epoch 6/10\n",
      "13/13 [==============================] - 0s 997us/step - loss: 34.4871 - mse: 34.4871\n",
      "Epoch 7/10\n",
      "13/13 [==============================] - 0s 1ms/step - loss: 23.3586 - mse: 23.3586\n",
      "Epoch 8/10\n",
      "13/13 [==============================] - 0s 1ms/step - loss: 23.8558 - mse: 23.8558\n",
      "Epoch 9/10\n",
      "13/13 [==============================] - 0s 1ms/step - loss: 23.1926 - mse: 23.1926\n",
      "Epoch 10/10\n",
      "13/13 [==============================] - 0s 997us/step - loss: 22.4354 - mse: 22.4354\n"
     ]
    }
   ],
   "source": [
    "ins_history = ins_model.fit(X_train,y_train,epochs=10)"
   ]
  },
  {
   "cell_type": "code",
   "execution_count": 12,
   "metadata": {},
   "outputs": [
    {
     "name": "stdout",
     "output_type": "stream",
     "text": [
      "4/4 [==============================] - 0s 1ms/step - loss: 8.4657 - mse: 8.4657\n"
     ]
    }
   ],
   "source": [
    "ins_history2 = ins_model.fit(X_train,y_train,epochs=200, verbose=0)\n",
    "\n",
    "score1=ins_model.evaluate(X_test,y_test)"
   ]
  },
  {
   "cell_type": "code",
   "execution_count": 15,
   "metadata": {},
   "outputs": [
    {
     "data": {
      "text/html": [
       "<div>\n",
       "<style scoped>\n",
       "    .dataframe tbody tr th:only-of-type {\n",
       "        vertical-align: middle;\n",
       "    }\n",
       "\n",
       "    .dataframe tbody tr th {\n",
       "        vertical-align: top;\n",
       "    }\n",
       "\n",
       "    .dataframe thead th {\n",
       "        text-align: right;\n",
       "    }\n",
       "</style>\n",
       "<table border=\"1\" class=\"dataframe\">\n",
       "  <thead>\n",
       "    <tr style=\"text-align: right;\">\n",
       "      <th></th>\n",
       "      <th>Unnamed: 0</th>\n",
       "      <th>career_Burnout</th>\n",
       "      <th>sex</th>\n",
       "      <th>age</th>\n",
       "      <th>jobSucsess</th>\n",
       "      <th>marital_status</th>\n",
       "      <th>child</th>\n",
       "      <th>company_name</th>\n",
       "    </tr>\n",
       "  </thead>\n",
       "  <tbody>\n",
       "    <tr>\n",
       "      <th>276</th>\n",
       "      <td>276</td>\n",
       "      <td>4</td>\n",
       "      <td>0</td>\n",
       "      <td>1</td>\n",
       "      <td>1</td>\n",
       "      <td>1</td>\n",
       "      <td>2</td>\n",
       "      <td>3</td>\n",
       "    </tr>\n",
       "    <tr>\n",
       "      <th>190</th>\n",
       "      <td>190</td>\n",
       "      <td>9</td>\n",
       "      <td>1</td>\n",
       "      <td>0</td>\n",
       "      <td>0</td>\n",
       "      <td>0</td>\n",
       "      <td>3</td>\n",
       "      <td>0</td>\n",
       "    </tr>\n",
       "    <tr>\n",
       "      <th>58</th>\n",
       "      <td>58</td>\n",
       "      <td>2</td>\n",
       "      <td>0</td>\n",
       "      <td>0</td>\n",
       "      <td>1</td>\n",
       "      <td>1</td>\n",
       "      <td>3</td>\n",
       "      <td>0</td>\n",
       "    </tr>\n",
       "    <tr>\n",
       "      <th>103</th>\n",
       "      <td>103</td>\n",
       "      <td>4</td>\n",
       "      <td>0</td>\n",
       "      <td>0</td>\n",
       "      <td>0</td>\n",
       "      <td>0</td>\n",
       "      <td>2</td>\n",
       "      <td>2</td>\n",
       "    </tr>\n",
       "    <tr>\n",
       "      <th>451</th>\n",
       "      <td>451</td>\n",
       "      <td>8</td>\n",
       "      <td>0</td>\n",
       "      <td>1</td>\n",
       "      <td>1</td>\n",
       "      <td>1</td>\n",
       "      <td>2</td>\n",
       "      <td>3</td>\n",
       "    </tr>\n",
       "  </tbody>\n",
       "</table>\n",
       "</div>"
      ],
      "text/plain": [
       "     Unnamed: 0  career_Burnout  sex  age  jobSucsess  marital_status  child  \\\n",
       "276         276               4    0    1           1               1      2   \n",
       "190         190               9    1    0           0               0      3   \n",
       "58           58               2    0    0           1               1      3   \n",
       "103         103               4    0    0           0               0      2   \n",
       "451         451               8    0    1           1               1      2   \n",
       "\n",
       "     company_name  \n",
       "276             3  \n",
       "190             0  \n",
       "58              0  \n",
       "103             2  \n",
       "451             3  "
      ]
     },
     "execution_count": 15,
     "metadata": {},
     "output_type": "execute_result"
    }
   ],
   "source": [
    "ins_model.save(\"final_mod.h5\")\n",
    "\n",
    "ins_model_loaded=tf.keras.models.load_model(\"final_mod.h5\")\n",
    "\n",
    "\n",
    "y1=ins_model.predict(X_test)\n",
    "y2=ins_model_loaded.predict(X_test)\n",
    "\n",
    "(y1-y2).sum()\n",
    "\n",
    "X_train.head()"
   ]
  },
  {
   "cell_type": "code",
   "execution_count": 16,
   "metadata": {},
   "outputs": [
    {
     "data": {
      "text/html": [
       "<div>\n",
       "<style scoped>\n",
       "    .dataframe tbody tr th:only-of-type {\n",
       "        vertical-align: middle;\n",
       "    }\n",
       "\n",
       "    .dataframe tbody tr th {\n",
       "        vertical-align: top;\n",
       "    }\n",
       "\n",
       "    .dataframe thead th {\n",
       "        text-align: right;\n",
       "    }\n",
       "</style>\n",
       "<table border=\"1\" class=\"dataframe\">\n",
       "  <thead>\n",
       "    <tr style=\"text-align: right;\">\n",
       "      <th></th>\n",
       "      <th>Unnamed: 0</th>\n",
       "      <th>career_Burnout</th>\n",
       "      <th>productivity</th>\n",
       "      <th>sex</th>\n",
       "      <th>age</th>\n",
       "      <th>jobSucsess</th>\n",
       "      <th>marital_status</th>\n",
       "      <th>child</th>\n",
       "      <th>company_name</th>\n",
       "    </tr>\n",
       "  </thead>\n",
       "  <tbody>\n",
       "    <tr>\n",
       "      <th>0</th>\n",
       "      <td>0</td>\n",
       "      <td>6</td>\n",
       "      <td>7</td>\n",
       "      <td>1</td>\n",
       "      <td>0</td>\n",
       "      <td>1</td>\n",
       "      <td>0</td>\n",
       "      <td>1</td>\n",
       "      <td>2</td>\n",
       "    </tr>\n",
       "    <tr>\n",
       "      <th>1</th>\n",
       "      <td>1</td>\n",
       "      <td>5</td>\n",
       "      <td>2</td>\n",
       "      <td>1</td>\n",
       "      <td>1</td>\n",
       "      <td>0</td>\n",
       "      <td>0</td>\n",
       "      <td>1</td>\n",
       "      <td>1</td>\n",
       "    </tr>\n",
       "  </tbody>\n",
       "</table>\n",
       "</div>"
      ],
      "text/plain": [
       "   Unnamed: 0  career_Burnout  productivity  sex  age  jobSucsess  \\\n",
       "0           0               6             7    1    0           1   \n",
       "1           1               5             2    1    1           0   \n",
       "\n",
       "   marital_status  child  company_name  \n",
       "0               0      1             2  \n",
       "1               0      1             1  "
      ]
     },
     "execution_count": 16,
     "metadata": {},
     "output_type": "execute_result"
    }
   ],
   "source": [
    "from sklearn.compose import make_column_transformer\n",
    "from sklearn.preprocessing import MinMaxScaler, OneHotEncoder\n",
    "\n",
    "insurance2 = model_1\n",
    "insurance2.head(2)"
   ]
  },
  {
   "cell_type": "code",
   "execution_count": 18,
   "metadata": {},
   "outputs": [],
   "source": [
    "ct = make_column_transformer(\n",
    "    (MinMaxScaler(),[\"age\", \"career_Burnout\",\"sex\"]), \n",
    "    (OneHotEncoder(handle_unknown=\"ignore\"),['jobSucsess','marital_status'])\n",
    ")\n",
    "X=insurance2.drop(\"productivity\", axis=1)\n",
    "y = insurance2[\"productivity\"]\n",
    "\n",
    "X_train,X_test,y_train,y_test = train_test_split(X,y,test_size=0.2)\n",
    "\n",
    "ct.fit(X_train)\n",
    "\n",
    "X_train_norm = ct.transform(X_train)\n",
    "X_test_norm = ct.transform(X_test)\n",
    "\n",
    "im3= tf.keras.Sequential([ \n",
    "    \n",
    "    tf.keras.layers.Dense(100),\n",
    "    tf.keras.layers.Dense(10),\n",
    "    tf.keras.layers.Dense(1)\n",
    "])"
   ]
  },
  {
   "cell_type": "code",
   "execution_count": 19,
   "metadata": {},
   "outputs": [
    {
     "name": "stdout",
     "output_type": "stream",
     "text": [
      "4/4 [==============================] - 0s 997us/step - loss: 2.5497 - mae: 2.5497\n"
     ]
    },
    {
     "data": {
      "text/plain": [
       "(409, 8)"
      ]
     },
     "execution_count": 19,
     "metadata": {},
     "output_type": "execute_result"
    }
   ],
   "source": [
    "im3.compile(\n",
    "    loss=mae, \n",
    "    optimizer=tf.keras.optimizers.Adam(), \n",
    "    metrics=[\"mae\"]\n",
    ")\n",
    "history_im3=im3.fit(X_train_norm,y_train,validation_split=0.3,epochs=30,verbose=0)\n",
    "\n",
    "im3.evaluate(X_test_norm,y_test)\n",
    "\n",
    "X_train.shape"
   ]
  },
  {
   "cell_type": "code",
   "execution_count": 20,
   "metadata": {},
   "outputs": [
    {
     "data": {
      "image/png": "[encoded data removed]",
      "text/plain": [
       "<Figure size 432x288 with 1 Axes>"
      ]
     },
     "metadata": {
      "needs_background": "light"
     },
     "output_type": "display_data"
    }
   ],
   "source": [
    "plt.plot(history_im3.history['loss'])\n",
    "plt.plot(history_im3.history['val_loss'])\n",
    "plt.title('model loss')\n",
    "plt.ylabel('loss')\n",
    "plt.xlabel('epoch')\n",
    "plt.legend(['loss', 'val_loss'], loc='upper right')\n",
    "plt.show()"
   ]
  },
  {
   "cell_type": "code",
   "execution_count": 21,
   "metadata": {},
   "outputs": [],
   "source": [
    "import matplotlib as plt\n",
    "import sklearn.model_selection\n",
    "import sklearn.datasets\n",
    "import seaborn as sns"
   ]
  },
  {
   "cell_type": "code",
   "execution_count": 22,
   "metadata": {},
   "outputs": [
    {
     "name": "stdout",
     "output_type": "stream",
     "text": [
      "Downloading data from https://storage.googleapis.com/tensorflow/tf-keras-datasets/train-labels-idx1-ubyte.gz\n",
      "32768/29515 [=================================] - 0s 1us/step\n",
      "40960/29515 [=========================================] - 0s 1us/step\n",
      "Downloading data from https://storage.googleapis.com/tensorflow/tf-keras-datasets/train-images-idx3-ubyte.gz\n",
      "26427392/26421880 [==============================] - 15s 1us/step\n",
      "26435584/26421880 [==============================] - 15s 1us/step\n",
      "Downloading data from https://storage.googleapis.com/tensorflow/tf-keras-datasets/t10k-labels-idx1-ubyte.gz\n",
      "16384/5148 [===============================================================================================] - 0s 0s/step\n",
      "Downloading data from https://storage.googleapis.com/tensorflow/tf-keras-datasets/t10k-images-idx3-ubyte.gz\n",
      "4423680/4422102 [==============================] - 2s 0us/step\n",
      "4431872/4422102 [==============================] - 2s 0us/step\n"
     ]
    }
   ],
   "source": [
    "from tensorflow.keras.datasets import fashion_mnist\n",
    "\n",
    "(train_data, train_labels), (test_data, test_labels) = fashion_mnist.load_data()"
   ]
  },
  {
   "cell_type": "code",
   "execution_count": 23,
   "metadata": {},
   "outputs": [
    {
     "name": "stdout",
     "output_type": "stream",
     "text": [
      "Training sample:\n",
      "[[  0   0   0   0   0   0   0   0   0   0   0   0   0   0   0   0   0   0\n",
      "    0   0   0   0   0   0   0   0   0   0]\n",
      " [  0   0   0   0   0   0   0   0   0   0   0   0   0   0   0   0   0   0\n",
      "    0   0   0   0   0   0   0   0   0   0]\n",
      " [  0   0   0   0   0   0   0   0   0   0   0   0   0   0   0   0   0   0\n",
      "    0   0   0   0   0   0   0   0   0   0]\n",
      " [  0   0   0   0   0   0   0   0   0   0   0   0   1   0   0  13  73   0\n",
      "    0   1   4   0   0   0   0   1   1   0]\n",
      " [  0   0   0   0   0   0   0   0   0   0   0   0   3   0  36 136 127  62\n",
      "   54   0   0   0   1   3   4   0   0   3]\n",
      " [  0   0   0   0   0   0   0   0   0   0   0   0   6   0 102 204 176 134\n",
      "  144 123  23   0   0   0   0  12  10   0]\n",
      " [  0   0   0   0   0   0   0   0   0   0   0   0   0   0 155 236 207 178\n",
      "  107 156 161 109  64  23  77 130  72  15]\n",
      " [  0   0   0   0   0   0   0   0   0   0   0   1   0  69 207 223 218 216\n",
      "  216 163 127 121 122 146 141  88 172  66]\n",
      " [  0   0   0   0   0   0   0   0   0   1   1   1   0 200 232 232 233 229\n",
      "  223 223 215 213 164 127 123 196 229   0]\n",
      " [  0   0   0   0   0   0   0   0   0   0   0   0   0 183 225 216 223 228\n",
      "  235 227 224 222 224 221 223 245 173   0]\n",
      " [  0   0   0   0   0   0   0   0   0   0   0   0   0 193 228 218 213 198\n",
      "  180 212 210 211 213 223 220 243 202   0]\n",
      " [  0   0   0   0   0   0   0   0   0   1   3   0  12 219 220 212 218 192\n",
      "  169 227 208 218 224 212 226 197 209  52]\n",
      " [  0   0   0   0   0   0   0   0   0   0   6   0  99 244 222 220 218 203\n",
      "  198 221 215 213 222 220 245 119 167  56]\n",
      " [  0   0   0   0   0   0   0   0   0   4   0   0  55 236 228 230 228 240\n",
      "  232 213 218 223 234 217 217 209  92   0]\n",
      " [  0   0   1   4   6   7   2   0   0   0   0   0 237 226 217 223 222 219\n",
      "  222 221 216 223 229 215 218 255  77   0]\n",
      " [  0   3   0   0   0   0   0   0   0  62 145 204 228 207 213 221 218 208\n",
      "  211 218 224 223 219 215 224 244 159   0]\n",
      " [  0   0   0   0  18  44  82 107 189 228 220 222 217 226 200 205 211 230\n",
      "  224 234 176 188 250 248 233 238 215   0]\n",
      " [  0  57 187 208 224 221 224 208 204 214 208 209 200 159 245 193 206 223\n",
      "  255 255 221 234 221 211 220 232 246   0]\n",
      " [  3 202 228 224 221 211 211 214 205 205 205 220 240  80 150 255 229 221\n",
      "  188 154 191 210 204 209 222 228 225   0]\n",
      " [ 98 233 198 210 222 229 229 234 249 220 194 215 217 241  65  73 106 117\n",
      "  168 219 221 215 217 223 223 224 229  29]\n",
      " [ 75 204 212 204 193 205 211 225 216 185 197 206 198 213 240 195 227 245\n",
      "  239 223 218 212 209 222 220 221 230  67]\n",
      " [ 48 203 183 194 213 197 185 190 194 192 202 214 219 221 220 236 225 216\n",
      "  199 206 186 181 177 172 181 205 206 115]\n",
      " [  0 122 219 193 179 171 183 196 204 210 213 207 211 210 200 196 194 191\n",
      "  195 191 198 192 176 156 167 177 210  92]\n",
      " [  0   0  74 189 212 191 175 172 175 181 185 188 189 188 193 198 204 209\n",
      "  210 210 211 188 188 194 192 216 170   0]\n",
      " [  2   0   0   0  66 200 222 237 239 242 246 243 244 221 220 193 191 179\n",
      "  182 182 181 176 166 168  99  58   0   0]\n",
      " [  0   0   0   0   0   0   0  40  61  44  72  41  35   0   0   0   0   0\n",
      "    0   0   0   0   0   0   0   0   0   0]\n",
      " [  0   0   0   0   0   0   0   0   0   0   0   0   0   0   0   0   0   0\n",
      "    0   0   0   0   0   0   0   0   0   0]\n",
      " [  0   0   0   0   0   0   0   0   0   0   0   0   0   0   0   0   0   0\n",
      "    0   0   0   0   0   0   0   0   0   0]]\n",
      "\n",
      "Training label: 9\n"
     ]
    }
   ],
   "source": [
    "print(f\"Training sample:\\n{train_data[0]}\\n\") \n",
    "print(f\"Training label: {train_labels[0]}\")"
   ]
  },
  {
   "cell_type": "code",
   "execution_count": 24,
   "metadata": {},
   "outputs": [
    {
     "data": {
      "text/plain": [
       "((60000, 28, 28), (60000,), (10000, 28, 28), (10000,))"
      ]
     },
     "execution_count": 24,
     "metadata": {},
     "output_type": "execute_result"
    }
   ],
   "source": [
    "train_data.shape, train_labels.shape, test_data.shape, test_labels.shape"
   ]
  },
  {
   "cell_type": "code",
   "execution_count": 25,
   "metadata": {},
   "outputs": [
    {
     "data": {
      "text/plain": [
       "((28, 28), ())"
      ]
     },
     "execution_count": 25,
     "metadata": {},
     "output_type": "execute_result"
    }
   ],
   "source": [
    "train_data[0].shape, train_labels[0].shape"
   ]
  },
  {
   "cell_type": "code",
   "execution_count": 26,
   "metadata": {},
   "outputs": [
    {
     "data": {
      "text/plain": [
       "2"
      ]
     },
     "execution_count": 26,
     "metadata": {},
     "output_type": "execute_result"
    }
   ],
   "source": [
    "train_labels[7]"
   ]
  },
  {
   "cell_type": "code",
   "execution_count": 27,
   "metadata": {},
   "outputs": [
    {
     "data": {
      "text/plain": [
       "10"
      ]
     },
     "execution_count": 27,
     "metadata": {},
     "output_type": "execute_result"
    }
   ],
   "source": [
    "class_names = ['T-shirt/top', 'Trouser', 'Pullover', 'Dress', 'Coat', \n",
    "               'Sandal', 'Shirt', 'Sneaker', 'Bag', 'Ankle boot']\n",
    "len(class_names)"
   ]
  },
  {
   "cell_type": "code",
   "execution_count": 28,
   "metadata": {},
   "outputs": [
    {
     "name": "stdout",
     "output_type": "stream",
     "text": [
      "Epoch 1/10\n",
      "1875/1875 [==============================] - 2s 1ms/step - loss: 2.2842 - accuracy: 0.1320 - val_loss: 2.0636 - val_accuracy: 0.1847\n",
      "Epoch 2/10\n",
      "1875/1875 [==============================] - 2s 1ms/step - loss: 1.9411 - accuracy: 0.2046 - val_loss: 1.7927 - val_accuracy: 0.2503\n",
      "Epoch 3/10\n",
      "1875/1875 [==============================] - 2s 1ms/step - loss: 1.7402 - accuracy: 0.2553 - val_loss: 1.7036 - val_accuracy: 0.2663\n",
      "Epoch 4/10\n",
      "1875/1875 [==============================] - 2s 939us/step - loss: 1.6870 - accuracy: 0.2712 - val_loss: 1.6732 - val_accuracy: 0.2791\n",
      "Epoch 5/10\n",
      "1875/1875 [==============================] - 2s 974us/step - loss: 1.6620 - accuracy: 0.2733 - val_loss: 1.6595 - val_accuracy: 0.2571\n",
      "Epoch 6/10\n",
      "1875/1875 [==============================] - 2s 1ms/step - loss: 1.6088 - accuracy: 0.3021 - val_loss: 1.5613 - val_accuracy: 0.3435\n",
      "Epoch 7/10\n",
      "1875/1875 [==============================] - 2s 958us/step - loss: 1.5555 - accuracy: 0.3287 - val_loss: 1.5433 - val_accuracy: 0.3405\n",
      "Epoch 8/10\n",
      "1875/1875 [==============================] - 2s 900us/step - loss: 1.5361 - accuracy: 0.3327 - val_loss: 1.5218 - val_accuracy: 0.3452\n",
      "Epoch 9/10\n",
      "1875/1875 [==============================] - 2s 1ms/step - loss: 1.5253 - accuracy: 0.3354 - val_loss: 1.5257 - val_accuracy: 0.3463\n",
      "Epoch 10/10\n",
      "1875/1875 [==============================] - 2s 1ms/step - loss: 1.5156 - accuracy: 0.3321 - val_loss: 1.5187 - val_accuracy: 0.3230\n"
     ]
    }
   ],
   "source": [
    "model_11 = tf.keras.Sequential([\n",
    "  tf.keras.layers.Flatten(input_shape=(28, 28)),\n",
    "  tf.keras.layers.Dense(4, activation=\"relu\"),\n",
    "  tf.keras.layers.Dense(4, activation=\"relu\"),\n",
    "  tf.keras.layers.Dense(10, activation=\"softmax\")\n",
    "])\n",
    "\n",
    "# Compile the model\n",
    "model_11.compile(loss=tf.keras.losses.SparseCategoricalCrossentropy(),\n",
    "                 optimizer=tf.keras.optimizers.Adam(),\n",
    "                 metrics=[\"accuracy\"])\n",
    "\n",
    "# Fit the model\n",
    "non_norm_history = model_11.fit(train_data,\n",
    "                                train_labels,\n",
    "                                epochs=10,\n",
    "                                validation_data=(test_data, test_labels))"
   ]
  },
  {
   "cell_type": "code",
   "execution_count": 30,
   "metadata": {},
   "outputs": [
    {
     "data": {
      "text/plain": [
       "(0.0, 0.00392156862745098)"
      ]
     },
     "execution_count": 30,
     "metadata": {},
     "output_type": "execute_result"
    }
   ],
   "source": [
    "train_data.min(), train_data.max()\n",
    "\n",
    "# Divide train and test images by the maximum value (normalize it)\n",
    "train_data = train_data / 255.0\n",
    "test_data = test_data / 255.0\n",
    "\n",
    "# Check the min and max values of the training data\n",
    "train_data.min(), train_data.max()"
   ]
  },
  {
   "cell_type": "code",
   "execution_count": 31,
   "metadata": {},
   "outputs": [
    {
     "name": "stdout",
     "output_type": "stream",
     "text": [
      "Epoch 1/10\n",
      "1875/1875 [==============================] - 2s 1ms/step - loss: 1.7181 - accuracy: 0.2979 - val_loss: 1.3391 - val_accuracy: 0.4294\n",
      "Epoch 2/10\n",
      "1875/1875 [==============================] - 2s 943us/step - loss: 1.1915 - accuracy: 0.5166 - val_loss: 1.0834 - val_accuracy: 0.5716\n",
      "Epoch 3/10\n",
      "1875/1875 [==============================] - 2s 1ms/step - loss: 1.0173 - accuracy: 0.5959 - val_loss: 0.9845 - val_accuracy: 0.6205\n",
      "Epoch 4/10\n",
      "1875/1875 [==============================] - 2s 1ms/step - loss: 0.9512 - accuracy: 0.6228 - val_loss: 0.9377 - val_accuracy: 0.6328\n",
      "Epoch 5/10\n",
      "1875/1875 [==============================] - 2s 896us/step - loss: 0.9125 - accuracy: 0.6428 - val_loss: 0.9039 - val_accuracy: 0.6464\n",
      "Epoch 6/10\n",
      "1875/1875 [==============================] - 2s 884us/step - loss: 0.8804 - accuracy: 0.6590 - val_loss: 0.8704 - val_accuracy: 0.6722\n",
      "Epoch 7/10\n",
      "1875/1875 [==============================] - 2s 963us/step - loss: 0.8490 - accuracy: 0.6724 - val_loss: 0.8418 - val_accuracy: 0.6809\n",
      "Epoch 8/10\n",
      "1875/1875 [==============================] - 2s 1ms/step - loss: 0.8223 - accuracy: 0.6860 - val_loss: 0.8172 - val_accuracy: 0.6951\n",
      "Epoch 9/10\n",
      "1875/1875 [==============================] - 2s 983us/step - loss: 0.7966 - accuracy: 0.6994 - val_loss: 0.7957 - val_accuracy: 0.7062\n",
      "Epoch 10/10\n",
      "1875/1875 [==============================] - 2s 930us/step - loss: 0.7716 - accuracy: 0.7131 - val_loss: 0.7724 - val_accuracy: 0.7197\n"
     ]
    }
   ],
   "source": [
    "model_12 = tf.keras.Sequential([\n",
    "  tf.keras.layers.Flatten(input_shape=(28, 28)), # input layer (we had to reshape 28x28 to 784)\n",
    "  tf.keras.layers.Dense(4, activation=\"relu\"),\n",
    "  tf.keras.layers.Dense(4, activation=\"relu\"),\n",
    "  tf.keras.layers.Dense(10, activation=\"softmax\") # output shape is 10, activation is softmax\n",
    "])\n",
    "\n",
    "# Compile the model\n",
    "model_12.compile(loss=tf.keras.losses.SparseCategoricalCrossentropy(),\n",
    "                 optimizer=tf.keras.optimizers.Adam(),\n",
    "                 metrics=[\"accuracy\"])\n",
    "\n",
    "# Fit the model (to the normalized data)\n",
    "norm_history = model_12.fit(train_data,\n",
    "                            train_labels,\n",
    "                            epochs=10,\n",
    "                            validation_data=(test_data, test_labels))"
   ]
  },
  {
   "cell_type": "code",
   "execution_count": 32,
   "metadata": {},
   "outputs": [
    {
     "data": {
      "text/plain": [
       "<AxesSubplot:title={'center':'Normalized data'}>"
      ]
     },
     "execution_count": 32,
     "metadata": {},
     "output_type": "execute_result"
    },
    {
     "data": {
      "image/png": "[encoded data removed]",
      "text/plain": [
       "<Figure size 432x288 with 1 Axes>"
      ]
     },
     "metadata": {
      "needs_background": "light"
     },
     "output_type": "display_data"
    },
    {
     "data": {
      "image/png": "[encoded data removed]",
      "text/plain": [
       "<Figure size 432x288 with 1 Axes>"
      ]
     },
     "metadata": {
      "needs_background": "light"
     },
     "output_type": "display_data"
    }
   ],
   "source": [
    "pd.DataFrame(non_norm_history.history).plot(title=\"Non-normalized Data\")\n",
    "pd.DataFrame(norm_history.history).plot(title=\"Normalized data\")"
   ]
  },
  {
   "cell_type": "code",
   "execution_count": 33,
   "metadata": {},
   "outputs": [
    {
     "name": "stdout",
     "output_type": "stream",
     "text": [
      "Epoch 1/40\n",
      "1875/1875 [==============================] - 2s 1ms/step - loss: 1.6575 - accuracy: 0.3318 - val_loss: 1.2099 - val_accuracy: 0.5708\n",
      "Epoch 2/40\n",
      "1875/1875 [==============================] - 2s 1ms/step - loss: 1.0308 - accuracy: 0.6167 - val_loss: 0.9222 - val_accuracy: 0.6443\n",
      "Epoch 3/40\n",
      "1875/1875 [==============================] - 2s 1ms/step - loss: 0.8614 - accuracy: 0.6788 - val_loss: 0.8238 - val_accuracy: 0.7018\n",
      "Epoch 4/40\n",
      "1875/1875 [==============================] - 2s 939us/step - loss: 0.7874 - accuracy: 0.7101 - val_loss: 0.7704 - val_accuracy: 0.7237\n",
      "Epoch 5/40\n",
      "1875/1875 [==============================] - 2s 878us/step - loss: 0.7448 - accuracy: 0.7279 - val_loss: 0.7459 - val_accuracy: 0.7230\n",
      "Epoch 6/40\n",
      "1875/1875 [==============================] - 2s 920us/step - loss: 0.7149 - accuracy: 0.7412 - val_loss: 0.7125 - val_accuracy: 0.7443\n",
      "Epoch 7/40\n",
      "1875/1875 [==============================] - 2s 1ms/step - loss: 0.6913 - accuracy: 0.7499 - val_loss: 0.6960 - val_accuracy: 0.7564\n",
      "Epoch 8/40\n",
      "1875/1875 [==============================] - 2s 919us/step - loss: 0.6692 - accuracy: 0.7587 - val_loss: 0.6757 - val_accuracy: 0.7611\n",
      "Epoch 9/40\n",
      "1875/1875 [==============================] - 2s 894us/step - loss: 0.6488 - accuracy: 0.7649 - val_loss: 0.6518 - val_accuracy: 0.7662\n",
      "Epoch 10/40\n",
      "1875/1875 [==============================] - 2s 857us/step - loss: 0.6286 - accuracy: 0.7743 - val_loss: 0.6408 - val_accuracy: 0.7668\n",
      "Epoch 11/40\n",
      "1875/1875 [==============================] - 2s 870us/step - loss: 0.6085 - accuracy: 0.7828 - val_loss: 0.6251 - val_accuracy: 0.7811\n",
      "Epoch 12/40\n",
      "1875/1875 [==============================] - 2s 856us/step - loss: 0.5892 - accuracy: 0.7925 - val_loss: 0.6017 - val_accuracy: 0.7900\n",
      "Epoch 13/40\n",
      "1875/1875 [==============================] - 2s 854us/step - loss: 0.5708 - accuracy: 0.8009 - val_loss: 0.5826 - val_accuracy: 0.7991\n",
      "Epoch 14/40\n",
      "1875/1875 [==============================] - 2s 903us/step - loss: 0.5562 - accuracy: 0.8057 - val_loss: 0.5781 - val_accuracy: 0.8027\n",
      "Epoch 15/40\n",
      "1875/1875 [==============================] - 2s 885us/step - loss: 0.5466 - accuracy: 0.8101 - val_loss: 0.5640 - val_accuracy: 0.8055\n",
      "Epoch 16/40\n",
      "1875/1875 [==============================] - 2s 864us/step - loss: 0.5387 - accuracy: 0.8131 - val_loss: 0.5654 - val_accuracy: 0.8035\n",
      "Epoch 17/40\n",
      "1875/1875 [==============================] - 2s 873us/step - loss: 0.5323 - accuracy: 0.8148 - val_loss: 0.5543 - val_accuracy: 0.8077\n",
      "Epoch 18/40\n",
      "1875/1875 [==============================] - 2s 859us/step - loss: 0.5254 - accuracy: 0.8182 - val_loss: 0.5597 - val_accuracy: 0.8060\n",
      "Epoch 19/40\n",
      "1875/1875 [==============================] - 2s 883us/step - loss: 0.5221 - accuracy: 0.8180 - val_loss: 0.5650 - val_accuracy: 0.8063\n",
      "Epoch 20/40\n",
      "1875/1875 [==============================] - 2s 871us/step - loss: 0.5166 - accuracy: 0.8190 - val_loss: 0.5817 - val_accuracy: 0.7951\n",
      "Epoch 21/40\n",
      "1875/1875 [==============================] - 2s 880us/step - loss: 0.5154 - accuracy: 0.8201 - val_loss: 0.5502 - val_accuracy: 0.8094\n",
      "Epoch 22/40\n",
      "1875/1875 [==============================] - 2s 907us/step - loss: 0.5133 - accuracy: 0.8195 - val_loss: 0.5409 - val_accuracy: 0.8104\n",
      "Epoch 23/40\n",
      "1875/1875 [==============================] - 2s 968us/step - loss: 0.5117 - accuracy: 0.8213 - val_loss: 0.5525 - val_accuracy: 0.8092\n",
      "Epoch 24/40\n",
      "1875/1875 [==============================] - 2s 1ms/step - loss: 0.5103 - accuracy: 0.8216 - val_loss: 0.5467 - val_accuracy: 0.8152\n",
      "Epoch 25/40\n",
      "1875/1875 [==============================] - 2s 910us/step - loss: 0.5138 - accuracy: 0.8200 - val_loss: 0.5590 - val_accuracy: 0.8036\n",
      "Epoch 26/40\n",
      "1875/1875 [==============================] - 2s 852us/step - loss: 0.5118 - accuracy: 0.8199 - val_loss: 0.5492 - val_accuracy: 0.8087\n",
      "Epoch 27/40\n",
      "1875/1875 [==============================] - 2s 895us/step - loss: 0.5161 - accuracy: 0.8183 - val_loss: 0.5596 - val_accuracy: 0.8099\n",
      "Epoch 28/40\n",
      "1875/1875 [==============================] - 2s 883us/step - loss: 0.5181 - accuracy: 0.8189 - val_loss: 0.5618 - val_accuracy: 0.8047\n",
      "Epoch 29/40\n",
      "1875/1875 [==============================] - 2s 897us/step - loss: 0.5194 - accuracy: 0.8165 - val_loss: 0.5690 - val_accuracy: 0.8016\n",
      "Epoch 30/40\n",
      "1875/1875 [==============================] - 2s 850us/step - loss: 0.5227 - accuracy: 0.8173 - val_loss: 0.5550 - val_accuracy: 0.8045\n",
      "Epoch 31/40\n",
      "1875/1875 [==============================] - 2s 855us/step - loss: 0.5236 - accuracy: 0.8157 - val_loss: 0.5718 - val_accuracy: 0.8001\n",
      "Epoch 32/40\n",
      "1875/1875 [==============================] - 2s 848us/step - loss: 0.5281 - accuracy: 0.8139 - val_loss: 0.5730 - val_accuracy: 0.8004\n",
      "Epoch 33/40\n",
      "1875/1875 [==============================] - 2s 870us/step - loss: 0.5391 - accuracy: 0.8114 - val_loss: 0.5776 - val_accuracy: 0.7965\n",
      "Epoch 34/40\n",
      "1875/1875 [==============================] - 2s 883us/step - loss: 0.5393 - accuracy: 0.8113 - val_loss: 0.5542 - val_accuracy: 0.8058\n",
      "Epoch 35/40\n",
      "1875/1875 [==============================] - 2s 869us/step - loss: 0.5409 - accuracy: 0.8115 - val_loss: 0.6111 - val_accuracy: 0.7887\n",
      "Epoch 36/40\n",
      "1875/1875 [==============================] - 2s 1ms/step - loss: 0.5503 - accuracy: 0.8080 - val_loss: 0.5789 - val_accuracy: 0.8042\n",
      "Epoch 37/40\n",
      "1875/1875 [==============================] - 2s 867us/step - loss: 0.5570 - accuracy: 0.8054 - val_loss: 0.5806 - val_accuracy: 0.8072\n",
      "Epoch 38/40\n",
      "1875/1875 [==============================] - 2s 888us/step - loss: 0.5655 - accuracy: 0.8026 - val_loss: 0.5929 - val_accuracy: 0.7990\n",
      "Epoch 39/40\n",
      "1875/1875 [==============================] - 2s 856us/step - loss: 0.5772 - accuracy: 0.7998 - val_loss: 0.5644 - val_accuracy: 0.8083\n",
      "Epoch 40/40\n",
      "1875/1875 [==============================] - 2s 875us/step - loss: 0.5870 - accuracy: 0.7982 - val_loss: 0.7617 - val_accuracy: 0.7415\n"
     ]
    }
   ],
   "source": [
    "model_13 = tf.keras.Sequential([\n",
    "  tf.keras.layers.Flatten(input_shape=(28, 28)), # input layer (we had to reshape 28x28 to 784)\n",
    "  tf.keras.layers.Dense(4, activation=\"relu\"),\n",
    "  tf.keras.layers.Dense(4, activation=\"relu\"),\n",
    "  tf.keras.layers.Dense(10, activation=\"softmax\") # output shape is 10, activation is softmax\n",
    "])\n",
    "\n",
    "# Compile the model\n",
    "model_13.compile(loss=tf.keras.losses.SparseCategoricalCrossentropy(),\n",
    "                 optimizer=tf.keras.optimizers.Adam(),\n",
    "                 metrics=[\"accuracy\"])\n",
    "\n",
    "# Create the learning rate callback\n",
    "lr_scheduler = tf.keras.callbacks.LearningRateScheduler(lambda epoch: 1e-3 * 10**(epoch/20))\n",
    "\n",
    "# Fit the model\n",
    "find_lr_history = model_13.fit(train_data,\n",
    "                               train_labels,\n",
    "                               epochs=40, # model already doing pretty good with current LR, probably don't need 100 epochs\n",
    "                               validation_data=(test_data, test_labels),\n",
    "                               callbacks=[lr_scheduler])"
   ]
  },
  {
   "cell_type": "code",
   "execution_count": 34,
   "metadata": {},
   "outputs": [
    {
     "data": {
      "text/plain": [
       "Text(0.5, 1.0, 'Finding the ideal learning rate')"
      ]
     },
     "execution_count": 34,
     "metadata": {},
     "output_type": "execute_result"
    },
    {
     "data": {
      "image/png": "[encoded data removed]",
      "text/plain": [
       "<Figure size 432x288 with 1 Axes>"
      ]
     },
     "metadata": {
      "needs_background": "light"
     },
     "output_type": "display_data"
    }
   ],
   "source": [
    "import numpy as np\n",
    "import matplotlib.pyplot as plt\n",
    "lrs = 1e-3 * (10**(np.arange(40)/20))\n",
    "plt.semilogx(lrs, find_lr_history.history[\"loss\"])\n",
    "plt.xlabel(\"Learning rate\")\n",
    "plt.ylabel(\"Loss\")\n",
    "plt.title(\"Finding the ideal learning rate\")"
   ]
  },
  {
   "cell_type": "code",
   "execution_count": 35,
   "metadata": {},
   "outputs": [
    {
     "name": "stdout",
     "output_type": "stream",
     "text": [
      "Epoch 1/20\n",
      "1875/1875 [==============================] - 2s 1ms/step - loss: 2.1074 - accuracy: 0.1738 - val_loss: 1.8885 - val_accuracy: 0.2095\n",
      "Epoch 2/20\n",
      "1875/1875 [==============================] - 2s 961us/step - loss: 1.7629 - accuracy: 0.2512 - val_loss: 1.6840 - val_accuracy: 0.2921\n",
      "Epoch 3/20\n",
      "1875/1875 [==============================] - 2s 882us/step - loss: 1.6275 - accuracy: 0.3185 - val_loss: 1.5984 - val_accuracy: 0.3260\n",
      "Epoch 4/20\n",
      "1875/1875 [==============================] - 2s 873us/step - loss: 1.5638 - accuracy: 0.3426 - val_loss: 1.5502 - val_accuracy: 0.3458\n",
      "Epoch 5/20\n",
      "1875/1875 [==============================] - 2s 873us/step - loss: 1.5229 - accuracy: 0.3542 - val_loss: 1.5167 - val_accuracy: 0.3544\n",
      "Epoch 6/20\n",
      "1875/1875 [==============================] - 2s 943us/step - loss: 1.4909 - accuracy: 0.3663 - val_loss: 1.4871 - val_accuracy: 0.3679\n",
      "Epoch 7/20\n",
      "1875/1875 [==============================] - 2s 937us/step - loss: 1.4639 - accuracy: 0.3745 - val_loss: 1.4623 - val_accuracy: 0.3873\n",
      "Epoch 8/20\n",
      "1875/1875 [==============================] - 2s 937us/step - loss: 1.4401 - accuracy: 0.3851 - val_loss: 1.4431 - val_accuracy: 0.3928\n",
      "Epoch 9/20\n",
      "1875/1875 [==============================] - 2s 877us/step - loss: 1.4188 - accuracy: 0.3924 - val_loss: 1.4204 - val_accuracy: 0.4093\n",
      "Epoch 10/20\n",
      "1875/1875 [==============================] - 2s 915us/step - loss: 1.4002 - accuracy: 0.4015 - val_loss: 1.4017 - val_accuracy: 0.4055\n",
      "Epoch 11/20\n",
      "1875/1875 [==============================] - 2s 1ms/step - loss: 1.3839 - accuracy: 0.4051 - val_loss: 1.3869 - val_accuracy: 0.4088\n",
      "Epoch 12/20\n",
      "1875/1875 [==============================] - 2s 986us/step - loss: 1.3699 - accuracy: 0.4073 - val_loss: 1.3724 - val_accuracy: 0.4131\n",
      "Epoch 13/20\n",
      "1875/1875 [==============================] - 2s 924us/step - loss: 1.3573 - accuracy: 0.4105 - val_loss: 1.3607 - val_accuracy: 0.4257\n",
      "Epoch 14/20\n",
      "1875/1875 [==============================] - 2s 1ms/step - loss: 1.3458 - accuracy: 0.4203 - val_loss: 1.3480 - val_accuracy: 0.4317\n",
      "Epoch 15/20\n",
      "1875/1875 [==============================] - 2s 915us/step - loss: 1.3340 - accuracy: 0.4313 - val_loss: 1.3363 - val_accuracy: 0.4382\n",
      "Epoch 16/20\n",
      "1875/1875 [==============================] - 2s 947us/step - loss: 1.3213 - accuracy: 0.4394 - val_loss: 1.3239 - val_accuracy: 0.4555\n",
      "Epoch 17/20\n",
      "1875/1875 [==============================] - 2s 940us/step - loss: 1.3075 - accuracy: 0.4510 - val_loss: 1.3095 - val_accuracy: 0.4684\n",
      "Epoch 18/20\n",
      "1875/1875 [==============================] - 2s 945us/step - loss: 1.2928 - accuracy: 0.4594 - val_loss: 1.2948 - val_accuracy: 0.4663\n",
      "Epoch 19/20\n",
      "1875/1875 [==============================] - 2s 906us/step - loss: 1.2792 - accuracy: 0.4663 - val_loss: 1.2827 - val_accuracy: 0.4753\n",
      "Epoch 20/20\n",
      "1875/1875 [==============================] - 2s 1ms/step - loss: 1.2677 - accuracy: 0.4696 - val_loss: 1.2722 - val_accuracy: 0.4715\n"
     ]
    }
   ],
   "source": [
    "model_14 = tf.keras.Sequential([\n",
    "  tf.keras.layers.Flatten(input_shape=(28, 28)), # input layer (we had to reshape 28x28 to 784)\n",
    "  tf.keras.layers.Dense(4, activation=\"relu\"),\n",
    "  tf.keras.layers.Dense(4, activation=\"relu\"),\n",
    "  tf.keras.layers.Dense(10, activation=\"softmax\") # output shape is 10, activation is softmax\n",
    "])\n",
    "\n",
    "# Compile the model\n",
    "model_14.compile(loss=tf.keras.losses.SparseCategoricalCrossentropy(),\n",
    "                 optimizer=tf.keras.optimizers.Adam(learning_rate=0.001), # ideal learning rate (same as default)\n",
    "                 metrics=[\"accuracy\"])\n",
    "\n",
    "# Fit the model\n",
    "history = model_14.fit(train_data,\n",
    "                       train_labels,\n",
    "                       epochs=20,\n",
    "                       validation_data=(test_data, test_labels))"
   ]
  },
  {
   "cell_type": "code",
   "execution_count": 36,
   "metadata": {},
   "outputs": [
    {
     "data": {
      "text/plain": [
       "array([[1.63228409e-09, 2.45041275e-25, 1.09460045e-04, 9.49570492e-11,\n",
       "        1.68133120e-04, 2.11926714e-01, 2.06779750e-05, 4.01355296e-01,\n",
       "        8.40089023e-02, 3.02410841e-01],\n",
       "       [3.92094767e-03, 1.02566555e-09, 1.28128156e-01, 1.40272395e-03,\n",
       "        1.41410962e-01, 2.44078532e-01, 8.37458000e-02, 9.04388875e-02,\n",
       "        3.00537914e-01, 6.33616280e-03],\n",
       "       [8.78712386e-02, 7.53109336e-01, 5.81358140e-03, 1.37708545e-01,\n",
       "        4.90379659e-03, 3.97049589e-05, 1.04269804e-02, 3.90361720e-06,\n",
       "        1.22891361e-04, 3.96269328e-08],\n",
       "       [8.78712386e-02, 7.53109336e-01, 5.81358140e-03, 1.37708545e-01,\n",
       "        4.90379659e-03, 3.97049589e-05, 1.04269804e-02, 3.90361720e-06,\n",
       "        1.22891361e-04, 3.96269328e-08],\n",
       "       [4.88590896e-02, 2.59430362e-06, 2.37773106e-01, 2.75104176e-02,\n",
       "        2.41632566e-01, 8.03911537e-02, 2.11876407e-01, 1.98208187e-02,\n",
       "        1.31366491e-01, 7.67378428e-04]], dtype=float32)"
      ]
     },
     "execution_count": 36,
     "metadata": {},
     "output_type": "execute_result"
    }
   ],
   "source": [
    "y_probs = model_14.predict(test_data)\n",
    "\n",
    "y_probs[:5]"
   ]
  },
  {
   "cell_type": "code",
   "execution_count": 37,
   "metadata": {},
   "outputs": [
    {
     "data": {
      "text/plain": [
       "(7, 'Sneaker')"
      ]
     },
     "execution_count": 37,
     "metadata": {},
     "output_type": "execute_result"
    }
   ],
   "source": [
    "y_probs[0].argmax(), class_names[y_probs[0].argmax()]"
   ]
  },
  {
   "cell_type": "code",
   "execution_count": 38,
   "metadata": {},
   "outputs": [
    {
     "data": {
      "text/plain": [
       "array([7, 8, 1, 1, 4, 1, 6, 6, 4, 5], dtype=int64)"
      ]
     },
     "execution_count": 38,
     "metadata": {},
     "output_type": "execute_result"
    }
   ],
   "source": [
    "y_preds = y_probs.argmax(axis=1)\n",
    "\n",
    "y_preds[:10]"
   ]
  },
  {
   "cell_type": "code",
   "execution_count": 39,
   "metadata": {},
   "outputs": [
    {
     "data": {
      "text/plain": [
       "array([[238,  73,  16, 460,  27,   2, 170,   1,  13,   0],\n",
       "       [ 14, 925,   3,  50,   2,   0,   5,   0,   1,   0],\n",
       "       [ 84,   3, 151,  32, 257,   1, 429,   0,  43,   0],\n",
       "       [192, 178,  10, 463,  23,   0, 126,   0,   8,   0],\n",
       "       [ 64,   1, 160,  26, 365,   1, 347,   0,  36,   0],\n",
       "       [  1,   0,   4,   0,  25, 459,   1, 213, 260,  37],\n",
       "       [134,  13, 161, 114, 215,   1, 338,   0,  24,   0],\n",
       "       [  0,   0,   0,   0,   0, 246,   0, 530,  18, 206],\n",
       "       [  8,   4,  15,   6,  77, 402,  15,  62, 408,   3],\n",
       "       [  0,   0,   0,   0,   0,  24,   0, 135,   3, 838]], dtype=int64)"
      ]
     },
     "execution_count": 39,
     "metadata": {},
     "output_type": "execute_result"
    }
   ],
   "source": [
    "from sklearn.metrics import confusion_matrix\n",
    "confusion_matrix(y_true=test_labels, \n",
    "                 y_pred=y_preds)"
   ]
  },
  {
   "cell_type": "code",
   "execution_count": 42,
   "metadata": {},
   "outputs": [],
   "source": [
    "import random\n",
    "def plot_random_image(model, images, true_labels, classes):\n",
    "  i = random.randint(0, len(images))\n",
    "  \n",
    "  target_image = images[i]\n",
    "  pred_probs = model.predict(target_image.reshape(1, 28, 28))\n",
    "  pred_label = classes[pred_probs.argmax()]\n",
    "  true_label = classes[true_labels[i]]\n",
    "\n",
    "  plt.imshow(target_image, cmap=plt.cm.binary)\n",
    "  if pred_label == true_label:\n",
    "    color = \"green\"\n",
    "  else:\n",
    "    color = \"red\"\n",
    "\n",
    "  plt.xlabel(\"Pred: {} {:2.0f}% (True: {})\".format(pred_label,\n",
    "                                                   100*tf.reduce_max(pred_probs),\n",
    "                                                   true_label),\n",
    "             color=color)"
   ]
  },
  {
   "cell_type": "code",
   "execution_count": 43,
   "metadata": {},
   "outputs": [
    {
     "data": {
      "text/plain": [
       "[<keras.layers.core.Flatten at 0x1e6f8441100>,\n",
       " <keras.layers.core.Dense at 0x1e6f235c070>,\n",
       " <keras.layers.core.Dense at 0x1e6f235cc40>,\n",
       " <keras.layers.core.Dense at 0x1e6f8433850>]"
      ]
     },
     "execution_count": 43,
     "metadata": {},
     "output_type": "execute_result"
    }
   ],
   "source": [
    "model_14.layers"
   ]
  },
  {
   "cell_type": "code",
   "execution_count": 44,
   "metadata": {},
   "outputs": [
    {
     "data": {
      "text/plain": [
       "(array([[ 0.02654241, -0.04159482, -0.03072382, -0.4305489 ],\n",
       "        [-0.02330383,  0.03298382, -0.03570965, -0.70830154],\n",
       "        [-0.06615034,  0.00649534,  0.07230809, -0.9962937 ],\n",
       "        ...,\n",
       "        [ 0.08502287,  0.00902191, -0.08016708, -0.24101755],\n",
       "        [ 0.07852547, -0.04401334, -0.06151878, -0.4545132 ],\n",
       "        [-0.07015866,  0.06774503,  0.07419544, -0.8971566 ]],\n",
       "       dtype=float32),\n",
       " (784, 4))"
      ]
     },
     "execution_count": 44,
     "metadata": {},
     "output_type": "execute_result"
    }
   ],
   "source": [
    "weights, biases = model_14.layers[1].get_weights()\n",
    "\n",
    "weights, weights.shape"
   ]
  },
  {
   "cell_type": "code",
   "execution_count": 45,
   "metadata": {},
   "outputs": [
    {
     "data": {
      "text/plain": [
       "(array([-0.0060045 , -0.0059989 , -0.00822961,  0.21214537], dtype=float32),\n",
       " (4,))"
      ]
     },
     "execution_count": 45,
     "metadata": {},
     "output_type": "execute_result"
    }
   ],
   "source": [
    "biases, biases.shape"
   ]
  },
  {
   "cell_type": "code",
   "execution_count": 46,
   "metadata": {},
   "outputs": [
    {
     "name": "stdout",
     "output_type": "stream",
     "text": [
      "Model: \"sequential_5\"\n",
      "_________________________________________________________________\n",
      "Layer (type)                 Output Shape              Param #   \n",
      "=================================================================\n",
      "flatten_3 (Flatten)          (None, 784)               0         \n",
      "_________________________________________________________________\n",
      "dense_14 (Dense)             (None, 4)                 3140      \n",
      "_________________________________________________________________\n",
      "dense_15 (Dense)             (None, 4)                 20        \n",
      "_________________________________________________________________\n",
      "dense_16 (Dense)             (None, 10)                50        \n",
      "=================================================================\n",
      "Total params: 3,210\n",
      "Trainable params: 3,210\n",
      "Non-trainable params: 0\n",
      "_________________________________________________________________\n"
     ]
    }
   ],
   "source": [
    "model_14.summary()"
   ]
  }
 ],
 "metadata": {
  "interpreter": {
   "hash": "1f8d80d535cfd832283e4e3a1095d2ce45fe6627336684f2622a1965babb2f1c"
  },
  "kernelspec": {
   "display_name": "Python 3.9.7 64-bit (windows store)",
   "name": "python3"
  },
  "language_info": {
   "codemirror_mode": {
    "name": "ipython",
    "version": 3
   },
   "file_extension": ".py",
   "mimetype": "text/x-python",
   "name": "python",
   "nbconvert_exporter": "python",
   "pygments_lexer": "ipython3",
   "version": "3.9.7"
  },
  "orig_nbformat": 4
 },
 "nbformat": 4,
 "nbformat_minor": 2
}

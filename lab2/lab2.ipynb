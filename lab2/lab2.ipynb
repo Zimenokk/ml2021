{
 "cells": [
  {
   "cell_type": "markdown",
   "source": [
    "# Лабораторна робота *№1*\r\n",
    "# Студента групи МІТ-31 - підгрупа 1\r\n",
    "# **Зименка Данііла Миколайовича**\r\n",
    "\r\n",
    "## Завдання\r\n",
    "\r\n",
    "_______________________________________________________________________________________________________________________________\r\n",
    "1. Створити набір даних за допомогою DatasetGenerator\r\n",
    "2. Завантажити набір даних для регресії на сайті (у кожного студента має бути інший - прошу організуватись відповідним чином)\r\n",
    "3. (опціонально для отримання відмінної оцінки) Згенерувати набір даних для регресії на основі звичайних можливостей Python.\r\n",
    "4. Для отриманих наборів даних провести встановленні кроки моделювання.\r\n",
    "5. Отримані результати викласти на github у репозиторій ml2021 в основну (default) гілку в папці Lab2.\r\n",
    "_______________________________________________________________________________________________________________________________\r\n"
   ],
   "metadata": {}
  },
  {
   "cell_type": "code",
   "execution_count": 126,
   "source": [
    "%pip install seaborn\r\n",
    "%pip install sklearn\r\n"
   ],
   "outputs": [
    {
     "output_type": "stream",
     "name": "stdout",
     "text": [
      "Requirement already satisfied: seaborn in c:\\users\\user\\appdata\\local\\packages\\pythonsoftwarefoundation.python.3.9_qbz5n2kfra8p0\\localcache\\local-packages\\python39\\site-packages (0.11.2)\n",
      "Requirement already satisfied: scipy>=1.0 in c:\\users\\user\\appdata\\local\\packages\\pythonsoftwarefoundation.python.3.9_qbz5n2kfra8p0\\localcache\\local-packages\\python39\\site-packages (from seaborn) (1.7.1)\n",
      "Requirement already satisfied: numpy>=1.15 in c:\\users\\user\\appdata\\local\\packages\\pythonsoftwarefoundation.python.3.9_qbz5n2kfra8p0\\localcache\\local-packages\\python39\\site-packages (from seaborn) (1.21.2)\n",
      "Requirement already satisfied: pandas>=0.23 in c:\\users\\user\\appdata\\local\\packages\\pythonsoftwarefoundation.python.3.9_qbz5n2kfra8p0\\localcache\\local-packages\\python39\\site-packages (from seaborn) (1.3.3)\n",
      "Requirement already satisfied: matplotlib>=2.2 in c:\\users\\user\\appdata\\local\\packages\\pythonsoftwarefoundation.python.3.9_qbz5n2kfra8p0\\localcache\\local-packages\\python39\\site-packages (from seaborn) (3.4.3)\n",
      "Requirement already satisfied: python-dateutil>=2.7 in c:\\users\\user\\appdata\\local\\packages\\pythonsoftwarefoundation.python.3.9_qbz5n2kfra8p0\\localcache\\local-packages\\python39\\site-packages (from matplotlib>=2.2->seaborn) (2.8.2)\n",
      "Requirement already satisfied: pillow>=6.2.0 in c:\\users\\user\\appdata\\local\\packages\\pythonsoftwarefoundation.python.3.9_qbz5n2kfra8p0\\localcache\\local-packages\\python39\\site-packages (from matplotlib>=2.2->seaborn) (8.3.2)\n",
      "Requirement already satisfied: cycler>=0.10 in c:\\users\\user\\appdata\\local\\packages\\pythonsoftwarefoundation.python.3.9_qbz5n2kfra8p0\\localcache\\local-packages\\python39\\site-packages (from matplotlib>=2.2->seaborn) (0.10.0)\n",
      "Requirement already satisfied: kiwisolver>=1.0.1 in c:\\users\\user\\appdata\\local\\packages\\pythonsoftwarefoundation.python.3.9_qbz5n2kfra8p0\\localcache\\local-packages\\python39\\site-packages (from matplotlib>=2.2->seaborn) (1.3.2)\n",
      "Requirement already satisfied: pyparsing>=2.2.1 in c:\\users\\user\\appdata\\local\\packages\\pythonsoftwarefoundation.python.3.9_qbz5n2kfra8p0\\localcache\\local-packages\\python39\\site-packages (from matplotlib>=2.2->seaborn) (2.4.7)\n",
      "Requirement already satisfied: six in c:\\users\\user\\appdata\\local\\packages\\pythonsoftwarefoundation.python.3.9_qbz5n2kfra8p0\\localcache\\local-packages\\python39\\site-packages (from cycler>=0.10->matplotlib>=2.2->seaborn) (1.16.0)\n",
      "Requirement already satisfied: pytz>=2017.3 in c:\\users\\user\\appdata\\local\\packages\\pythonsoftwarefoundation.python.3.9_qbz5n2kfra8p0\\localcache\\local-packages\\python39\\site-packages (from pandas>=0.23->seaborn) (2021.1)\n",
      "Note: you may need to restart the kernel to use updated packages.\n"
     ]
    },
    {
     "output_type": "stream",
     "name": "stderr",
     "text": [
      "WARNING: You are using pip version 21.2.3; however, version 21.2.4 is available.\n",
      "You should consider upgrading via the 'C:\\Users\\User\\AppData\\Local\\Microsoft\\WindowsApps\\PythonSoftwareFoundation.Python.3.9_qbz5n2kfra8p0\\python.exe -m pip install --upgrade pip' command.\n"
     ]
    },
    {
     "output_type": "stream",
     "name": "stdout",
     "text": [
      "Requirement already satisfied: sklearn in c:\\users\\user\\appdata\\local\\packages\\pythonsoftwarefoundation.python.3.9_qbz5n2kfra8p0\\localcache\\local-packages\\python39\\site-packages (0.0)\n",
      "Requirement already satisfied: scikit-learn in c:\\users\\user\\appdata\\local\\packages\\pythonsoftwarefoundation.python.3.9_qbz5n2kfra8p0\\localcache\\local-packages\\python39\\site-packages (from sklearn) (1.0)\n",
      "Requirement already satisfied: threadpoolctl>=2.0.0 in c:\\users\\user\\appdata\\local\\packages\\pythonsoftwarefoundation.python.3.9_qbz5n2kfra8p0\\localcache\\local-packages\\python39\\site-packages (from scikit-learn->sklearn) (2.2.0)\n",
      "Requirement already satisfied: numpy>=1.14.6 in c:\\users\\user\\appdata\\local\\packages\\pythonsoftwarefoundation.python.3.9_qbz5n2kfra8p0\\localcache\\local-packages\\python39\\site-packages (from scikit-learn->sklearn) (1.21.2)\n",
      "Requirement already satisfied: joblib>=0.11 in c:\\users\\user\\appdata\\local\\packages\\pythonsoftwarefoundation.python.3.9_qbz5n2kfra8p0\\localcache\\local-packages\\python39\\site-packages (from scikit-learn->sklearn) (1.0.1)\n",
      "Requirement already satisfied: scipy>=1.1.0 in c:\\users\\user\\appdata\\local\\packages\\pythonsoftwarefoundation.python.3.9_qbz5n2kfra8p0\\localcache\\local-packages\\python39\\site-packages (from scikit-learn->sklearn) (1.7.1)\n",
      "Note: you may need to restart the kernel to use updated packages.\n"
     ]
    },
    {
     "output_type": "stream",
     "name": "stderr",
     "text": [
      "WARNING: You are using pip version 21.2.3; however, version 21.2.4 is available.\n",
      "You should consider upgrading via the 'C:\\Users\\User\\AppData\\Local\\Microsoft\\WindowsApps\\PythonSoftwareFoundation.Python.3.9_qbz5n2kfra8p0\\python.exe -m pip install --upgrade pip' command.\n"
     ]
    }
   ],
   "metadata": {}
  },
  {
   "cell_type": "code",
   "execution_count": 127,
   "source": [
    "import pandas as pd\r\n",
    "import numpy as np\r\n",
    "import matplotlib.pyplot as plt\r\n",
    "import seaborn as sns\r\n",
    "from sklearn.datasets import make_regression"
   ],
   "outputs": [],
   "metadata": {}
  },
  {
   "cell_type": "markdown",
   "source": [
    "### Пункт 1"
   ],
   "metadata": {}
  },
  {
   "cell_type": "code",
   "execution_count": 128,
   "source": [
    "X, y = make_regression(n_samples=256, n_features=8, n_informative=256, n_targets=1,  noise=0.0, shuffle=True, coef=False, random_state=None)\r\n",
    "\r\n",
    "print(X,y)"
   ],
   "outputs": [
    {
     "output_type": "stream",
     "name": "stdout",
     "text": [
      "[[ 0.1446179   1.79959891 -1.00224822 ...  1.47795557  0.92322797\n",
      "  -0.33016919]\n",
      " [-1.55480734  0.44992621  0.41554081 ... -1.93199488  1.25960579\n",
      "  -0.63902949]\n",
      " [ 1.23610954 -0.20423738  0.87837535 ...  0.90337074 -0.30852556\n",
      "   0.23269976]\n",
      " ...\n",
      " [ 0.41491491 -0.30037725 -0.84146793 ... -0.17758745  1.15733235\n",
      "   0.75919199]\n",
      " [-0.28866214  0.11169838  0.52678969 ... -0.28806121 -0.04059121\n",
      "   0.06432203]\n",
      " [-1.02369179  0.42050159 -1.50759362 ... -0.90633989  1.61614183\n",
      "   1.19611134]] [ 109.09254752   63.74800131   76.05461941  -13.4437073  -224.83159273\n",
      "  101.23266109  -45.69303662  219.8892572   -28.14879528  -89.41664762\n",
      "  -19.16055708  -48.65748893 -130.32462565  189.68372593 -270.98281521\n",
      "  -31.5717563    -0.75530756 -313.84833854 -188.22493358  -72.63833951\n",
      "  -56.16384006  254.10996496   71.41191417  198.11723521  -46.21228849\n",
      " -162.98397513   41.69457061   34.64175683  321.46368422 -214.86374755\n",
      " -158.70677899 -263.73276322  240.56794086  -72.44470831   24.20011484\n",
      "  -99.88737633   81.02338134   10.23217422 -167.51425659  134.03856919\n",
      " -311.23241735  -84.08386563  127.07812723  -11.49416207 -160.52025182\n",
      "  149.79547502  119.24403909  205.39318541  341.01547001   90.64202412\n",
      "  261.93004452  -41.48748822  146.28847246 -173.77933606   -4.82745188\n",
      " -335.96449328 -318.64462505  270.97862075  -87.10321906  -91.88230813\n",
      "    8.99567415 -106.68811067  184.79360886   13.51441382 -252.89567688\n",
      "  -57.35348368   55.05154452  -12.62175186 -180.82822657   92.97362568\n",
      "   25.88980857 -102.17273597  -11.18950375  -50.29632763 -118.74445771\n",
      " -117.4002988    72.42720231   86.84195339 -286.94201612 -201.78836656\n",
      " -166.13030318 -213.29667383  -15.03360331    2.83950232   20.21401458\n",
      " -148.72354043 -151.84893064  -73.78548798   63.73814142  -15.73392487\n",
      "  308.22293934   86.32739883   38.56763808  135.19320173 -351.64893343\n",
      "   19.01579143  416.22888441   17.1750326  -294.65537243   70.50102502\n",
      " -385.33915725  -66.68115501 -152.17268386    5.89382893  -74.16219753\n",
      " -153.74947391 -309.10642938  -47.94925225 -196.78949806  172.85014874\n",
      " -236.95250578  -68.14038357  -23.1977618   265.8209816    10.56799873\n",
      " -192.32671791  122.37529197  326.72440546   99.39346223 -125.09209408\n",
      "  153.35576889 -100.21935076 -294.15912434    3.11780834   19.89648219\n",
      "   44.89661897  226.1744366     6.80699935  -54.11327792  -20.9622143\n",
      "   56.66475585  -55.77910858 -253.78603272 -253.42780573  136.24857651\n",
      "  225.61112508  157.33335704   27.76669987  193.9857803   215.28867098\n",
      "  -71.38246681  -18.3394558    25.63907217  -35.02424836  115.9925288\n",
      " -122.20817012   12.80765446  -71.93086136  139.39539262 -119.0213096\n",
      "  -57.52205816 -195.04740003  -66.78150093  184.26086316  106.51678531\n",
      "  -23.68269124  -39.0201343   195.25802023   93.27175272 -139.31300603\n",
      "  220.36442767 -273.50619632  160.79010068  -64.57327919  263.52882799\n",
      "  -85.2801481   -97.4887728   126.5202965   279.48191843  154.36584561\n",
      "   -8.09491053 -185.0167203    -8.50466428   89.44201055  138.08137853\n",
      " -254.6661228  -145.88605996  322.84057165    4.9934821   -54.1435462\n",
      "  -28.29620489 -181.67932719   12.75975506  185.14158518  -89.63846122\n",
      "   93.737424     -8.86931253   67.97700825  188.34372178  109.41579446\n",
      "   52.23559724   48.340825    289.73158196  -67.37160303    0.55437319\n",
      "  123.13729513   61.53485981  106.42024181    1.26365519 -140.17731746\n",
      "  -49.02230756 -257.36845124 -214.73272404    9.40260362  -91.25209556\n",
      "  264.78615089  -72.43164171  159.63952423 -318.17275377  -13.28679492\n",
      "  118.06586994   -9.78829075  263.63218708  -59.24186497  -16.5569583\n",
      "  -75.74078086   53.22881731  -82.97341867  -96.4460369    17.71646464\n",
      "  229.60783846  219.83571913 -108.86340111  125.19091114    3.90493343\n",
      " -307.6437043   119.78524754  216.7333975    48.14875586 -189.13037058\n",
      " -238.01896213  -97.90862353  323.00888828   23.37855498   67.62161234\n",
      "  -45.3961754    -2.03429464  223.86215196  -76.33715815  -45.02225567\n",
      "   19.02947527 -116.08850456  114.36840424   35.05594368  127.2014237\n",
      " -290.13061834  -41.36268261  219.36218663   93.13507699   79.56959745\n",
      "   25.86149549   50.5772595   -11.47817916   87.4137977   -22.61638096\n",
      "   10.29079632]\n"
     ]
    }
   ],
   "metadata": {}
  },
  {
   "cell_type": "code",
   "execution_count": 129,
   "source": [
    "df = pd.DataFrame(X, y)\r\n",
    "df.to_csv('first_data.csv')\r\n",
    "df.head()"
   ],
   "outputs": [
    {
     "output_type": "execute_result",
     "data": {
      "text/html": [
       "<div>\n",
       "<style scoped>\n",
       "    .dataframe tbody tr th:only-of-type {\n",
       "        vertical-align: middle;\n",
       "    }\n",
       "\n",
       "    .dataframe tbody tr th {\n",
       "        vertical-align: top;\n",
       "    }\n",
       "\n",
       "    .dataframe thead th {\n",
       "        text-align: right;\n",
       "    }\n",
       "</style>\n",
       "<table border=\"1\" class=\"dataframe\">\n",
       "  <thead>\n",
       "    <tr style=\"text-align: right;\">\n",
       "      <th></th>\n",
       "      <th>0</th>\n",
       "      <th>1</th>\n",
       "      <th>2</th>\n",
       "      <th>3</th>\n",
       "      <th>4</th>\n",
       "      <th>5</th>\n",
       "      <th>6</th>\n",
       "      <th>7</th>\n",
       "    </tr>\n",
       "  </thead>\n",
       "  <tbody>\n",
       "    <tr>\n",
       "      <th>109.092548</th>\n",
       "      <td>0.144618</td>\n",
       "      <td>1.799599</td>\n",
       "      <td>-1.002248</td>\n",
       "      <td>-0.366364</td>\n",
       "      <td>0.859592</td>\n",
       "      <td>1.477956</td>\n",
       "      <td>0.923228</td>\n",
       "      <td>-0.330169</td>\n",
       "    </tr>\n",
       "    <tr>\n",
       "      <th>63.748001</th>\n",
       "      <td>-1.554807</td>\n",
       "      <td>0.449926</td>\n",
       "      <td>0.415541</td>\n",
       "      <td>-0.273189</td>\n",
       "      <td>0.615523</td>\n",
       "      <td>-1.931995</td>\n",
       "      <td>1.259606</td>\n",
       "      <td>-0.639029</td>\n",
       "    </tr>\n",
       "    <tr>\n",
       "      <th>76.054619</th>\n",
       "      <td>1.236110</td>\n",
       "      <td>-0.204237</td>\n",
       "      <td>0.878375</td>\n",
       "      <td>-1.696196</td>\n",
       "      <td>0.368804</td>\n",
       "      <td>0.903371</td>\n",
       "      <td>-0.308526</td>\n",
       "      <td>0.232700</td>\n",
       "    </tr>\n",
       "    <tr>\n",
       "      <th>-13.443707</th>\n",
       "      <td>0.222971</td>\n",
       "      <td>0.477224</td>\n",
       "      <td>-0.503208</td>\n",
       "      <td>-0.491519</td>\n",
       "      <td>-0.437579</td>\n",
       "      <td>1.201918</td>\n",
       "      <td>0.529513</td>\n",
       "      <td>-1.263597</td>\n",
       "    </tr>\n",
       "    <tr>\n",
       "      <th>-224.831593</th>\n",
       "      <td>-1.318098</td>\n",
       "      <td>1.932923</td>\n",
       "      <td>-0.498145</td>\n",
       "      <td>-1.260078</td>\n",
       "      <td>-2.397129</td>\n",
       "      <td>0.684951</td>\n",
       "      <td>-0.294630</td>\n",
       "      <td>-0.427015</td>\n",
       "    </tr>\n",
       "  </tbody>\n",
       "</table>\n",
       "</div>"
      ],
      "text/plain": [
       "                    0         1         2         3         4         5  \\\n",
       " 109.092548  0.144618  1.799599 -1.002248 -0.366364  0.859592  1.477956   \n",
       " 63.748001  -1.554807  0.449926  0.415541 -0.273189  0.615523 -1.931995   \n",
       " 76.054619   1.236110 -0.204237  0.878375 -1.696196  0.368804  0.903371   \n",
       "-13.443707   0.222971  0.477224 -0.503208 -0.491519 -0.437579  1.201918   \n",
       "-224.831593 -1.318098  1.932923 -0.498145 -1.260078 -2.397129  0.684951   \n",
       "\n",
       "                    6         7  \n",
       " 109.092548  0.923228 -0.330169  \n",
       " 63.748001   1.259606 -0.639029  \n",
       " 76.054619  -0.308526  0.232700  \n",
       "-13.443707   0.529513 -1.263597  \n",
       "-224.831593 -0.294630 -0.427015  "
      ]
     },
     "metadata": {},
     "execution_count": 129
    }
   ],
   "metadata": {}
  },
  {
   "cell_type": "code",
   "execution_count": 130,
   "source": [
    "df.info()"
   ],
   "outputs": [
    {
     "output_type": "stream",
     "name": "stdout",
     "text": [
      "<class 'pandas.core.frame.DataFrame'>\n",
      "Float64Index: 256 entries, 109.09254751890823 to 10.290796321606479\n",
      "Data columns (total 8 columns):\n",
      " #   Column  Non-Null Count  Dtype  \n",
      "---  ------  --------------  -----  \n",
      " 0   0       256 non-null    float64\n",
      " 1   1       256 non-null    float64\n",
      " 2   2       256 non-null    float64\n",
      " 3   3       256 non-null    float64\n",
      " 4   4       256 non-null    float64\n",
      " 5   5       256 non-null    float64\n",
      " 6   6       256 non-null    float64\n",
      " 7   7       256 non-null    float64\n",
      "dtypes: float64(8)\n",
      "memory usage: 18.0 KB\n"
     ]
    }
   ],
   "metadata": {}
  },
  {
   "cell_type": "code",
   "execution_count": 131,
   "source": [
    "df.describe()"
   ],
   "outputs": [
    {
     "output_type": "execute_result",
     "data": {
      "text/html": [
       "<div>\n",
       "<style scoped>\n",
       "    .dataframe tbody tr th:only-of-type {\n",
       "        vertical-align: middle;\n",
       "    }\n",
       "\n",
       "    .dataframe tbody tr th {\n",
       "        vertical-align: top;\n",
       "    }\n",
       "\n",
       "    .dataframe thead th {\n",
       "        text-align: right;\n",
       "    }\n",
       "</style>\n",
       "<table border=\"1\" class=\"dataframe\">\n",
       "  <thead>\n",
       "    <tr style=\"text-align: right;\">\n",
       "      <th></th>\n",
       "      <th>0</th>\n",
       "      <th>1</th>\n",
       "      <th>2</th>\n",
       "      <th>3</th>\n",
       "      <th>4</th>\n",
       "      <th>5</th>\n",
       "      <th>6</th>\n",
       "      <th>7</th>\n",
       "    </tr>\n",
       "  </thead>\n",
       "  <tbody>\n",
       "    <tr>\n",
       "      <th>count</th>\n",
       "      <td>256.000000</td>\n",
       "      <td>256.000000</td>\n",
       "      <td>256.000000</td>\n",
       "      <td>256.000000</td>\n",
       "      <td>256.000000</td>\n",
       "      <td>256.000000</td>\n",
       "      <td>256.000000</td>\n",
       "      <td>256.000000</td>\n",
       "    </tr>\n",
       "    <tr>\n",
       "      <th>mean</th>\n",
       "      <td>-0.067314</td>\n",
       "      <td>-0.017236</td>\n",
       "      <td>0.024688</td>\n",
       "      <td>0.019709</td>\n",
       "      <td>-0.005090</td>\n",
       "      <td>-0.019095</td>\n",
       "      <td>-0.034122</td>\n",
       "      <td>0.105954</td>\n",
       "    </tr>\n",
       "    <tr>\n",
       "      <th>std</th>\n",
       "      <td>0.984888</td>\n",
       "      <td>1.056503</td>\n",
       "      <td>1.046961</td>\n",
       "      <td>0.923785</td>\n",
       "      <td>1.026796</td>\n",
       "      <td>1.016201</td>\n",
       "      <td>0.990198</td>\n",
       "      <td>1.045564</td>\n",
       "    </tr>\n",
       "    <tr>\n",
       "      <th>min</th>\n",
       "      <td>-2.649884</td>\n",
       "      <td>-3.713980</td>\n",
       "      <td>-3.144955</td>\n",
       "      <td>-2.392568</td>\n",
       "      <td>-2.523859</td>\n",
       "      <td>-2.421587</td>\n",
       "      <td>-3.265051</td>\n",
       "      <td>-2.620237</td>\n",
       "    </tr>\n",
       "    <tr>\n",
       "      <th>25%</th>\n",
       "      <td>-0.756302</td>\n",
       "      <td>-0.694848</td>\n",
       "      <td>-0.784606</td>\n",
       "      <td>-0.587070</td>\n",
       "      <td>-0.692550</td>\n",
       "      <td>-0.745815</td>\n",
       "      <td>-0.667229</td>\n",
       "      <td>-0.597583</td>\n",
       "    </tr>\n",
       "    <tr>\n",
       "      <th>50%</th>\n",
       "      <td>-0.041756</td>\n",
       "      <td>-0.000689</td>\n",
       "      <td>0.154508</td>\n",
       "      <td>-0.007714</td>\n",
       "      <td>-0.025460</td>\n",
       "      <td>-0.029336</td>\n",
       "      <td>-0.042499</td>\n",
       "      <td>0.096294</td>\n",
       "    </tr>\n",
       "    <tr>\n",
       "      <th>75%</th>\n",
       "      <td>0.606102</td>\n",
       "      <td>0.696401</td>\n",
       "      <td>0.774775</td>\n",
       "      <td>0.680557</td>\n",
       "      <td>0.720819</td>\n",
       "      <td>0.661844</td>\n",
       "      <td>0.575343</td>\n",
       "      <td>0.840909</td>\n",
       "    </tr>\n",
       "    <tr>\n",
       "      <th>max</th>\n",
       "      <td>2.630147</td>\n",
       "      <td>3.191670</td>\n",
       "      <td>2.955664</td>\n",
       "      <td>2.720674</td>\n",
       "      <td>2.368416</td>\n",
       "      <td>3.106127</td>\n",
       "      <td>2.465640</td>\n",
       "      <td>2.607240</td>\n",
       "    </tr>\n",
       "  </tbody>\n",
       "</table>\n",
       "</div>"
      ],
      "text/plain": [
       "                0           1           2           3           4           5  \\\n",
       "count  256.000000  256.000000  256.000000  256.000000  256.000000  256.000000   \n",
       "mean    -0.067314   -0.017236    0.024688    0.019709   -0.005090   -0.019095   \n",
       "std      0.984888    1.056503    1.046961    0.923785    1.026796    1.016201   \n",
       "min     -2.649884   -3.713980   -3.144955   -2.392568   -2.523859   -2.421587   \n",
       "25%     -0.756302   -0.694848   -0.784606   -0.587070   -0.692550   -0.745815   \n",
       "50%     -0.041756   -0.000689    0.154508   -0.007714   -0.025460   -0.029336   \n",
       "75%      0.606102    0.696401    0.774775    0.680557    0.720819    0.661844   \n",
       "max      2.630147    3.191670    2.955664    2.720674    2.368416    3.106127   \n",
       "\n",
       "                6           7  \n",
       "count  256.000000  256.000000  \n",
       "mean    -0.034122    0.105954  \n",
       "std      0.990198    1.045564  \n",
       "min     -3.265051   -2.620237  \n",
       "25%     -0.667229   -0.597583  \n",
       "50%     -0.042499    0.096294  \n",
       "75%      0.575343    0.840909  \n",
       "max      2.465640    2.607240  "
      ]
     },
     "metadata": {},
     "execution_count": 131
    }
   ],
   "metadata": {}
  },
  {
   "cell_type": "code",
   "execution_count": 132,
   "source": [
    "corr = df.corr()\r\n",
    "sns.heatmap(corr, cmap=\"Greens\")"
   ],
   "outputs": [
    {
     "output_type": "execute_result",
     "data": {
      "text/plain": [
       "<AxesSubplot:>"
      ]
     },
     "metadata": {},
     "execution_count": 132
    },
    {
     "output_type": "display_data",
     "data": {
      "image/png": "[encoded data removed]",
      "text/plain": [
       "<Figure size 432x288 with 2 Axes>"
      ]
     },
     "metadata": {
      "needs_background": "light"
     }
    }
   ],
   "metadata": {}
  },
  {
   "cell_type": "markdown",
   "source": [
    "## Пункт 2"
   ],
   "metadata": {}
  },
  {
   "cell_type": "code",
   "execution_count": 133,
   "source": [
    "df = pd.read_csv('employee_survey_data.csv')\r\n",
    "df.head()"
   ],
   "outputs": [
    {
     "output_type": "execute_result",
     "data": {
      "text/html": [
       "<div>\n",
       "<style scoped>\n",
       "    .dataframe tbody tr th:only-of-type {\n",
       "        vertical-align: middle;\n",
       "    }\n",
       "\n",
       "    .dataframe tbody tr th {\n",
       "        vertical-align: top;\n",
       "    }\n",
       "\n",
       "    .dataframe thead th {\n",
       "        text-align: right;\n",
       "    }\n",
       "</style>\n",
       "<table border=\"1\" class=\"dataframe\">\n",
       "  <thead>\n",
       "    <tr style=\"text-align: right;\">\n",
       "      <th></th>\n",
       "      <th>EmployeeID</th>\n",
       "      <th>EnvironmentSatisfaction</th>\n",
       "      <th>JobSatisfaction</th>\n",
       "      <th>WorkLifeBalance</th>\n",
       "    </tr>\n",
       "  </thead>\n",
       "  <tbody>\n",
       "    <tr>\n",
       "      <th>0</th>\n",
       "      <td>1</td>\n",
       "      <td>3</td>\n",
       "      <td>4</td>\n",
       "      <td>2</td>\n",
       "    </tr>\n",
       "    <tr>\n",
       "      <th>1</th>\n",
       "      <td>2</td>\n",
       "      <td>3</td>\n",
       "      <td>2</td>\n",
       "      <td>4</td>\n",
       "    </tr>\n",
       "    <tr>\n",
       "      <th>2</th>\n",
       "      <td>3</td>\n",
       "      <td>2</td>\n",
       "      <td>2</td>\n",
       "      <td>1</td>\n",
       "    </tr>\n",
       "    <tr>\n",
       "      <th>3</th>\n",
       "      <td>4</td>\n",
       "      <td>4</td>\n",
       "      <td>4</td>\n",
       "      <td>3</td>\n",
       "    </tr>\n",
       "    <tr>\n",
       "      <th>4</th>\n",
       "      <td>5</td>\n",
       "      <td>4</td>\n",
       "      <td>1</td>\n",
       "      <td>3</td>\n",
       "    </tr>\n",
       "  </tbody>\n",
       "</table>\n",
       "</div>"
      ],
      "text/plain": [
       "   EmployeeID  EnvironmentSatisfaction  JobSatisfaction  WorkLifeBalance\n",
       "0           1                        3                4                2\n",
       "1           2                        3                2                4\n",
       "2           3                        2                2                1\n",
       "3           4                        4                4                3\n",
       "4           5                        4                1                3"
      ]
     },
     "metadata": {},
     "execution_count": 133
    }
   ],
   "metadata": {}
  },
  {
   "cell_type": "code",
   "execution_count": 134,
   "source": [
    "df.info()"
   ],
   "outputs": [
    {
     "output_type": "stream",
     "name": "stdout",
     "text": [
      "<class 'pandas.core.frame.DataFrame'>\n",
      "RangeIndex: 4410 entries, 0 to 4409\n",
      "Data columns (total 4 columns):\n",
      " #   Column                   Non-Null Count  Dtype\n",
      "---  ------                   --------------  -----\n",
      " 0   EmployeeID               4410 non-null   int64\n",
      " 1   EnvironmentSatisfaction  4410 non-null   int64\n",
      " 2   JobSatisfaction          4410 non-null   int64\n",
      " 3   WorkLifeBalance          4410 non-null   int64\n",
      "dtypes: int64(4)\n",
      "memory usage: 137.9 KB\n"
     ]
    }
   ],
   "metadata": {}
  },
  {
   "cell_type": "code",
   "execution_count": 135,
   "source": [
    "df.describe()"
   ],
   "outputs": [
    {
     "output_type": "execute_result",
     "data": {
      "text/html": [
       "<div>\n",
       "<style scoped>\n",
       "    .dataframe tbody tr th:only-of-type {\n",
       "        vertical-align: middle;\n",
       "    }\n",
       "\n",
       "    .dataframe tbody tr th {\n",
       "        vertical-align: top;\n",
       "    }\n",
       "\n",
       "    .dataframe thead th {\n",
       "        text-align: right;\n",
       "    }\n",
       "</style>\n",
       "<table border=\"1\" class=\"dataframe\">\n",
       "  <thead>\n",
       "    <tr style=\"text-align: right;\">\n",
       "      <th></th>\n",
       "      <th>EmployeeID</th>\n",
       "      <th>EnvironmentSatisfaction</th>\n",
       "      <th>JobSatisfaction</th>\n",
       "      <th>WorkLifeBalance</th>\n",
       "    </tr>\n",
       "  </thead>\n",
       "  <tbody>\n",
       "    <tr>\n",
       "      <th>count</th>\n",
       "      <td>4410.000000</td>\n",
       "      <td>4410.000000</td>\n",
       "      <td>4410.000000</td>\n",
       "      <td>4410.000000</td>\n",
       "    </tr>\n",
       "    <tr>\n",
       "      <th>mean</th>\n",
       "      <td>2205.500000</td>\n",
       "      <td>2.714739</td>\n",
       "      <td>2.720408</td>\n",
       "      <td>2.746259</td>\n",
       "    </tr>\n",
       "    <tr>\n",
       "      <th>std</th>\n",
       "      <td>1273.201673</td>\n",
       "      <td>1.096929</td>\n",
       "      <td>1.104873</td>\n",
       "      <td>0.721799</td>\n",
       "    </tr>\n",
       "    <tr>\n",
       "      <th>min</th>\n",
       "      <td>1.000000</td>\n",
       "      <td>1.000000</td>\n",
       "      <td>1.000000</td>\n",
       "      <td>1.000000</td>\n",
       "    </tr>\n",
       "    <tr>\n",
       "      <th>25%</th>\n",
       "      <td>1103.250000</td>\n",
       "      <td>2.000000</td>\n",
       "      <td>2.000000</td>\n",
       "      <td>2.000000</td>\n",
       "    </tr>\n",
       "    <tr>\n",
       "      <th>50%</th>\n",
       "      <td>2205.500000</td>\n",
       "      <td>3.000000</td>\n",
       "      <td>3.000000</td>\n",
       "      <td>3.000000</td>\n",
       "    </tr>\n",
       "    <tr>\n",
       "      <th>75%</th>\n",
       "      <td>3307.750000</td>\n",
       "      <td>4.000000</td>\n",
       "      <td>4.000000</td>\n",
       "      <td>3.000000</td>\n",
       "    </tr>\n",
       "    <tr>\n",
       "      <th>max</th>\n",
       "      <td>4410.000000</td>\n",
       "      <td>4.000000</td>\n",
       "      <td>4.000000</td>\n",
       "      <td>4.000000</td>\n",
       "    </tr>\n",
       "  </tbody>\n",
       "</table>\n",
       "</div>"
      ],
      "text/plain": [
       "        EmployeeID  EnvironmentSatisfaction  JobSatisfaction  WorkLifeBalance\n",
       "count  4410.000000              4410.000000      4410.000000      4410.000000\n",
       "mean   2205.500000                 2.714739         2.720408         2.746259\n",
       "std    1273.201673                 1.096929         1.104873         0.721799\n",
       "min       1.000000                 1.000000         1.000000         1.000000\n",
       "25%    1103.250000                 2.000000         2.000000         2.000000\n",
       "50%    2205.500000                 3.000000         3.000000         3.000000\n",
       "75%    3307.750000                 4.000000         4.000000         3.000000\n",
       "max    4410.000000                 4.000000         4.000000         4.000000"
      ]
     },
     "metadata": {},
     "execution_count": 135
    }
   ],
   "metadata": {}
  },
  {
   "cell_type": "code",
   "execution_count": 136,
   "source": [
    "corr = df.corr()\r\n",
    "sns.heatmap(corr, cmap=\"copper_r\")"
   ],
   "outputs": [
    {
     "output_type": "execute_result",
     "data": {
      "text/plain": [
       "<AxesSubplot:>"
      ]
     },
     "metadata": {},
     "execution_count": 136
    },
    {
     "output_type": "display_data",
     "data": {
      "image/png": "[encoded data removed]",
      "text/plain": [
       "<Figure size 432x288 with 2 Axes>"
      ]
     },
     "metadata": {
      "needs_background": "light"
     }
    }
   ],
   "metadata": {}
  },
  {
   "cell_type": "code",
   "execution_count": 137,
   "source": [
    "import sklearn\r\n",
    "from sklearn.model_selection import train_test_split"
   ],
   "outputs": [],
   "metadata": {}
  },
  {
   "cell_type": "code",
   "execution_count": 138,
   "source": [
    "columns=df.columns\r\n",
    "columns=columns[:2]\r\n",
    "X=df[['EnvironmentSatisfaction', 'WorkLifeBalance']]\r\n",
    "\r\n",
    "y=df[['JobSatisfaction']]"
   ],
   "outputs": [],
   "metadata": {}
  },
  {
   "cell_type": "code",
   "execution_count": 139,
   "source": [
    "X_train,X_test,y_train,y_test = train_test_split(X,y,test_size=1)\r\n",
    "from sklearn.linear_model import LinearRegression\r\n",
    "\r\n",
    "lr = LinearRegression()\r\n",
    "\r\n",
    "lr.fit(X_train,y_train)"
   ],
   "outputs": [
    {
     "output_type": "execute_result",
     "data": {
      "text/plain": [
       "LinearRegression()"
      ]
     },
     "metadata": {},
     "execution_count": 139
    }
   ],
   "metadata": {}
  },
  {
   "cell_type": "code",
   "execution_count": 140,
   "source": [
    "y_Hat = lr.predict(X_test)"
   ],
   "outputs": [],
   "metadata": {}
  },
  {
   "cell_type": "code",
   "execution_count": 141,
   "source": [
    "from sklearn.metrics import mean_absolute_error\r\n",
    "\r\n",
    "mean_absolute_error(y_test, y_Hat)\r\n"
   ],
   "outputs": [
    {
     "output_type": "execute_result",
     "data": {
      "text/plain": [
       "1.3004143175938965"
      ]
     },
     "metadata": {},
     "execution_count": 141
    }
   ],
   "metadata": {}
  },
  {
   "cell_type": "code",
   "execution_count": 142,
   "source": [
    "from sklearn.metrics import mean_squared_error \r\n",
    "mean_squared_error(y_test, y_Hat)"
   ],
   "outputs": [
    {
     "output_type": "execute_result",
     "data": {
      "text/plain": [
       "1.6910773974031994"
      ]
     },
     "metadata": {},
     "execution_count": 142
    }
   ],
   "metadata": {}
  },
  {
   "cell_type": "code",
   "execution_count": 143,
   "source": [
    "res = pd.DataFrame(y_test)\r\n",
    "res['JobSatisfaction_predicted'] = y_Hat\r\n",
    "\r\n",
    "res.head()"
   ],
   "outputs": [
    {
     "output_type": "execute_result",
     "data": {
      "text/html": [
       "<div>\n",
       "<style scoped>\n",
       "    .dataframe tbody tr th:only-of-type {\n",
       "        vertical-align: middle;\n",
       "    }\n",
       "\n",
       "    .dataframe tbody tr th {\n",
       "        vertical-align: top;\n",
       "    }\n",
       "\n",
       "    .dataframe thead th {\n",
       "        text-align: right;\n",
       "    }\n",
       "</style>\n",
       "<table border=\"1\" class=\"dataframe\">\n",
       "  <thead>\n",
       "    <tr style=\"text-align: right;\">\n",
       "      <th></th>\n",
       "      <th>JobSatisfaction</th>\n",
       "      <th>JobSatisfaction_predicted</th>\n",
       "    </tr>\n",
       "  </thead>\n",
       "  <tbody>\n",
       "    <tr>\n",
       "      <th>1570</th>\n",
       "      <td>4</td>\n",
       "      <td>2.699586</td>\n",
       "    </tr>\n",
       "  </tbody>\n",
       "</table>\n",
       "</div>"
      ],
      "text/plain": [
       "      JobSatisfaction  JobSatisfaction_predicted\n",
       "1570                4                   2.699586"
      ]
     },
     "metadata": {},
     "execution_count": 143
    }
   ],
   "metadata": {}
  },
  {
   "cell_type": "markdown",
   "source": [
    "### Отримав трохи дивний графік"
   ],
   "metadata": {}
  },
  {
   "cell_type": "code",
   "execution_count": 144,
   "source": [
    "plt.scatter(res['JobSatisfaction'],res['JobSatisfaction_predicted'])"
   ],
   "outputs": [
    {
     "output_type": "execute_result",
     "data": {
      "text/plain": [
       "<matplotlib.collections.PathCollection at 0x29fee0b21f0>"
      ]
     },
     "metadata": {},
     "execution_count": 144
    },
    {
     "output_type": "display_data",
     "data": {
      "image/png": "[encoded data removed]",
      "text/plain": [
       "<Figure size 432x288 with 1 Axes>"
      ]
     },
     "metadata": {
      "needs_background": "light"
     }
    }
   ],
   "metadata": {}
  },
  {
   "cell_type": "markdown",
   "source": [
    "###Пункт 3"
   ],
   "metadata": {}
  },
  {
   "cell_type": "code",
   "execution_count": 145,
   "source": [
    "import random as rnd\r\n",
    "\r\n",
    "company_name = {0:'Google', 1:'Amazon', 2:'Apple', 3:'other'}\r\n",
    "sex = {0:'man', 1:'woman'}\r\n",
    "age = {0:'<45', 1:'>45'}\r\n",
    "child = {0:'0', 1:'1', 2:'2', 3:'>3'}\r\n",
    "jobSucsess = {0:'have', 1:'dont have'}\r\n",
    "marital_status = {0:'YES', 1:'NO'}\r\n",
    "data = []\r\n",
    "for i in range(0, 512):\r\n",
    "    row = []\r\n",
    "    row.append(round(rnd.uniform(1, 10)))\r\n",
    "    row.append(round(rnd.uniform(1, 10)))\r\n",
    "    row.append(sex[rnd.randint(0, 1)])\r\n",
    "    row.append(age[rnd.randint(0, 1)])\r\n",
    "    row.append(jobSucsess[rnd.randint(0, 1)])\r\n",
    "    row.append(marital_status[rnd.randint(0, 1)])\r\n",
    "    row.append(child[rnd.randint(0, 3)])\r\n",
    "    row.append(company_name[rnd.randint(0, 3)])\r\n",
    "    data.append(row)\r\n",
    "df = pd.DataFrame(data, columns=['career_Burnout', 'productivity', 'sex', 'age', 'jobSucsess', 'marital_status', 'child', 'company_name'])"
   ],
   "outputs": [],
   "metadata": {}
  },
  {
   "cell_type": "code",
   "execution_count": 146,
   "source": [
    "df.replace({'man': 0, 'woman':1, '<45': 0, '>45':1, 'have':0, 'dont have':1, 'YES':0, 'NO':1, '0':0, '1':1, '2':2, '>3':3, 'Google': 0\r\n",
    ", 'Amazon':1, 'Apple':2, 'other':3}, None, True)\r\n",
    "\r\n",
    "df.to_csv('second_data.csv')"
   ],
   "outputs": [],
   "metadata": {}
  },
  {
   "cell_type": "code",
   "execution_count": 147,
   "source": [
    "df.head()"
   ],
   "outputs": [
    {
     "output_type": "execute_result",
     "data": {
      "text/html": [
       "<div>\n",
       "<style scoped>\n",
       "    .dataframe tbody tr th:only-of-type {\n",
       "        vertical-align: middle;\n",
       "    }\n",
       "\n",
       "    .dataframe tbody tr th {\n",
       "        vertical-align: top;\n",
       "    }\n",
       "\n",
       "    .dataframe thead th {\n",
       "        text-align: right;\n",
       "    }\n",
       "</style>\n",
       "<table border=\"1\" class=\"dataframe\">\n",
       "  <thead>\n",
       "    <tr style=\"text-align: right;\">\n",
       "      <th></th>\n",
       "      <th>career_Burnout</th>\n",
       "      <th>productivity</th>\n",
       "      <th>sex</th>\n",
       "      <th>age</th>\n",
       "      <th>jobSucsess</th>\n",
       "      <th>marital_status</th>\n",
       "      <th>child</th>\n",
       "      <th>company_name</th>\n",
       "    </tr>\n",
       "  </thead>\n",
       "  <tbody>\n",
       "    <tr>\n",
       "      <th>0</th>\n",
       "      <td>2</td>\n",
       "      <td>7</td>\n",
       "      <td>0</td>\n",
       "      <td>0</td>\n",
       "      <td>0</td>\n",
       "      <td>0</td>\n",
       "      <td>3</td>\n",
       "      <td>0</td>\n",
       "    </tr>\n",
       "    <tr>\n",
       "      <th>1</th>\n",
       "      <td>1</td>\n",
       "      <td>8</td>\n",
       "      <td>1</td>\n",
       "      <td>1</td>\n",
       "      <td>1</td>\n",
       "      <td>0</td>\n",
       "      <td>3</td>\n",
       "      <td>2</td>\n",
       "    </tr>\n",
       "    <tr>\n",
       "      <th>2</th>\n",
       "      <td>9</td>\n",
       "      <td>7</td>\n",
       "      <td>1</td>\n",
       "      <td>1</td>\n",
       "      <td>1</td>\n",
       "      <td>0</td>\n",
       "      <td>3</td>\n",
       "      <td>3</td>\n",
       "    </tr>\n",
       "    <tr>\n",
       "      <th>3</th>\n",
       "      <td>4</td>\n",
       "      <td>2</td>\n",
       "      <td>0</td>\n",
       "      <td>0</td>\n",
       "      <td>0</td>\n",
       "      <td>1</td>\n",
       "      <td>2</td>\n",
       "      <td>3</td>\n",
       "    </tr>\n",
       "    <tr>\n",
       "      <th>4</th>\n",
       "      <td>7</td>\n",
       "      <td>2</td>\n",
       "      <td>1</td>\n",
       "      <td>0</td>\n",
       "      <td>1</td>\n",
       "      <td>0</td>\n",
       "      <td>2</td>\n",
       "      <td>2</td>\n",
       "    </tr>\n",
       "  </tbody>\n",
       "</table>\n",
       "</div>"
      ],
      "text/plain": [
       "   career_Burnout  productivity  sex  age  jobSucsess  marital_status  child  \\\n",
       "0               2             7    0    0           0               0      3   \n",
       "1               1             8    1    1           1               0      3   \n",
       "2               9             7    1    1           1               0      3   \n",
       "3               4             2    0    0           0               1      2   \n",
       "4               7             2    1    0           1               0      2   \n",
       "\n",
       "   company_name  \n",
       "0             0  \n",
       "1             2  \n",
       "2             3  \n",
       "3             3  \n",
       "4             2  "
      ]
     },
     "metadata": {},
     "execution_count": 147
    }
   ],
   "metadata": {}
  },
  {
   "cell_type": "code",
   "execution_count": 148,
   "source": [
    "df.info()"
   ],
   "outputs": [
    {
     "output_type": "stream",
     "name": "stdout",
     "text": [
      "<class 'pandas.core.frame.DataFrame'>\n",
      "RangeIndex: 512 entries, 0 to 511\n",
      "Data columns (total 8 columns):\n",
      " #   Column          Non-Null Count  Dtype\n",
      "---  ------          --------------  -----\n",
      " 0   career_Burnout  512 non-null    int64\n",
      " 1   productivity    512 non-null    int64\n",
      " 2   sex             512 non-null    int64\n",
      " 3   age             512 non-null    int64\n",
      " 4   jobSucsess      512 non-null    int64\n",
      " 5   marital_status  512 non-null    int64\n",
      " 6   child           512 non-null    int64\n",
      " 7   company_name    512 non-null    int64\n",
      "dtypes: int64(8)\n",
      "memory usage: 32.1 KB\n"
     ]
    }
   ],
   "metadata": {}
  },
  {
   "cell_type": "code",
   "execution_count": 149,
   "source": [
    "df.describe()"
   ],
   "outputs": [
    {
     "output_type": "execute_result",
     "data": {
      "text/html": [
       "<div>\n",
       "<style scoped>\n",
       "    .dataframe tbody tr th:only-of-type {\n",
       "        vertical-align: middle;\n",
       "    }\n",
       "\n",
       "    .dataframe tbody tr th {\n",
       "        vertical-align: top;\n",
       "    }\n",
       "\n",
       "    .dataframe thead th {\n",
       "        text-align: right;\n",
       "    }\n",
       "</style>\n",
       "<table border=\"1\" class=\"dataframe\">\n",
       "  <thead>\n",
       "    <tr style=\"text-align: right;\">\n",
       "      <th></th>\n",
       "      <th>career_Burnout</th>\n",
       "      <th>productivity</th>\n",
       "      <th>sex</th>\n",
       "      <th>age</th>\n",
       "      <th>jobSucsess</th>\n",
       "      <th>marital_status</th>\n",
       "      <th>child</th>\n",
       "      <th>company_name</th>\n",
       "    </tr>\n",
       "  </thead>\n",
       "  <tbody>\n",
       "    <tr>\n",
       "      <th>count</th>\n",
       "      <td>512.000000</td>\n",
       "      <td>512.000000</td>\n",
       "      <td>512.000000</td>\n",
       "      <td>512.000000</td>\n",
       "      <td>512.000000</td>\n",
       "      <td>512.000000</td>\n",
       "      <td>512.000000</td>\n",
       "      <td>512.000000</td>\n",
       "    </tr>\n",
       "    <tr>\n",
       "      <th>mean</th>\n",
       "      <td>5.490234</td>\n",
       "      <td>5.603516</td>\n",
       "      <td>0.570312</td>\n",
       "      <td>0.498047</td>\n",
       "      <td>0.500000</td>\n",
       "      <td>0.462891</td>\n",
       "      <td>1.496094</td>\n",
       "      <td>1.482422</td>\n",
       "    </tr>\n",
       "    <tr>\n",
       "      <th>std</th>\n",
       "      <td>2.591553</td>\n",
       "      <td>2.591765</td>\n",
       "      <td>0.495516</td>\n",
       "      <td>0.500485</td>\n",
       "      <td>0.500489</td>\n",
       "      <td>0.499109</td>\n",
       "      <td>1.124354</td>\n",
       "      <td>1.104910</td>\n",
       "    </tr>\n",
       "    <tr>\n",
       "      <th>min</th>\n",
       "      <td>1.000000</td>\n",
       "      <td>1.000000</td>\n",
       "      <td>0.000000</td>\n",
       "      <td>0.000000</td>\n",
       "      <td>0.000000</td>\n",
       "      <td>0.000000</td>\n",
       "      <td>0.000000</td>\n",
       "      <td>0.000000</td>\n",
       "    </tr>\n",
       "    <tr>\n",
       "      <th>25%</th>\n",
       "      <td>3.000000</td>\n",
       "      <td>3.000000</td>\n",
       "      <td>0.000000</td>\n",
       "      <td>0.000000</td>\n",
       "      <td>0.000000</td>\n",
       "      <td>0.000000</td>\n",
       "      <td>0.000000</td>\n",
       "      <td>0.000000</td>\n",
       "    </tr>\n",
       "    <tr>\n",
       "      <th>50%</th>\n",
       "      <td>5.500000</td>\n",
       "      <td>5.000000</td>\n",
       "      <td>1.000000</td>\n",
       "      <td>0.000000</td>\n",
       "      <td>0.500000</td>\n",
       "      <td>0.000000</td>\n",
       "      <td>2.000000</td>\n",
       "      <td>2.000000</td>\n",
       "    </tr>\n",
       "    <tr>\n",
       "      <th>75%</th>\n",
       "      <td>8.000000</td>\n",
       "      <td>8.000000</td>\n",
       "      <td>1.000000</td>\n",
       "      <td>1.000000</td>\n",
       "      <td>1.000000</td>\n",
       "      <td>1.000000</td>\n",
       "      <td>2.250000</td>\n",
       "      <td>2.000000</td>\n",
       "    </tr>\n",
       "    <tr>\n",
       "      <th>max</th>\n",
       "      <td>10.000000</td>\n",
       "      <td>10.000000</td>\n",
       "      <td>1.000000</td>\n",
       "      <td>1.000000</td>\n",
       "      <td>1.000000</td>\n",
       "      <td>1.000000</td>\n",
       "      <td>3.000000</td>\n",
       "      <td>3.000000</td>\n",
       "    </tr>\n",
       "  </tbody>\n",
       "</table>\n",
       "</div>"
      ],
      "text/plain": [
       "       career_Burnout  productivity         sex         age  jobSucsess  \\\n",
       "count      512.000000    512.000000  512.000000  512.000000  512.000000   \n",
       "mean         5.490234      5.603516    0.570312    0.498047    0.500000   \n",
       "std          2.591553      2.591765    0.495516    0.500485    0.500489   \n",
       "min          1.000000      1.000000    0.000000    0.000000    0.000000   \n",
       "25%          3.000000      3.000000    0.000000    0.000000    0.000000   \n",
       "50%          5.500000      5.000000    1.000000    0.000000    0.500000   \n",
       "75%          8.000000      8.000000    1.000000    1.000000    1.000000   \n",
       "max         10.000000     10.000000    1.000000    1.000000    1.000000   \n",
       "\n",
       "       marital_status       child  company_name  \n",
       "count      512.000000  512.000000    512.000000  \n",
       "mean         0.462891    1.496094      1.482422  \n",
       "std          0.499109    1.124354      1.104910  \n",
       "min          0.000000    0.000000      0.000000  \n",
       "25%          0.000000    0.000000      0.000000  \n",
       "50%          0.000000    2.000000      2.000000  \n",
       "75%          1.000000    2.250000      2.000000  \n",
       "max          1.000000    3.000000      3.000000  "
      ]
     },
     "metadata": {},
     "execution_count": 149
    }
   ],
   "metadata": {}
  },
  {
   "cell_type": "code",
   "execution_count": 150,
   "source": [
    "corr = df.corr()\r\n",
    "sns.heatmap(corr, cmap=\"terrain\")"
   ],
   "outputs": [
    {
     "output_type": "execute_result",
     "data": {
      "text/plain": [
       "<AxesSubplot:>"
      ]
     },
     "metadata": {},
     "execution_count": 150
    },
    {
     "output_type": "display_data",
     "data": {
      "image/png": "[encoded data removed]",
      "text/plain": [
       "<Figure size 432x288 with 2 Axes>"
      ]
     },
     "metadata": {
      "needs_background": "light"
     }
    }
   ],
   "metadata": {}
  },
  {
   "cell_type": "code",
   "execution_count": 151,
   "source": [
    "columns=df.columns\r\n",
    "columns=columns[:7]\r\n",
    "X=df[['career_Burnout', 'productivity', 'sex', 'age', 'jobSucsess', 'marital_status', 'child']]\r\n",
    "\r\n",
    "y=df[['company_name']]"
   ],
   "outputs": [],
   "metadata": {}
  },
  {
   "cell_type": "code",
   "execution_count": 152,
   "source": [
    "X_train,X_test,y_train,y_test = train_test_split(X,y,test_size=0.3)"
   ],
   "outputs": [],
   "metadata": {}
  },
  {
   "cell_type": "code",
   "execution_count": 153,
   "source": [
    "lr = LinearRegression()"
   ],
   "outputs": [],
   "metadata": {}
  },
  {
   "cell_type": "code",
   "execution_count": 154,
   "source": [
    "lr.fit(X_train,y_train)"
   ],
   "outputs": [
    {
     "output_type": "execute_result",
     "data": {
      "text/plain": [
       "LinearRegression()"
      ]
     },
     "metadata": {},
     "execution_count": 154
    }
   ],
   "metadata": {}
  },
  {
   "cell_type": "code",
   "execution_count": 155,
   "source": [
    "y_Hat = lr.predict(X_test)"
   ],
   "outputs": [],
   "metadata": {}
  },
  {
   "cell_type": "code",
   "execution_count": 156,
   "source": [
    "mean_absolute_error(y_test, y_Hat)"
   ],
   "outputs": [
    {
     "output_type": "execute_result",
     "data": {
      "text/plain": [
       "1.0165647347619071"
      ]
     },
     "metadata": {},
     "execution_count": 156
    }
   ],
   "metadata": {}
  },
  {
   "cell_type": "code",
   "execution_count": 157,
   "source": [
    "mean_squared_error(y_test, y_Hat)"
   ],
   "outputs": [
    {
     "output_type": "execute_result",
     "data": {
      "text/plain": [
       "1.330788343520466"
      ]
     },
     "metadata": {},
     "execution_count": 157
    }
   ],
   "metadata": {}
  },
  {
   "cell_type": "code",
   "execution_count": 158,
   "source": [
    "res = pd.DataFrame(y_test)\r\n",
    "res['company_name_predicted'] = y_Hat\r\n",
    "\r\n",
    "res.head()"
   ],
   "outputs": [
    {
     "output_type": "execute_result",
     "data": {
      "text/html": [
       "<div>\n",
       "<style scoped>\n",
       "    .dataframe tbody tr th:only-of-type {\n",
       "        vertical-align: middle;\n",
       "    }\n",
       "\n",
       "    .dataframe tbody tr th {\n",
       "        vertical-align: top;\n",
       "    }\n",
       "\n",
       "    .dataframe thead th {\n",
       "        text-align: right;\n",
       "    }\n",
       "</style>\n",
       "<table border=\"1\" class=\"dataframe\">\n",
       "  <thead>\n",
       "    <tr style=\"text-align: right;\">\n",
       "      <th></th>\n",
       "      <th>company_name</th>\n",
       "      <th>company_name_predicted</th>\n",
       "    </tr>\n",
       "  </thead>\n",
       "  <tbody>\n",
       "    <tr>\n",
       "      <th>88</th>\n",
       "      <td>0</td>\n",
       "      <td>1.532030</td>\n",
       "    </tr>\n",
       "    <tr>\n",
       "      <th>34</th>\n",
       "      <td>0</td>\n",
       "      <td>1.440906</td>\n",
       "    </tr>\n",
       "    <tr>\n",
       "      <th>421</th>\n",
       "      <td>0</td>\n",
       "      <td>1.468537</td>\n",
       "    </tr>\n",
       "    <tr>\n",
       "      <th>9</th>\n",
       "      <td>2</td>\n",
       "      <td>1.622371</td>\n",
       "    </tr>\n",
       "    <tr>\n",
       "      <th>426</th>\n",
       "      <td>3</td>\n",
       "      <td>1.579141</td>\n",
       "    </tr>\n",
       "  </tbody>\n",
       "</table>\n",
       "</div>"
      ],
      "text/plain": [
       "     company_name  company_name_predicted\n",
       "88              0                1.532030\n",
       "34              0                1.440906\n",
       "421             0                1.468537\n",
       "9               2                1.622371\n",
       "426             3                1.579141"
      ]
     },
     "metadata": {},
     "execution_count": 158
    }
   ],
   "metadata": {}
  },
  {
   "cell_type": "code",
   "execution_count": 159,
   "source": [
    "plt.scatter(res['company_name'],res['company_name_predicted'])"
   ],
   "outputs": [
    {
     "output_type": "error",
     "ename": "KeyError",
     "evalue": "'citizenthip'",
     "traceback": [
      "\u001b[1;31m---------------------------------------------------------------------------\u001b[0m",
      "\u001b[1;31mKeyError\u001b[0m                                  Traceback (most recent call last)",
      "\u001b[1;32m~\\AppData\\Local\\Packages\\PythonSoftwareFoundation.Python.3.9_qbz5n2kfra8p0\\LocalCache\\local-packages\\Python39\\site-packages\\pandas\\core\\indexes\\base.py\u001b[0m in \u001b[0;36mget_loc\u001b[1;34m(self, key, method, tolerance)\u001b[0m\n\u001b[0;32m   3360\u001b[0m             \u001b[1;32mtry\u001b[0m\u001b[1;33m:\u001b[0m\u001b[1;33m\u001b[0m\u001b[1;33m\u001b[0m\u001b[0m\n\u001b[1;32m-> 3361\u001b[1;33m                 \u001b[1;32mreturn\u001b[0m \u001b[0mself\u001b[0m\u001b[1;33m.\u001b[0m\u001b[0m_engine\u001b[0m\u001b[1;33m.\u001b[0m\u001b[0mget_loc\u001b[0m\u001b[1;33m(\u001b[0m\u001b[0mcasted_key\u001b[0m\u001b[1;33m)\u001b[0m\u001b[1;33m\u001b[0m\u001b[1;33m\u001b[0m\u001b[0m\n\u001b[0m\u001b[0;32m   3362\u001b[0m             \u001b[1;32mexcept\u001b[0m \u001b[0mKeyError\u001b[0m \u001b[1;32mas\u001b[0m \u001b[0merr\u001b[0m\u001b[1;33m:\u001b[0m\u001b[1;33m\u001b[0m\u001b[1;33m\u001b[0m\u001b[0m\n",
      "\u001b[1;32m~\\AppData\\Local\\Packages\\PythonSoftwareFoundation.Python.3.9_qbz5n2kfra8p0\\LocalCache\\local-packages\\Python39\\site-packages\\pandas\\_libs\\index.pyx\u001b[0m in \u001b[0;36mpandas._libs.index.IndexEngine.get_loc\u001b[1;34m()\u001b[0m\n",
      "\u001b[1;32m~\\AppData\\Local\\Packages\\PythonSoftwareFoundation.Python.3.9_qbz5n2kfra8p0\\LocalCache\\local-packages\\Python39\\site-packages\\pandas\\_libs\\index.pyx\u001b[0m in \u001b[0;36mpandas._libs.index.IndexEngine.get_loc\u001b[1;34m()\u001b[0m\n",
      "\u001b[1;32mpandas\\_libs\\hashtable_class_helper.pxi\u001b[0m in \u001b[0;36mpandas._libs.hashtable.PyObjectHashTable.get_item\u001b[1;34m()\u001b[0m\n",
      "\u001b[1;32mpandas\\_libs\\hashtable_class_helper.pxi\u001b[0m in \u001b[0;36mpandas._libs.hashtable.PyObjectHashTable.get_item\u001b[1;34m()\u001b[0m\n",
      "\u001b[1;31mKeyError\u001b[0m: 'citizenthip'",
      "\nThe above exception was the direct cause of the following exception:\n",
      "\u001b[1;31mKeyError\u001b[0m                                  Traceback (most recent call last)",
      "\u001b[1;32m~\\AppData\\Local\\Temp/ipykernel_19892/3428039158.py\u001b[0m in \u001b[0;36m<module>\u001b[1;34m\u001b[0m\n\u001b[1;32m----> 1\u001b[1;33m \u001b[0mplt\u001b[0m\u001b[1;33m.\u001b[0m\u001b[0mscatter\u001b[0m\u001b[1;33m(\u001b[0m\u001b[0mres\u001b[0m\u001b[1;33m[\u001b[0m\u001b[1;34m'citizenthip'\u001b[0m\u001b[1;33m]\u001b[0m\u001b[1;33m,\u001b[0m\u001b[0mres\u001b[0m\u001b[1;33m[\u001b[0m\u001b[1;34m'citizenthip_predicted'\u001b[0m\u001b[1;33m]\u001b[0m\u001b[1;33m)\u001b[0m\u001b[1;33m\u001b[0m\u001b[1;33m\u001b[0m\u001b[0m\n\u001b[0m",
      "\u001b[1;32m~\\AppData\\Local\\Packages\\PythonSoftwareFoundation.Python.3.9_qbz5n2kfra8p0\\LocalCache\\local-packages\\Python39\\site-packages\\pandas\\core\\frame.py\u001b[0m in \u001b[0;36m__getitem__\u001b[1;34m(self, key)\u001b[0m\n\u001b[0;32m   3456\u001b[0m             \u001b[1;32mif\u001b[0m \u001b[0mself\u001b[0m\u001b[1;33m.\u001b[0m\u001b[0mcolumns\u001b[0m\u001b[1;33m.\u001b[0m\u001b[0mnlevels\u001b[0m \u001b[1;33m>\u001b[0m \u001b[1;36m1\u001b[0m\u001b[1;33m:\u001b[0m\u001b[1;33m\u001b[0m\u001b[1;33m\u001b[0m\u001b[0m\n\u001b[0;32m   3457\u001b[0m                 \u001b[1;32mreturn\u001b[0m \u001b[0mself\u001b[0m\u001b[1;33m.\u001b[0m\u001b[0m_getitem_multilevel\u001b[0m\u001b[1;33m(\u001b[0m\u001b[0mkey\u001b[0m\u001b[1;33m)\u001b[0m\u001b[1;33m\u001b[0m\u001b[1;33m\u001b[0m\u001b[0m\n\u001b[1;32m-> 3458\u001b[1;33m             \u001b[0mindexer\u001b[0m \u001b[1;33m=\u001b[0m \u001b[0mself\u001b[0m\u001b[1;33m.\u001b[0m\u001b[0mcolumns\u001b[0m\u001b[1;33m.\u001b[0m\u001b[0mget_loc\u001b[0m\u001b[1;33m(\u001b[0m\u001b[0mkey\u001b[0m\u001b[1;33m)\u001b[0m\u001b[1;33m\u001b[0m\u001b[1;33m\u001b[0m\u001b[0m\n\u001b[0m\u001b[0;32m   3459\u001b[0m             \u001b[1;32mif\u001b[0m \u001b[0mis_integer\u001b[0m\u001b[1;33m(\u001b[0m\u001b[0mindexer\u001b[0m\u001b[1;33m)\u001b[0m\u001b[1;33m:\u001b[0m\u001b[1;33m\u001b[0m\u001b[1;33m\u001b[0m\u001b[0m\n\u001b[0;32m   3460\u001b[0m                 \u001b[0mindexer\u001b[0m \u001b[1;33m=\u001b[0m \u001b[1;33m[\u001b[0m\u001b[0mindexer\u001b[0m\u001b[1;33m]\u001b[0m\u001b[1;33m\u001b[0m\u001b[1;33m\u001b[0m\u001b[0m\n",
      "\u001b[1;32m~\\AppData\\Local\\Packages\\PythonSoftwareFoundation.Python.3.9_qbz5n2kfra8p0\\LocalCache\\local-packages\\Python39\\site-packages\\pandas\\core\\indexes\\base.py\u001b[0m in \u001b[0;36mget_loc\u001b[1;34m(self, key, method, tolerance)\u001b[0m\n\u001b[0;32m   3361\u001b[0m                 \u001b[1;32mreturn\u001b[0m \u001b[0mself\u001b[0m\u001b[1;33m.\u001b[0m\u001b[0m_engine\u001b[0m\u001b[1;33m.\u001b[0m\u001b[0mget_loc\u001b[0m\u001b[1;33m(\u001b[0m\u001b[0mcasted_key\u001b[0m\u001b[1;33m)\u001b[0m\u001b[1;33m\u001b[0m\u001b[1;33m\u001b[0m\u001b[0m\n\u001b[0;32m   3362\u001b[0m             \u001b[1;32mexcept\u001b[0m \u001b[0mKeyError\u001b[0m \u001b[1;32mas\u001b[0m \u001b[0merr\u001b[0m\u001b[1;33m:\u001b[0m\u001b[1;33m\u001b[0m\u001b[1;33m\u001b[0m\u001b[0m\n\u001b[1;32m-> 3363\u001b[1;33m                 \u001b[1;32mraise\u001b[0m \u001b[0mKeyError\u001b[0m\u001b[1;33m(\u001b[0m\u001b[0mkey\u001b[0m\u001b[1;33m)\u001b[0m \u001b[1;32mfrom\u001b[0m \u001b[0merr\u001b[0m\u001b[1;33m\u001b[0m\u001b[1;33m\u001b[0m\u001b[0m\n\u001b[0m\u001b[0;32m   3364\u001b[0m \u001b[1;33m\u001b[0m\u001b[0m\n\u001b[0;32m   3365\u001b[0m         \u001b[1;32mif\u001b[0m \u001b[0mis_scalar\u001b[0m\u001b[1;33m(\u001b[0m\u001b[0mkey\u001b[0m\u001b[1;33m)\u001b[0m \u001b[1;32mand\u001b[0m \u001b[0misna\u001b[0m\u001b[1;33m(\u001b[0m\u001b[0mkey\u001b[0m\u001b[1;33m)\u001b[0m \u001b[1;32mand\u001b[0m \u001b[1;32mnot\u001b[0m \u001b[0mself\u001b[0m\u001b[1;33m.\u001b[0m\u001b[0mhasnans\u001b[0m\u001b[1;33m:\u001b[0m\u001b[1;33m\u001b[0m\u001b[1;33m\u001b[0m\u001b[0m\n",
      "\u001b[1;31mKeyError\u001b[0m: 'citizenthip'"
     ]
    }
   ],
   "metadata": {}
  }
 ],
 "metadata": {
  "orig_nbformat": 4,
  "language_info": {
   "name": "python",
   "version": "3.9.7",
   "mimetype": "text/x-python",
   "codemirror_mode": {
    "name": "ipython",
    "version": 3
   },
   "pygments_lexer": "ipython3",
   "nbconvert_exporter": "python",
   "file_extension": ".py"
  },
  "kernelspec": {
   "name": "python3",
   "display_name": "Python 3.9.7 64-bit (windows store)"
  },
  "interpreter": {
   "hash": "1f8d80d535cfd832283e4e3a1095d2ce45fe6627336684f2622a1965babb2f1c"
  }
 },
 "nbformat": 4,
 "nbformat_minor": 2
}
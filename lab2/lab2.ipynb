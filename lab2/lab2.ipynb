{
 "cells": [
  {
   "cell_type": "markdown",
   "source": [
    "# Лабораторна робота *№2*\r\n",
    "# Студента групи МІТ-31 - підгрупа 1\r\n",
    "# **Зименка Данііла Миколайовича**\r\n",
    "\r\n",
    "## Завдання\r\n",
    "_______________________________________________________________________________________________________________________________\r\n",
    "1. Створити набір даних за допомогою DatasetGenerator\r\n",
    "2. Завантажити набір даних для регресії на сайті (у кожного студента має бути інший - прошу організуватись відповідним чином)\r\n",
    "3. (опціонально для отримання відмінної оцінки) Згенерувати набір даних для регресії на основі звичайних можливостей Python.\r\n",
    "4. Для отриманих наборів даних провести встановленні кроки моделювання.\r\n",
    "5. Отримані результати викласти на github у репозиторій ml2021 в основну (default) гілку в папці Lab2.\r\n",
    "_______________________________________________________________________________________________________________________________\r\n"
   ],
   "metadata": {}
  },
  {
   "cell_type": "code",
   "execution_count": 161,
   "source": [
    "%pip install seaborn\r\n",
    "%pip install sklearn\r\n"
   ],
   "outputs": [
    {
     "output_type": "stream",
     "name": "stdout",
     "text": [
      "Requirement already satisfied: seaborn in c:\\users\\user\\appdata\\local\\packages\\pythonsoftwarefoundation.python.3.9_qbz5n2kfra8p0\\localcache\\local-packages\\python39\\site-packages (0.11.2)\n",
      "Requirement already satisfied: scipy>=1.0 in c:\\users\\user\\appdata\\local\\packages\\pythonsoftwarefoundation.python.3.9_qbz5n2kfra8p0\\localcache\\local-packages\\python39\\site-packages (from seaborn) (1.7.1)\n",
      "Requirement already satisfied: matplotlib>=2.2 in c:\\users\\user\\appdata\\local\\packages\\pythonsoftwarefoundation.python.3.9_qbz5n2kfra8p0\\localcache\\local-packages\\python39\\site-packages (from seaborn) (3.4.3)\n",
      "Requirement already satisfied: pandas>=0.23 in c:\\users\\user\\appdata\\local\\packages\\pythonsoftwarefoundation.python.3.9_qbz5n2kfra8p0\\localcache\\local-packages\\python39\\site-packages (from seaborn) (1.3.3)\n",
      "Requirement already satisfied: numpy>=1.15 in c:\\users\\user\\appdata\\local\\packages\\pythonsoftwarefoundation.python.3.9_qbz5n2kfra8p0\\localcache\\local-packages\\python39\\site-packages (from seaborn) (1.21.2)\n",
      "Requirement already satisfied: cycler>=0.10 in c:\\users\\user\\appdata\\local\\packages\\pythonsoftwarefoundation.python.3.9_qbz5n2kfra8p0\\localcache\\local-packages\\python39\\site-packages (from matplotlib>=2.2->seaborn) (0.10.0)\n",
      "Requirement already satisfied: kiwisolver>=1.0.1 in c:\\users\\user\\appdata\\local\\packages\\pythonsoftwarefoundation.python.3.9_qbz5n2kfra8p0\\localcache\\local-packages\\python39\\site-packages (from matplotlib>=2.2->seaborn) (1.3.2)\n",
      "Requirement already satisfied: python-dateutil>=2.7 in c:\\users\\user\\appdata\\local\\packages\\pythonsoftwarefoundation.python.3.9_qbz5n2kfra8p0\\localcache\\local-packages\\python39\\site-packages (from matplotlib>=2.2->seaborn) (2.8.2)\n",
      "Requirement already satisfied: pillow>=6.2.0 in c:\\users\\user\\appdata\\local\\packages\\pythonsoftwarefoundation.python.3.9_qbz5n2kfra8p0\\localcache\\local-packages\\python39\\site-packages (from matplotlib>=2.2->seaborn) (8.3.2)\n",
      "Requirement already satisfied: pyparsing>=2.2.1 in c:\\users\\user\\appdata\\local\\packages\\pythonsoftwarefoundation.python.3.9_qbz5n2kfra8p0\\localcache\\local-packages\\python39\\site-packages (from matplotlib>=2.2->seaborn) (2.4.7)\n",
      "Requirement already satisfied: six in c:\\users\\user\\appdata\\local\\packages\\pythonsoftwarefoundation.python.3.9_qbz5n2kfra8p0\\localcache\\local-packages\\python39\\site-packages (from cycler>=0.10->matplotlib>=2.2->seaborn) (1.16.0)\n",
      "Requirement already satisfied: pytz>=2017.3 in c:\\users\\user\\appdata\\local\\packages\\pythonsoftwarefoundation.python.3.9_qbz5n2kfra8p0\\localcache\\local-packages\\python39\\site-packages (from pandas>=0.23->seaborn) (2021.1)\n",
      "Note: you may need to restart the kernel to use updated packages.\n"
     ]
    },
    {
     "output_type": "stream",
     "name": "stderr",
     "text": [
      "WARNING: You are using pip version 21.2.3; however, version 21.2.4 is available.\n",
      "You should consider upgrading via the 'C:\\Users\\User\\AppData\\Local\\Microsoft\\WindowsApps\\PythonSoftwareFoundation.Python.3.9_qbz5n2kfra8p0\\python.exe -m pip install --upgrade pip' command.\n"
     ]
    },
    {
     "output_type": "stream",
     "name": "stdout",
     "text": [
      "Requirement already satisfied: sklearn in c:\\users\\user\\appdata\\local\\packages\\pythonsoftwarefoundation.python.3.9_qbz5n2kfra8p0\\localcache\\local-packages\\python39\\site-packages (0.0)\n",
      "Requirement already satisfied: scikit-learn in c:\\users\\user\\appdata\\local\\packages\\pythonsoftwarefoundation.python.3.9_qbz5n2kfra8p0\\localcache\\local-packages\\python39\\site-packages (from sklearn) (1.0)\n",
      "Requirement already satisfied: joblib>=0.11 in c:\\users\\user\\appdata\\local\\packages\\pythonsoftwarefoundation.python.3.9_qbz5n2kfra8p0\\localcache\\local-packages\\python39\\site-packages (from scikit-learn->sklearn) (1.0.1)\n",
      "Requirement already satisfied: scipy>=1.1.0 in c:\\users\\user\\appdata\\local\\packages\\pythonsoftwarefoundation.python.3.9_qbz5n2kfra8p0\\localcache\\local-packages\\python39\\site-packages (from scikit-learn->sklearn) (1.7.1)\n",
      "Requirement already satisfied: numpy>=1.14.6 in c:\\users\\user\\appdata\\local\\packages\\pythonsoftwarefoundation.python.3.9_qbz5n2kfra8p0\\localcache\\local-packages\\python39\\site-packages (from scikit-learn->sklearn) (1.21.2)\n",
      "Requirement already satisfied: threadpoolctl>=2.0.0 in c:\\users\\user\\appdata\\local\\packages\\pythonsoftwarefoundation.python.3.9_qbz5n2kfra8p0\\localcache\\local-packages\\python39\\site-packages (from scikit-learn->sklearn) (2.2.0)\n",
      "Note: you may need to restart the kernel to use updated packages.\n"
     ]
    },
    {
     "output_type": "stream",
     "name": "stderr",
     "text": [
      "WARNING: You are using pip version 21.2.3; however, version 21.2.4 is available.\n",
      "You should consider upgrading via the 'C:\\Users\\User\\AppData\\Local\\Microsoft\\WindowsApps\\PythonSoftwareFoundation.Python.3.9_qbz5n2kfra8p0\\python.exe -m pip install --upgrade pip' command.\n"
     ]
    }
   ],
   "metadata": {}
  },
  {
   "cell_type": "code",
   "execution_count": 162,
   "source": [
    "import pandas as pd\r\n",
    "import numpy as np\r\n",
    "import matplotlib.pyplot as plt\r\n",
    "import seaborn as sns\r\n",
    "from sklearn.datasets import make_regression"
   ],
   "outputs": [],
   "metadata": {}
  },
  {
   "cell_type": "markdown",
   "source": [
    "### Пункт 1"
   ],
   "metadata": {}
  },
  {
   "cell_type": "code",
   "execution_count": 163,
   "source": [
    "X, y = make_regression(n_samples=256, n_features=8, n_informative=256, n_targets=1,  noise=0.0, shuffle=True, coef=False, random_state=None)\r\n",
    "\r\n",
    "print(X,y)"
   ],
   "outputs": [
    {
     "output_type": "stream",
     "name": "stdout",
     "text": [
      "[[-0.46968153  0.30233497  0.30639375 ...  0.06810348 -0.27940415\n",
      "   1.595535  ]\n",
      " [-0.61681961 -0.88938423  0.83150614 ...  2.05443022  1.14747423\n",
      "   0.74208388]\n",
      " [-0.37355411  0.12876861 -0.58332291 ...  2.43488959 -0.34712164\n",
      "   1.27278037]\n",
      " ...\n",
      " [-0.11094154 -0.48143822  1.30317619 ... -0.0568833   0.86645351\n",
      "  -0.83203413]\n",
      " [-0.5665372  -1.65222295 -0.57100548 ...  0.49203464 -1.30257337\n",
      "  -1.23769691]\n",
      " [ 0.29213178  0.60339369  0.64510555 ... -0.90687896 -0.37039862\n",
      "  -0.06768719]] [ 1.26280776e+02  1.01912121e+02  1.52855148e+02  9.66028923e+01\n",
      "  5.61862900e+01 -1.36735369e+02  4.54396379e+01 -1.04352093e+01\n",
      "  1.67694364e+02  1.53977030e+02  2.66804925e+02  1.61296453e+01\n",
      " -2.09291503e+01  1.71625195e+02 -6.55842942e+01 -1.59650929e+02\n",
      " -1.80221148e+02 -4.46741587e+01  8.11388156e+01  9.52263730e+01\n",
      " -6.84453334e+00 -1.08118558e+02 -1.15027181e+01 -1.08252491e+02\n",
      "  8.53012902e+01 -1.06939136e+02  1.83374448e+01  1.76551546e+01\n",
      "  2.46941786e+01  1.65872373e+00 -1.81595108e+02 -6.83728493e+00\n",
      " -1.94085048e+02  1.44053452e+02 -1.98243743e+01 -1.20433869e+01\n",
      " -2.14038115e+02  2.73967012e+01 -2.69973401e+02 -1.49216436e+01\n",
      "  6.44329077e+00 -8.02855193e+01 -1.20936475e+02 -3.34438032e-01\n",
      "  4.93693457e+01  1.32939856e+01  6.15758222e+00 -2.19001407e+02\n",
      "  3.49160958e+02  2.33120926e+02 -1.49896352e+02 -9.77815033e+01\n",
      "  1.23092536e+02  8.79760372e+01 -2.92496757e+01 -1.00164944e+02\n",
      " -1.07097304e+02  2.42343016e+02  1.98186279e+02 -4.23688716e+01\n",
      " -1.40700232e+02  1.56065961e+02 -1.52599846e+02  2.61417171e+02\n",
      "  5.24507760e+00  2.23366106e+02  4.07455263e+01  1.63771906e+02\n",
      " -1.46807231e+01  6.15819117e+01  1.41911204e+02  2.31678640e+02\n",
      " -3.42230321e+01  1.24414699e+02 -1.57747811e+02 -9.98622223e+01\n",
      " -1.39714889e+01  1.99742091e+02 -1.85352525e+02 -2.20645794e+02\n",
      " -6.71421396e+01  2.62150542e+02 -1.93427264e+02 -5.34652634e+01\n",
      "  1.10209846e+02 -1.97881687e+01  1.77301750e+01  1.05005817e+02\n",
      "  3.71369566e+01 -9.56478133e+01 -1.13415837e+02 -1.15192665e+01\n",
      " -2.28021855e+02 -2.49542604e+01  2.54578736e+02  2.23644411e+02\n",
      "  1.42064011e+02  5.95726896e+01 -3.30628590e+02 -4.03019639e+02\n",
      " -1.32197611e+02 -1.38769171e+02 -8.35616471e+01  7.99853995e+01\n",
      "  2.14844558e+02  1.20539869e+02 -4.72116166e+02  2.26969458e+02\n",
      " -3.36559083e+02 -3.12988438e+02  2.08959023e-01 -2.54818990e+02\n",
      "  4.53968825e+01 -3.99305351e+01  4.04050894e+02 -1.63187956e+02\n",
      "  2.50476470e+00 -7.86147452e+01 -2.20146896e+01  7.60791189e+01\n",
      "  1.42182690e+02  2.28339726e+01  1.16052722e+00 -1.38032977e+02\n",
      " -6.70598595e+01  3.36664496e+01 -6.95315586e+01  3.53375347e+02\n",
      "  2.04727195e+02  5.68885510e+01 -1.56371701e+02  1.49903229e+00\n",
      "  4.70322859e+01  4.83227119e+01 -1.29910168e+02  7.57204851e+01\n",
      " -4.04187274e+01  1.42125118e+02 -7.17739632e+01  2.76938770e+02\n",
      " -1.08375887e+01 -5.72453728e+01  2.65742281e+02  3.92232172e+01\n",
      " -1.45599236e+02  1.91275379e+02  1.78204248e+02 -1.69201849e+02\n",
      " -6.19106832e+01  2.01705716e+02  3.02464008e+02  8.44116614e+01\n",
      " -4.72946485e+01  1.70768951e+02 -4.34626931e+01 -8.24748219e+01\n",
      "  3.84699430e+01  1.53295529e+02 -9.58783740e+01 -4.55220226e+01\n",
      " -6.26728861e+01 -3.52473660e+02  1.64248384e+02 -1.26035473e+02\n",
      " -8.03711203e+01  2.06892353e+02 -1.90629830e+02  1.43881421e+01\n",
      "  7.36896126e+01 -1.20284156e+02  1.49326980e+02  7.13848089e+01\n",
      "  1.04935051e+02  5.84324028e+01 -4.23263228e+01 -1.45637039e+02\n",
      " -3.14002815e+02 -5.70155757e+01 -1.04669307e+02 -6.91404046e+01\n",
      "  1.46209621e+02 -2.83773138e+02 -5.62630292e+01 -1.06867852e+02\n",
      "  3.21579405e+01 -4.87419309e+01 -1.70330609e+02  1.19627675e+02\n",
      " -1.07900688e+02  1.40186658e+02  9.86491820e+01  9.15081086e+01\n",
      " -3.07670979e+02 -1.06482003e+02 -1.40943424e+01 -4.37301951e+01\n",
      " -1.85308026e+01  6.26277931e+01 -6.07851372e+01 -1.25890325e+02\n",
      " -2.14119262e+01  2.75344975e+01 -7.67267446e+00 -7.46178699e+01\n",
      " -9.93056275e+01 -9.67906515e+01 -1.24299054e+02  1.24052887e+02\n",
      " -2.32804608e+02  7.41352561e+01 -2.42724970e+01  8.87285972e+01\n",
      "  9.12233696e+01 -3.26053239e+01 -1.26946668e+01  3.80827280e+01\n",
      " -4.64663641e+01 -2.84681244e+02 -1.66920090e+02 -5.94247490e+01\n",
      " -1.29738774e+02 -1.50521843e+02 -1.57506365e+02  1.01815237e+02\n",
      " -7.74048751e+01 -3.18571129e+02 -5.17280841e+01  1.82147775e+02\n",
      "  4.02743306e+01  1.29660618e+02  1.57898063e+02  4.42180211e+01\n",
      " -2.34090782e+02 -8.19304544e+01  1.73755879e+02 -2.82598428e+02\n",
      "  1.18476351e+02 -2.80467637e+01  1.40702695e+02  5.19441448e+01\n",
      "  1.70117113e+01  8.82293061e+01  5.47862353e+00 -1.41644072e+02\n",
      "  4.57501508e+02  2.08150555e+02  1.42103471e+02 -5.94009883e-01\n",
      "  5.09082237e+01  1.28781709e+02 -6.47946392e+01  1.96456472e+02\n",
      " -4.57952529e+01 -6.28801814e+01 -2.64161180e+02 -8.30644151e+01]\n"
     ]
    }
   ],
   "metadata": {}
  },
  {
   "cell_type": "code",
   "execution_count": 164,
   "source": [
    "df = pd.DataFrame(X, y)\r\n",
    "df.to_csv('first_data.csv')\r\n",
    "df.head()"
   ],
   "outputs": [
    {
     "output_type": "execute_result",
     "data": {
      "text/html": [
       "<div>\n",
       "<style scoped>\n",
       "    .dataframe tbody tr th:only-of-type {\n",
       "        vertical-align: middle;\n",
       "    }\n",
       "\n",
       "    .dataframe tbody tr th {\n",
       "        vertical-align: top;\n",
       "    }\n",
       "\n",
       "    .dataframe thead th {\n",
       "        text-align: right;\n",
       "    }\n",
       "</style>\n",
       "<table border=\"1\" class=\"dataframe\">\n",
       "  <thead>\n",
       "    <tr style=\"text-align: right;\">\n",
       "      <th></th>\n",
       "      <th>0</th>\n",
       "      <th>1</th>\n",
       "      <th>2</th>\n",
       "      <th>3</th>\n",
       "      <th>4</th>\n",
       "      <th>5</th>\n",
       "      <th>6</th>\n",
       "      <th>7</th>\n",
       "    </tr>\n",
       "  </thead>\n",
       "  <tbody>\n",
       "    <tr>\n",
       "      <th>126.280776</th>\n",
       "      <td>-0.469682</td>\n",
       "      <td>0.302335</td>\n",
       "      <td>0.306394</td>\n",
       "      <td>-0.967843</td>\n",
       "      <td>1.461091</td>\n",
       "      <td>0.068103</td>\n",
       "      <td>-0.279404</td>\n",
       "      <td>1.595535</td>\n",
       "    </tr>\n",
       "    <tr>\n",
       "      <th>101.912121</th>\n",
       "      <td>-0.616820</td>\n",
       "      <td>-0.889384</td>\n",
       "      <td>0.831506</td>\n",
       "      <td>0.227522</td>\n",
       "      <td>-0.138897</td>\n",
       "      <td>2.054430</td>\n",
       "      <td>1.147474</td>\n",
       "      <td>0.742084</td>\n",
       "    </tr>\n",
       "    <tr>\n",
       "      <th>152.855148</th>\n",
       "      <td>-0.373554</td>\n",
       "      <td>0.128769</td>\n",
       "      <td>-0.583323</td>\n",
       "      <td>0.251786</td>\n",
       "      <td>-0.729593</td>\n",
       "      <td>2.434890</td>\n",
       "      <td>-0.347122</td>\n",
       "      <td>1.272780</td>\n",
       "    </tr>\n",
       "    <tr>\n",
       "      <th>96.602892</th>\n",
       "      <td>-1.326793</td>\n",
       "      <td>0.342550</td>\n",
       "      <td>0.806264</td>\n",
       "      <td>-0.635330</td>\n",
       "      <td>0.736052</td>\n",
       "      <td>0.392377</td>\n",
       "      <td>0.628673</td>\n",
       "      <td>1.523677</td>\n",
       "    </tr>\n",
       "    <tr>\n",
       "      <th>56.186290</th>\n",
       "      <td>1.439169</td>\n",
       "      <td>0.828419</td>\n",
       "      <td>-0.794238</td>\n",
       "      <td>-0.544245</td>\n",
       "      <td>-0.270678</td>\n",
       "      <td>-1.768652</td>\n",
       "      <td>1.855713</td>\n",
       "      <td>-0.240531</td>\n",
       "    </tr>\n",
       "  </tbody>\n",
       "</table>\n",
       "</div>"
      ],
      "text/plain": [
       "                   0         1         2         3         4         5  \\\n",
       "126.280776 -0.469682  0.302335  0.306394 -0.967843  1.461091  0.068103   \n",
       "101.912121 -0.616820 -0.889384  0.831506  0.227522 -0.138897  2.054430   \n",
       "152.855148 -0.373554  0.128769 -0.583323  0.251786 -0.729593  2.434890   \n",
       "96.602892  -1.326793  0.342550  0.806264 -0.635330  0.736052  0.392377   \n",
       "56.186290   1.439169  0.828419 -0.794238 -0.544245 -0.270678 -1.768652   \n",
       "\n",
       "                   6         7  \n",
       "126.280776 -0.279404  1.595535  \n",
       "101.912121  1.147474  0.742084  \n",
       "152.855148 -0.347122  1.272780  \n",
       "96.602892   0.628673  1.523677  \n",
       "56.186290   1.855713 -0.240531  "
      ]
     },
     "metadata": {},
     "execution_count": 164
    }
   ],
   "metadata": {}
  },
  {
   "cell_type": "code",
   "execution_count": 165,
   "source": [
    "df.info()"
   ],
   "outputs": [
    {
     "output_type": "stream",
     "name": "stdout",
     "text": [
      "<class 'pandas.core.frame.DataFrame'>\n",
      "Float64Index: 256 entries, 126.28077589853969 to -83.0644151244954\n",
      "Data columns (total 8 columns):\n",
      " #   Column  Non-Null Count  Dtype  \n",
      "---  ------  --------------  -----  \n",
      " 0   0       256 non-null    float64\n",
      " 1   1       256 non-null    float64\n",
      " 2   2       256 non-null    float64\n",
      " 3   3       256 non-null    float64\n",
      " 4   4       256 non-null    float64\n",
      " 5   5       256 non-null    float64\n",
      " 6   6       256 non-null    float64\n",
      " 7   7       256 non-null    float64\n",
      "dtypes: float64(8)\n",
      "memory usage: 18.0 KB\n"
     ]
    }
   ],
   "metadata": {}
  },
  {
   "cell_type": "code",
   "execution_count": 166,
   "source": [
    "df.describe()"
   ],
   "outputs": [
    {
     "output_type": "execute_result",
     "data": {
      "text/html": [
       "<div>\n",
       "<style scoped>\n",
       "    .dataframe tbody tr th:only-of-type {\n",
       "        vertical-align: middle;\n",
       "    }\n",
       "\n",
       "    .dataframe tbody tr th {\n",
       "        vertical-align: top;\n",
       "    }\n",
       "\n",
       "    .dataframe thead th {\n",
       "        text-align: right;\n",
       "    }\n",
       "</style>\n",
       "<table border=\"1\" class=\"dataframe\">\n",
       "  <thead>\n",
       "    <tr style=\"text-align: right;\">\n",
       "      <th></th>\n",
       "      <th>0</th>\n",
       "      <th>1</th>\n",
       "      <th>2</th>\n",
       "      <th>3</th>\n",
       "      <th>4</th>\n",
       "      <th>5</th>\n",
       "      <th>6</th>\n",
       "      <th>7</th>\n",
       "    </tr>\n",
       "  </thead>\n",
       "  <tbody>\n",
       "    <tr>\n",
       "      <th>count</th>\n",
       "      <td>256.000000</td>\n",
       "      <td>256.000000</td>\n",
       "      <td>256.000000</td>\n",
       "      <td>256.000000</td>\n",
       "      <td>256.000000</td>\n",
       "      <td>256.000000</td>\n",
       "      <td>256.000000</td>\n",
       "      <td>256.000000</td>\n",
       "    </tr>\n",
       "    <tr>\n",
       "      <th>mean</th>\n",
       "      <td>0.068328</td>\n",
       "      <td>0.020398</td>\n",
       "      <td>-0.067828</td>\n",
       "      <td>-0.066377</td>\n",
       "      <td>-0.034909</td>\n",
       "      <td>-0.058016</td>\n",
       "      <td>-0.019814</td>\n",
       "      <td>-0.037841</td>\n",
       "    </tr>\n",
       "    <tr>\n",
       "      <th>std</th>\n",
       "      <td>1.085216</td>\n",
       "      <td>0.886961</td>\n",
       "      <td>1.043089</td>\n",
       "      <td>0.946236</td>\n",
       "      <td>1.000296</td>\n",
       "      <td>1.024445</td>\n",
       "      <td>0.976509</td>\n",
       "      <td>1.010389</td>\n",
       "    </tr>\n",
       "    <tr>\n",
       "      <th>min</th>\n",
       "      <td>-3.140586</td>\n",
       "      <td>-2.198377</td>\n",
       "      <td>-3.037618</td>\n",
       "      <td>-2.641336</td>\n",
       "      <td>-2.698229</td>\n",
       "      <td>-2.619912</td>\n",
       "      <td>-2.663906</td>\n",
       "      <td>-3.450127</td>\n",
       "    </tr>\n",
       "    <tr>\n",
       "      <th>25%</th>\n",
       "      <td>-0.637409</td>\n",
       "      <td>-0.583629</td>\n",
       "      <td>-0.693579</td>\n",
       "      <td>-0.738065</td>\n",
       "      <td>-0.655971</td>\n",
       "      <td>-0.769935</td>\n",
       "      <td>-0.647312</td>\n",
       "      <td>-0.664356</td>\n",
       "    </tr>\n",
       "    <tr>\n",
       "      <th>50%</th>\n",
       "      <td>0.057537</td>\n",
       "      <td>0.084337</td>\n",
       "      <td>-0.046834</td>\n",
       "      <td>-0.098008</td>\n",
       "      <td>-0.086848</td>\n",
       "      <td>0.000254</td>\n",
       "      <td>-0.026791</td>\n",
       "      <td>-0.029426</td>\n",
       "    </tr>\n",
       "    <tr>\n",
       "      <th>75%</th>\n",
       "      <td>0.779739</td>\n",
       "      <td>0.606067</td>\n",
       "      <td>0.542123</td>\n",
       "      <td>0.551967</td>\n",
       "      <td>0.586454</td>\n",
       "      <td>0.562988</td>\n",
       "      <td>0.629131</td>\n",
       "      <td>0.526969</td>\n",
       "    </tr>\n",
       "    <tr>\n",
       "      <th>max</th>\n",
       "      <td>3.020865</td>\n",
       "      <td>2.369225</td>\n",
       "      <td>2.899994</td>\n",
       "      <td>3.217258</td>\n",
       "      <td>3.075675</td>\n",
       "      <td>2.434890</td>\n",
       "      <td>2.947217</td>\n",
       "      <td>2.944357</td>\n",
       "    </tr>\n",
       "  </tbody>\n",
       "</table>\n",
       "</div>"
      ],
      "text/plain": [
       "                0           1           2           3           4           5  \\\n",
       "count  256.000000  256.000000  256.000000  256.000000  256.000000  256.000000   \n",
       "mean     0.068328    0.020398   -0.067828   -0.066377   -0.034909   -0.058016   \n",
       "std      1.085216    0.886961    1.043089    0.946236    1.000296    1.024445   \n",
       "min     -3.140586   -2.198377   -3.037618   -2.641336   -2.698229   -2.619912   \n",
       "25%     -0.637409   -0.583629   -0.693579   -0.738065   -0.655971   -0.769935   \n",
       "50%      0.057537    0.084337   -0.046834   -0.098008   -0.086848    0.000254   \n",
       "75%      0.779739    0.606067    0.542123    0.551967    0.586454    0.562988   \n",
       "max      3.020865    2.369225    2.899994    3.217258    3.075675    2.434890   \n",
       "\n",
       "                6           7  \n",
       "count  256.000000  256.000000  \n",
       "mean    -0.019814   -0.037841  \n",
       "std      0.976509    1.010389  \n",
       "min     -2.663906   -3.450127  \n",
       "25%     -0.647312   -0.664356  \n",
       "50%     -0.026791   -0.029426  \n",
       "75%      0.629131    0.526969  \n",
       "max      2.947217    2.944357  "
      ]
     },
     "metadata": {},
     "execution_count": 166
    }
   ],
   "metadata": {}
  },
  {
   "cell_type": "code",
   "execution_count": 167,
   "source": [
    "corr = df.corr()\r\n",
    "sns.heatmap(corr, cmap=\"Greens\")"
   ],
   "outputs": [
    {
     "output_type": "execute_result",
     "data": {
      "text/plain": [
       "<AxesSubplot:>"
      ]
     },
     "metadata": {},
     "execution_count": 167
    },
    {
     "output_type": "display_data",
     "data": {
      "image/png": "[encoded data removed]",
      "text/plain": [
       "<Figure size 432x288 with 2 Axes>"
      ]
     },
     "metadata": {
      "needs_background": "light"
     }
    }
   ],
   "metadata": {}
  },
  {
   "cell_type": "markdown",
   "source": [
    "## Пункт 2"
   ],
   "metadata": {}
  },
  {
   "cell_type": "code",
   "execution_count": 168,
   "source": [
    "df = pd.read_csv('employee_survey_data.csv')\r\n",
    "df.head()"
   ],
   "outputs": [
    {
     "output_type": "execute_result",
     "data": {
      "text/html": [
       "<div>\n",
       "<style scoped>\n",
       "    .dataframe tbody tr th:only-of-type {\n",
       "        vertical-align: middle;\n",
       "    }\n",
       "\n",
       "    .dataframe tbody tr th {\n",
       "        vertical-align: top;\n",
       "    }\n",
       "\n",
       "    .dataframe thead th {\n",
       "        text-align: right;\n",
       "    }\n",
       "</style>\n",
       "<table border=\"1\" class=\"dataframe\">\n",
       "  <thead>\n",
       "    <tr style=\"text-align: right;\">\n",
       "      <th></th>\n",
       "      <th>EmployeeID</th>\n",
       "      <th>EnvironmentSatisfaction</th>\n",
       "      <th>JobSatisfaction</th>\n",
       "      <th>WorkLifeBalance</th>\n",
       "    </tr>\n",
       "  </thead>\n",
       "  <tbody>\n",
       "    <tr>\n",
       "      <th>0</th>\n",
       "      <td>1</td>\n",
       "      <td>3</td>\n",
       "      <td>4</td>\n",
       "      <td>2</td>\n",
       "    </tr>\n",
       "    <tr>\n",
       "      <th>1</th>\n",
       "      <td>2</td>\n",
       "      <td>3</td>\n",
       "      <td>2</td>\n",
       "      <td>4</td>\n",
       "    </tr>\n",
       "    <tr>\n",
       "      <th>2</th>\n",
       "      <td>3</td>\n",
       "      <td>2</td>\n",
       "      <td>2</td>\n",
       "      <td>1</td>\n",
       "    </tr>\n",
       "    <tr>\n",
       "      <th>3</th>\n",
       "      <td>4</td>\n",
       "      <td>4</td>\n",
       "      <td>4</td>\n",
       "      <td>3</td>\n",
       "    </tr>\n",
       "    <tr>\n",
       "      <th>4</th>\n",
       "      <td>5</td>\n",
       "      <td>4</td>\n",
       "      <td>1</td>\n",
       "      <td>3</td>\n",
       "    </tr>\n",
       "  </tbody>\n",
       "</table>\n",
       "</div>"
      ],
      "text/plain": [
       "   EmployeeID  EnvironmentSatisfaction  JobSatisfaction  WorkLifeBalance\n",
       "0           1                        3                4                2\n",
       "1           2                        3                2                4\n",
       "2           3                        2                2                1\n",
       "3           4                        4                4                3\n",
       "4           5                        4                1                3"
      ]
     },
     "metadata": {},
     "execution_count": 168
    }
   ],
   "metadata": {}
  },
  {
   "cell_type": "code",
   "execution_count": 169,
   "source": [
    "df.info()"
   ],
   "outputs": [
    {
     "output_type": "stream",
     "name": "stdout",
     "text": [
      "<class 'pandas.core.frame.DataFrame'>\n",
      "RangeIndex: 4410 entries, 0 to 4409\n",
      "Data columns (total 4 columns):\n",
      " #   Column                   Non-Null Count  Dtype\n",
      "---  ------                   --------------  -----\n",
      " 0   EmployeeID               4410 non-null   int64\n",
      " 1   EnvironmentSatisfaction  4410 non-null   int64\n",
      " 2   JobSatisfaction          4410 non-null   int64\n",
      " 3   WorkLifeBalance          4410 non-null   int64\n",
      "dtypes: int64(4)\n",
      "memory usage: 137.9 KB\n"
     ]
    }
   ],
   "metadata": {}
  },
  {
   "cell_type": "code",
   "execution_count": 170,
   "source": [
    "df.describe()"
   ],
   "outputs": [
    {
     "output_type": "execute_result",
     "data": {
      "text/html": [
       "<div>\n",
       "<style scoped>\n",
       "    .dataframe tbody tr th:only-of-type {\n",
       "        vertical-align: middle;\n",
       "    }\n",
       "\n",
       "    .dataframe tbody tr th {\n",
       "        vertical-align: top;\n",
       "    }\n",
       "\n",
       "    .dataframe thead th {\n",
       "        text-align: right;\n",
       "    }\n",
       "</style>\n",
       "<table border=\"1\" class=\"dataframe\">\n",
       "  <thead>\n",
       "    <tr style=\"text-align: right;\">\n",
       "      <th></th>\n",
       "      <th>EmployeeID</th>\n",
       "      <th>EnvironmentSatisfaction</th>\n",
       "      <th>JobSatisfaction</th>\n",
       "      <th>WorkLifeBalance</th>\n",
       "    </tr>\n",
       "  </thead>\n",
       "  <tbody>\n",
       "    <tr>\n",
       "      <th>count</th>\n",
       "      <td>4410.000000</td>\n",
       "      <td>4410.000000</td>\n",
       "      <td>4410.000000</td>\n",
       "      <td>4410.000000</td>\n",
       "    </tr>\n",
       "    <tr>\n",
       "      <th>mean</th>\n",
       "      <td>2205.500000</td>\n",
       "      <td>2.714739</td>\n",
       "      <td>2.720408</td>\n",
       "      <td>2.746259</td>\n",
       "    </tr>\n",
       "    <tr>\n",
       "      <th>std</th>\n",
       "      <td>1273.201673</td>\n",
       "      <td>1.096929</td>\n",
       "      <td>1.104873</td>\n",
       "      <td>0.721799</td>\n",
       "    </tr>\n",
       "    <tr>\n",
       "      <th>min</th>\n",
       "      <td>1.000000</td>\n",
       "      <td>1.000000</td>\n",
       "      <td>1.000000</td>\n",
       "      <td>1.000000</td>\n",
       "    </tr>\n",
       "    <tr>\n",
       "      <th>25%</th>\n",
       "      <td>1103.250000</td>\n",
       "      <td>2.000000</td>\n",
       "      <td>2.000000</td>\n",
       "      <td>2.000000</td>\n",
       "    </tr>\n",
       "    <tr>\n",
       "      <th>50%</th>\n",
       "      <td>2205.500000</td>\n",
       "      <td>3.000000</td>\n",
       "      <td>3.000000</td>\n",
       "      <td>3.000000</td>\n",
       "    </tr>\n",
       "    <tr>\n",
       "      <th>75%</th>\n",
       "      <td>3307.750000</td>\n",
       "      <td>4.000000</td>\n",
       "      <td>4.000000</td>\n",
       "      <td>3.000000</td>\n",
       "    </tr>\n",
       "    <tr>\n",
       "      <th>max</th>\n",
       "      <td>4410.000000</td>\n",
       "      <td>4.000000</td>\n",
       "      <td>4.000000</td>\n",
       "      <td>4.000000</td>\n",
       "    </tr>\n",
       "  </tbody>\n",
       "</table>\n",
       "</div>"
      ],
      "text/plain": [
       "        EmployeeID  EnvironmentSatisfaction  JobSatisfaction  WorkLifeBalance\n",
       "count  4410.000000              4410.000000      4410.000000      4410.000000\n",
       "mean   2205.500000                 2.714739         2.720408         2.746259\n",
       "std    1273.201673                 1.096929         1.104873         0.721799\n",
       "min       1.000000                 1.000000         1.000000         1.000000\n",
       "25%    1103.250000                 2.000000         2.000000         2.000000\n",
       "50%    2205.500000                 3.000000         3.000000         3.000000\n",
       "75%    3307.750000                 4.000000         4.000000         3.000000\n",
       "max    4410.000000                 4.000000         4.000000         4.000000"
      ]
     },
     "metadata": {},
     "execution_count": 170
    }
   ],
   "metadata": {}
  },
  {
   "cell_type": "code",
   "execution_count": 171,
   "source": [
    "corr = df.corr()\r\n",
    "sns.heatmap(corr, cmap=\"copper_r\")"
   ],
   "outputs": [
    {
     "output_type": "execute_result",
     "data": {
      "text/plain": [
       "<AxesSubplot:>"
      ]
     },
     "metadata": {},
     "execution_count": 171
    },
    {
     "output_type": "display_data",
     "data": {
      "image/png": "[encoded data removed]",
      "text/plain": [
       "<Figure size 432x288 with 2 Axes>"
      ]
     },
     "metadata": {
      "needs_background": "light"
     }
    }
   ],
   "metadata": {}
  },
  {
   "cell_type": "code",
   "execution_count": 172,
   "source": [
    "import sklearn\r\n",
    "from sklearn.model_selection import train_test_split"
   ],
   "outputs": [],
   "metadata": {}
  },
  {
   "cell_type": "code",
   "execution_count": 173,
   "source": [
    "columns=df.columns\r\n",
    "columns=columns[:2]\r\n",
    "X=df[['EnvironmentSatisfaction', 'WorkLifeBalance']]\r\n",
    "\r\n",
    "y=df[['JobSatisfaction']]"
   ],
   "outputs": [],
   "metadata": {}
  },
  {
   "cell_type": "code",
   "execution_count": 174,
   "source": [
    "X_train,X_test,y_train,y_test = train_test_split(X,y,test_size=1)\r\n",
    "from sklearn.linear_model import LinearRegression\r\n",
    "\r\n",
    "lr = LinearRegression()\r\n",
    "\r\n",
    "lr.fit(X_train,y_train)"
   ],
   "outputs": [
    {
     "output_type": "execute_result",
     "data": {
      "text/plain": [
       "LinearRegression()"
      ]
     },
     "metadata": {},
     "execution_count": 174
    }
   ],
   "metadata": {}
  },
  {
   "cell_type": "code",
   "execution_count": 175,
   "source": [
    "y_Hat = lr.predict(X_test)"
   ],
   "outputs": [],
   "metadata": {}
  },
  {
   "cell_type": "code",
   "execution_count": 176,
   "source": [
    "from sklearn.metrics import mean_absolute_error\r\n",
    "\r\n",
    "mean_absolute_error(y_test, y_Hat)\r\n"
   ],
   "outputs": [
    {
     "output_type": "execute_result",
     "data": {
      "text/plain": [
       "1.3004143175938965"
      ]
     },
     "metadata": {},
     "execution_count": 176
    }
   ],
   "metadata": {}
  },
  {
   "cell_type": "code",
   "execution_count": 177,
   "source": [
    "from sklearn.metrics import mean_squared_error \r\n",
    "mean_squared_error(y_test, y_Hat)"
   ],
   "outputs": [
    {
     "output_type": "execute_result",
     "data": {
      "text/plain": [
       "1.6910773974031994"
      ]
     },
     "metadata": {},
     "execution_count": 177
    }
   ],
   "metadata": {}
  },
  {
   "cell_type": "code",
   "execution_count": 178,
   "source": [
    "res = pd.DataFrame(y_test)\r\n",
    "res['JobSatisfaction_predicted'] = y_Hat\r\n",
    "\r\n",
    "res.head()"
   ],
   "outputs": [
    {
     "output_type": "execute_result",
     "data": {
      "text/html": [
       "<div>\n",
       "<style scoped>\n",
       "    .dataframe tbody tr th:only-of-type {\n",
       "        vertical-align: middle;\n",
       "    }\n",
       "\n",
       "    .dataframe tbody tr th {\n",
       "        vertical-align: top;\n",
       "    }\n",
       "\n",
       "    .dataframe thead th {\n",
       "        text-align: right;\n",
       "    }\n",
       "</style>\n",
       "<table border=\"1\" class=\"dataframe\">\n",
       "  <thead>\n",
       "    <tr style=\"text-align: right;\">\n",
       "      <th></th>\n",
       "      <th>JobSatisfaction</th>\n",
       "      <th>JobSatisfaction_predicted</th>\n",
       "    </tr>\n",
       "  </thead>\n",
       "  <tbody>\n",
       "    <tr>\n",
       "      <th>1916</th>\n",
       "      <td>4</td>\n",
       "      <td>2.699586</td>\n",
       "    </tr>\n",
       "  </tbody>\n",
       "</table>\n",
       "</div>"
      ],
      "text/plain": [
       "      JobSatisfaction  JobSatisfaction_predicted\n",
       "1916                4                   2.699586"
      ]
     },
     "metadata": {},
     "execution_count": 178
    }
   ],
   "metadata": {}
  },
  {
   "cell_type": "markdown",
   "source": [
    "### Отримав трохи дивний графік"
   ],
   "metadata": {}
  },
  {
   "cell_type": "code",
   "execution_count": 179,
   "source": [
    "plt.scatter(res['JobSatisfaction'],res['JobSatisfaction_predicted'])"
   ],
   "outputs": [
    {
     "output_type": "execute_result",
     "data": {
      "text/plain": [
       "<matplotlib.collections.PathCollection at 0x29fee5a5f10>"
      ]
     },
     "metadata": {},
     "execution_count": 179
    },
    {
     "output_type": "display_data",
     "data": {
      "image/png": "[encoded data removed]",
      "text/plain": [
       "<Figure size 432x288 with 1 Axes>"
      ]
     },
     "metadata": {
      "needs_background": "light"
     }
    }
   ],
   "metadata": {}
  },
  {
   "cell_type": "markdown",
   "source": [
    "###Пункт 3"
   ],
   "metadata": {}
  },
  {
   "cell_type": "code",
   "execution_count": 180,
   "source": [
    "import random as rnd\r\n",
    "\r\n",
    "company_name = {0:'Google', 1:'Amazon', 2:'Apple', 3:'other'}\r\n",
    "sex = {0:'man', 1:'woman'}\r\n",
    "age = {0:'<45', 1:'>45'}\r\n",
    "child = {0:'0', 1:'1', 2:'2', 3:'>3'}\r\n",
    "jobSucsess = {0:'have', 1:'dont have'}\r\n",
    "marital_status = {0:'YES', 1:'NO'}\r\n",
    "data = []\r\n",
    "for i in range(0, 512):\r\n",
    "    row = []\r\n",
    "    row.append(round(rnd.uniform(1, 10)))\r\n",
    "    row.append(round(rnd.uniform(1, 10)))\r\n",
    "    row.append(sex[rnd.randint(0, 1)])\r\n",
    "    row.append(age[rnd.randint(0, 1)])\r\n",
    "    row.append(jobSucsess[rnd.randint(0, 1)])\r\n",
    "    row.append(marital_status[rnd.randint(0, 1)])\r\n",
    "    row.append(child[rnd.randint(0, 3)])\r\n",
    "    row.append(company_name[rnd.randint(0, 3)])\r\n",
    "    data.append(row)\r\n",
    "df = pd.DataFrame(data, columns=['career_Burnout', 'productivity', 'sex', 'age', 'jobSucsess', 'marital_status', 'child', 'company_name'])"
   ],
   "outputs": [],
   "metadata": {}
  },
  {
   "cell_type": "code",
   "execution_count": 181,
   "source": [
    "df.replace({'man': 0, 'woman':1, '<45': 0, '>45':1, 'have':0, 'dont have':1, 'YES':0, 'NO':1, '0':0, '1':1, '2':2, '>3':3, 'Google': 0\r\n",
    ", 'Amazon':1, 'Apple':2, 'other':3}, None, True)\r\n",
    "\r\n",
    "df.to_csv('second_data.csv')"
   ],
   "outputs": [],
   "metadata": {}
  },
  {
   "cell_type": "code",
   "execution_count": 182,
   "source": [
    "df.head()"
   ],
   "outputs": [
    {
     "output_type": "execute_result",
     "data": {
      "text/html": [
       "<div>\n",
       "<style scoped>\n",
       "    .dataframe tbody tr th:only-of-type {\n",
       "        vertical-align: middle;\n",
       "    }\n",
       "\n",
       "    .dataframe tbody tr th {\n",
       "        vertical-align: top;\n",
       "    }\n",
       "\n",
       "    .dataframe thead th {\n",
       "        text-align: right;\n",
       "    }\n",
       "</style>\n",
       "<table border=\"1\" class=\"dataframe\">\n",
       "  <thead>\n",
       "    <tr style=\"text-align: right;\">\n",
       "      <th></th>\n",
       "      <th>career_Burnout</th>\n",
       "      <th>productivity</th>\n",
       "      <th>sex</th>\n",
       "      <th>age</th>\n",
       "      <th>jobSucsess</th>\n",
       "      <th>marital_status</th>\n",
       "      <th>child</th>\n",
       "      <th>company_name</th>\n",
       "    </tr>\n",
       "  </thead>\n",
       "  <tbody>\n",
       "    <tr>\n",
       "      <th>0</th>\n",
       "      <td>6</td>\n",
       "      <td>7</td>\n",
       "      <td>1</td>\n",
       "      <td>0</td>\n",
       "      <td>1</td>\n",
       "      <td>0</td>\n",
       "      <td>1</td>\n",
       "      <td>2</td>\n",
       "    </tr>\n",
       "    <tr>\n",
       "      <th>1</th>\n",
       "      <td>5</td>\n",
       "      <td>2</td>\n",
       "      <td>1</td>\n",
       "      <td>1</td>\n",
       "      <td>0</td>\n",
       "      <td>0</td>\n",
       "      <td>1</td>\n",
       "      <td>1</td>\n",
       "    </tr>\n",
       "    <tr>\n",
       "      <th>2</th>\n",
       "      <td>4</td>\n",
       "      <td>4</td>\n",
       "      <td>1</td>\n",
       "      <td>0</td>\n",
       "      <td>0</td>\n",
       "      <td>0</td>\n",
       "      <td>3</td>\n",
       "      <td>3</td>\n",
       "    </tr>\n",
       "    <tr>\n",
       "      <th>3</th>\n",
       "      <td>1</td>\n",
       "      <td>5</td>\n",
       "      <td>0</td>\n",
       "      <td>0</td>\n",
       "      <td>0</td>\n",
       "      <td>0</td>\n",
       "      <td>2</td>\n",
       "      <td>1</td>\n",
       "    </tr>\n",
       "    <tr>\n",
       "      <th>4</th>\n",
       "      <td>9</td>\n",
       "      <td>8</td>\n",
       "      <td>0</td>\n",
       "      <td>1</td>\n",
       "      <td>0</td>\n",
       "      <td>0</td>\n",
       "      <td>0</td>\n",
       "      <td>1</td>\n",
       "    </tr>\n",
       "  </tbody>\n",
       "</table>\n",
       "</div>"
      ],
      "text/plain": [
       "   career_Burnout  productivity  sex  age  jobSucsess  marital_status  child  \\\n",
       "0               6             7    1    0           1               0      1   \n",
       "1               5             2    1    1           0               0      1   \n",
       "2               4             4    1    0           0               0      3   \n",
       "3               1             5    0    0           0               0      2   \n",
       "4               9             8    0    1           0               0      0   \n",
       "\n",
       "   company_name  \n",
       "0             2  \n",
       "1             1  \n",
       "2             3  \n",
       "3             1  \n",
       "4             1  "
      ]
     },
     "metadata": {},
     "execution_count": 182
    }
   ],
   "metadata": {}
  },
  {
   "cell_type": "code",
   "execution_count": 183,
   "source": [
    "df.info()"
   ],
   "outputs": [
    {
     "output_type": "stream",
     "name": "stdout",
     "text": [
      "<class 'pandas.core.frame.DataFrame'>\n",
      "RangeIndex: 512 entries, 0 to 511\n",
      "Data columns (total 8 columns):\n",
      " #   Column          Non-Null Count  Dtype\n",
      "---  ------          --------------  -----\n",
      " 0   career_Burnout  512 non-null    int64\n",
      " 1   productivity    512 non-null    int64\n",
      " 2   sex             512 non-null    int64\n",
      " 3   age             512 non-null    int64\n",
      " 4   jobSucsess      512 non-null    int64\n",
      " 5   marital_status  512 non-null    int64\n",
      " 6   child           512 non-null    int64\n",
      " 7   company_name    512 non-null    int64\n",
      "dtypes: int64(8)\n",
      "memory usage: 32.1 KB\n"
     ]
    }
   ],
   "metadata": {}
  },
  {
   "cell_type": "code",
   "execution_count": 184,
   "source": [
    "df.describe()"
   ],
   "outputs": [
    {
     "output_type": "execute_result",
     "data": {
      "text/html": [
       "<div>\n",
       "<style scoped>\n",
       "    .dataframe tbody tr th:only-of-type {\n",
       "        vertical-align: middle;\n",
       "    }\n",
       "\n",
       "    .dataframe tbody tr th {\n",
       "        vertical-align: top;\n",
       "    }\n",
       "\n",
       "    .dataframe thead th {\n",
       "        text-align: right;\n",
       "    }\n",
       "</style>\n",
       "<table border=\"1\" class=\"dataframe\">\n",
       "  <thead>\n",
       "    <tr style=\"text-align: right;\">\n",
       "      <th></th>\n",
       "      <th>career_Burnout</th>\n",
       "      <th>productivity</th>\n",
       "      <th>sex</th>\n",
       "      <th>age</th>\n",
       "      <th>jobSucsess</th>\n",
       "      <th>marital_status</th>\n",
       "      <th>child</th>\n",
       "      <th>company_name</th>\n",
       "    </tr>\n",
       "  </thead>\n",
       "  <tbody>\n",
       "    <tr>\n",
       "      <th>count</th>\n",
       "      <td>512.000000</td>\n",
       "      <td>512.000000</td>\n",
       "      <td>512.000000</td>\n",
       "      <td>512.000000</td>\n",
       "      <td>512.000000</td>\n",
       "      <td>512.000000</td>\n",
       "      <td>512.000000</td>\n",
       "      <td>512.000000</td>\n",
       "    </tr>\n",
       "    <tr>\n",
       "      <th>mean</th>\n",
       "      <td>5.351562</td>\n",
       "      <td>5.541016</td>\n",
       "      <td>0.498047</td>\n",
       "      <td>0.519531</td>\n",
       "      <td>0.500000</td>\n",
       "      <td>0.513672</td>\n",
       "      <td>1.595703</td>\n",
       "      <td>1.544922</td>\n",
       "    </tr>\n",
       "    <tr>\n",
       "      <th>std</th>\n",
       "      <td>2.649343</td>\n",
       "      <td>2.612307</td>\n",
       "      <td>0.500485</td>\n",
       "      <td>0.500107</td>\n",
       "      <td>0.500489</td>\n",
       "      <td>0.500302</td>\n",
       "      <td>1.091965</td>\n",
       "      <td>1.150994</td>\n",
       "    </tr>\n",
       "    <tr>\n",
       "      <th>min</th>\n",
       "      <td>1.000000</td>\n",
       "      <td>1.000000</td>\n",
       "      <td>0.000000</td>\n",
       "      <td>0.000000</td>\n",
       "      <td>0.000000</td>\n",
       "      <td>0.000000</td>\n",
       "      <td>0.000000</td>\n",
       "      <td>0.000000</td>\n",
       "    </tr>\n",
       "    <tr>\n",
       "      <th>25%</th>\n",
       "      <td>3.000000</td>\n",
       "      <td>3.000000</td>\n",
       "      <td>0.000000</td>\n",
       "      <td>0.000000</td>\n",
       "      <td>0.000000</td>\n",
       "      <td>0.000000</td>\n",
       "      <td>1.000000</td>\n",
       "      <td>0.000000</td>\n",
       "    </tr>\n",
       "    <tr>\n",
       "      <th>50%</th>\n",
       "      <td>5.000000</td>\n",
       "      <td>6.000000</td>\n",
       "      <td>0.000000</td>\n",
       "      <td>1.000000</td>\n",
       "      <td>0.500000</td>\n",
       "      <td>1.000000</td>\n",
       "      <td>2.000000</td>\n",
       "      <td>2.000000</td>\n",
       "    </tr>\n",
       "    <tr>\n",
       "      <th>75%</th>\n",
       "      <td>8.000000</td>\n",
       "      <td>8.000000</td>\n",
       "      <td>1.000000</td>\n",
       "      <td>1.000000</td>\n",
       "      <td>1.000000</td>\n",
       "      <td>1.000000</td>\n",
       "      <td>3.000000</td>\n",
       "      <td>3.000000</td>\n",
       "    </tr>\n",
       "    <tr>\n",
       "      <th>max</th>\n",
       "      <td>10.000000</td>\n",
       "      <td>10.000000</td>\n",
       "      <td>1.000000</td>\n",
       "      <td>1.000000</td>\n",
       "      <td>1.000000</td>\n",
       "      <td>1.000000</td>\n",
       "      <td>3.000000</td>\n",
       "      <td>3.000000</td>\n",
       "    </tr>\n",
       "  </tbody>\n",
       "</table>\n",
       "</div>"
      ],
      "text/plain": [
       "       career_Burnout  productivity         sex         age  jobSucsess  \\\n",
       "count      512.000000    512.000000  512.000000  512.000000  512.000000   \n",
       "mean         5.351562      5.541016    0.498047    0.519531    0.500000   \n",
       "std          2.649343      2.612307    0.500485    0.500107    0.500489   \n",
       "min          1.000000      1.000000    0.000000    0.000000    0.000000   \n",
       "25%          3.000000      3.000000    0.000000    0.000000    0.000000   \n",
       "50%          5.000000      6.000000    0.000000    1.000000    0.500000   \n",
       "75%          8.000000      8.000000    1.000000    1.000000    1.000000   \n",
       "max         10.000000     10.000000    1.000000    1.000000    1.000000   \n",
       "\n",
       "       marital_status       child  company_name  \n",
       "count      512.000000  512.000000    512.000000  \n",
       "mean         0.513672    1.595703      1.544922  \n",
       "std          0.500302    1.091965      1.150994  \n",
       "min          0.000000    0.000000      0.000000  \n",
       "25%          0.000000    1.000000      0.000000  \n",
       "50%          1.000000    2.000000      2.000000  \n",
       "75%          1.000000    3.000000      3.000000  \n",
       "max          1.000000    3.000000      3.000000  "
      ]
     },
     "metadata": {},
     "execution_count": 184
    }
   ],
   "metadata": {}
  },
  {
   "cell_type": "code",
   "execution_count": 185,
   "source": [
    "corr = df.corr()\r\n",
    "sns.heatmap(corr, cmap=\"terrain\")"
   ],
   "outputs": [
    {
     "output_type": "execute_result",
     "data": {
      "text/plain": [
       "<AxesSubplot:>"
      ]
     },
     "metadata": {},
     "execution_count": 185
    },
    {
     "output_type": "display_data",
     "data": {
      "image/png": "[encoded data removed]",
      "text/plain": [
       "<Figure size 432x288 with 2 Axes>"
      ]
     },
     "metadata": {
      "needs_background": "light"
     }
    }
   ],
   "metadata": {}
  },
  {
   "cell_type": "code",
   "execution_count": 186,
   "source": [
    "columns=df.columns\r\n",
    "columns=columns[:7]\r\n",
    "X=df[['career_Burnout', 'productivity', 'sex', 'age', 'jobSucsess', 'marital_status', 'child']]\r\n",
    "\r\n",
    "y=df[['company_name']]"
   ],
   "outputs": [],
   "metadata": {}
  },
  {
   "cell_type": "code",
   "execution_count": 187,
   "source": [
    "X_train,X_test,y_train,y_test = train_test_split(X,y,test_size=0.3)"
   ],
   "outputs": [],
   "metadata": {}
  },
  {
   "cell_type": "code",
   "execution_count": 188,
   "source": [
    "lr = LinearRegression()"
   ],
   "outputs": [],
   "metadata": {}
  },
  {
   "cell_type": "code",
   "execution_count": 189,
   "source": [
    "lr.fit(X_train,y_train)"
   ],
   "outputs": [
    {
     "output_type": "execute_result",
     "data": {
      "text/plain": [
       "LinearRegression()"
      ]
     },
     "metadata": {},
     "execution_count": 189
    }
   ],
   "metadata": {}
  },
  {
   "cell_type": "code",
   "execution_count": 190,
   "source": [
    "y_Hat = lr.predict(X_test)"
   ],
   "outputs": [],
   "metadata": {}
  },
  {
   "cell_type": "code",
   "execution_count": 191,
   "source": [
    "mean_absolute_error(y_test, y_Hat)"
   ],
   "outputs": [
    {
     "output_type": "execute_result",
     "data": {
      "text/plain": [
       "1.046169617698456"
      ]
     },
     "metadata": {},
     "execution_count": 191
    }
   ],
   "metadata": {}
  },
  {
   "cell_type": "code",
   "execution_count": 192,
   "source": [
    "mean_squared_error(y_test, y_Hat)"
   ],
   "outputs": [
    {
     "output_type": "execute_result",
     "data": {
      "text/plain": [
       "1.4118856709210033"
      ]
     },
     "metadata": {},
     "execution_count": 192
    }
   ],
   "metadata": {}
  },
  {
   "cell_type": "code",
   "execution_count": 193,
   "source": [
    "res = pd.DataFrame(y_test)\r\n",
    "res['company_name_predicted'] = y_Hat\r\n",
    "\r\n",
    "res.head()"
   ],
   "outputs": [
    {
     "output_type": "execute_result",
     "data": {
      "text/html": [
       "<div>\n",
       "<style scoped>\n",
       "    .dataframe tbody tr th:only-of-type {\n",
       "        vertical-align: middle;\n",
       "    }\n",
       "\n",
       "    .dataframe tbody tr th {\n",
       "        vertical-align: top;\n",
       "    }\n",
       "\n",
       "    .dataframe thead th {\n",
       "        text-align: right;\n",
       "    }\n",
       "</style>\n",
       "<table border=\"1\" class=\"dataframe\">\n",
       "  <thead>\n",
       "    <tr style=\"text-align: right;\">\n",
       "      <th></th>\n",
       "      <th>company_name</th>\n",
       "      <th>company_name_predicted</th>\n",
       "    </tr>\n",
       "  </thead>\n",
       "  <tbody>\n",
       "    <tr>\n",
       "      <th>330</th>\n",
       "      <td>1</td>\n",
       "      <td>1.600119</td>\n",
       "    </tr>\n",
       "    <tr>\n",
       "      <th>378</th>\n",
       "      <td>2</td>\n",
       "      <td>1.765756</td>\n",
       "    </tr>\n",
       "    <tr>\n",
       "      <th>10</th>\n",
       "      <td>3</td>\n",
       "      <td>1.407255</td>\n",
       "    </tr>\n",
       "    <tr>\n",
       "      <th>358</th>\n",
       "      <td>2</td>\n",
       "      <td>1.526219</td>\n",
       "    </tr>\n",
       "    <tr>\n",
       "      <th>336</th>\n",
       "      <td>1</td>\n",
       "      <td>1.323979</td>\n",
       "    </tr>\n",
       "  </tbody>\n",
       "</table>\n",
       "</div>"
      ],
      "text/plain": [
       "     company_name  company_name_predicted\n",
       "330             1                1.600119\n",
       "378             2                1.765756\n",
       "10              3                1.407255\n",
       "358             2                1.526219\n",
       "336             1                1.323979"
      ]
     },
     "metadata": {},
     "execution_count": 193
    }
   ],
   "metadata": {}
  },
  {
   "cell_type": "code",
   "execution_count": 194,
   "source": [
    "plt.scatter(res['company_name'],res['company_name_predicted'])"
   ],
   "outputs": [
    {
     "output_type": "execute_result",
     "data": {
      "text/plain": [
       "<matplotlib.collections.PathCollection at 0x29fee8dc2b0>"
      ]
     },
     "metadata": {},
     "execution_count": 194
    },
    {
     "output_type": "display_data",
     "data": {
      "image/png": "[encoded data removed]",
      "text/plain": [
       "<Figure size 432x288 with 1 Axes>"
      ]
     },
     "metadata": {
      "needs_background": "light"
     }
    }
   ],
   "metadata": {}
  },
  {
   "cell_type": "markdown",
   "source": [
    "##  Всі завдання виконані. Всі права захищені.\r\n",
    "## Зименок Данііл 2021 ©"
   ],
   "metadata": {}
  }
 ],
 "metadata": {
  "orig_nbformat": 4,
  "language_info": {
   "name": "python",
   "version": "3.9.7",
   "mimetype": "text/x-python",
   "codemirror_mode": {
    "name": "ipython",
    "version": 3
   },
   "pygments_lexer": "ipython3",
   "nbconvert_exporter": "python",
   "file_extension": ".py"
  },
  "kernelspec": {
   "name": "python3",
   "display_name": "Python 3.9.7 64-bit (windows store)"
  },
  "interpreter": {
   "hash": "1f8d80d535cfd832283e4e3a1095d2ce45fe6627336684f2622a1965babb2f1c"
  }
 },
 "nbformat": 4,
 "nbformat_minor": 2
}